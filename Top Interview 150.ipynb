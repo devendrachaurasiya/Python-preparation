{
 "cells": [
  {
   "cell_type": "code",
   "execution_count": 11,
   "id": "def0c972",
   "metadata": {},
   "outputs": [
    {
     "name": "stdout",
     "output_type": "stream",
     "text": [
      "[1, 1, 1, 2, 3, 6]\n"
     ]
    }
   ],
   "source": [
    "#88. Merge Sorted Array\n",
    "\"\"\"You are given two integer arrays nums1 and nums2, sorted in non-decreasing order, and two integers m and n, representing the number of elements in nums1 and nums2 respectively.\n",
    "\n",
    "Merge nums1 and nums2 into a single array sorted in non-decreasing order.\n",
    "\n",
    "The final sorted array should not be returned by the function, but instead be stored inside the array nums1. To accommodate this, nums1 has a length of m + n, where the first m elements denote the elements that should be merged, and the last n elements are set to 0 and should be ignored. nums2 has a length of n.\n",
    "\n",
    "\"\"\";\n",
    "nums1 = [1,2,3,0,0,0]; m = 3;nums2 = [1,1,6];n = 3\n",
    "def merge_sorted_array(num1,m,num2,n):\n",
    "    i = m-1\n",
    "    j = n-1\n",
    "    k = m + n -1\n",
    "    while j >= 0:\n",
    "        if num1[i] > num2[j]:\n",
    "            num1[k] = num1[i]\n",
    "            i-=1\n",
    "        else:\n",
    "            num1[k] = num2[j]\n",
    "            j-=1\n",
    "        k-=1\n",
    "            \n",
    "    print(num1)\n",
    "        \n",
    "merge_sorted_array(nums1,m,nums2,n)"
   ]
  },
  {
   "cell_type": "code",
   "execution_count": 18,
   "id": "9442a280",
   "metadata": {},
   "outputs": [
    {
     "name": "stdout",
     "output_type": "stream",
     "text": [
      "2\n"
     ]
    }
   ],
   "source": [
    "#27. Remove Element\n",
    "nums = [3,2,2,3];val = 3\n",
    "n = len(nums)\n",
    "i = 0\n",
    "k = 0\n",
    "while i < n:\n",
    "    if nums[i] == val:\n",
    "        nums.remove(nums[i])\n",
    "        n-=1\n",
    "    else:\n",
    "        k+=1\n",
    "        i+=1\n",
    "        \n",
    "\n",
    "print(k)"
   ]
  },
  {
   "cell_type": "code",
   "execution_count": 42,
   "id": "b5585021",
   "metadata": {},
   "outputs": [
    {
     "data": {
      "text/plain": [
       "[1, 2]"
      ]
     },
     "execution_count": 42,
     "metadata": {},
     "output_type": "execute_result"
    }
   ],
   "source": [
    "\"\"\"#26. Remove Duplicates from Sorted Array\n",
    "Given an integer array nums sorted in non-decreasing order, remove the duplicates \n",
    "in-place such that each unique element appears only once. The relative order of the \n",
    "elements should be kept the same. Then return the number of unique elements in nums.\n",
    "Input: nums = [0,0,1,1,1,2,2,3,3,4]\n",
    "Output: 5, nums = [0,1,2,3,4,_,_,_,_,_]\n",
    "\"\"\"\n",
    "nums = [1,1,2]\n",
    "n = len(nums)\n",
    "i = 0\n",
    "j = 1\n",
    "while i < n and j < n:\n",
    "    if nums[i] == nums[j]:\n",
    "        nums.remove(nums[i])\n",
    "        n-=1\n",
    "\n",
    "        \n",
    "    else:\n",
    "        i=j\n",
    "        j+=1\n",
    "nums\n"
   ]
  },
  {
   "cell_type": "code",
   "execution_count": 8,
   "id": "9355fa42",
   "metadata": {},
   "outputs": [
    {
     "data": {
      "text/plain": [
       "[0, 0, 1, 1, 2, 3, 3]"
      ]
     },
     "execution_count": 8,
     "metadata": {},
     "output_type": "execute_result"
    }
   ],
   "source": [
    "\"\"\"80. Remove Duplicates from Sorted Array II\n",
    "Given an integer array nums sorted in non-decreasing order, remove some duplicates\n",
    "in-place such that each unique element appears at most twice. The relative order of \n",
    "the elements should be kept the same.\n",
    "\n",
    "Since it is impossible to change the length of the array in some languages, you must \n",
    "instead have the result be placed in the first part of the array nums. More formally,\n",
    "if there are k elements after removing the duplicates, then the first k elements of \n",
    "nums should hold the final result. It does not matter what you leave beyond the first\n",
    "k elements.\n",
    "Input: nums = [0,0,1,1,1,1,2,3,3]\n",
    "Output: 7, nums = [0,0,1,1,2,3,3,_,_]\n",
    "\"\"\";\n",
    "nums = [0,0,1,1,1,1,2,3,3]\n",
    "n = len(nums)\n",
    "\n",
    "i = 0\n",
    "j = 1\n",
    "count = 1\n",
    "while i < n and j < n:\n",
    "    if nums[i] == nums[j]:\n",
    "        count+=1\n",
    "        if count > 2:\n",
    "            nums.remove(nums[j])\n",
    "            n-=1\n",
    "            count-=1\n",
    "        else:\n",
    "            j+=1\n",
    "    else:\n",
    "        i=j\n",
    "        j+=1\n",
    "        count=1\n",
    "\n",
    "nums"
   ]
  },
  {
   "cell_type": "code",
   "execution_count": 15,
   "id": "90887536",
   "metadata": {},
   "outputs": [
    {
     "name": "stdout",
     "output_type": "stream",
     "text": [
      "3\n"
     ]
    }
   ],
   "source": [
    "\"\"\"169. Majority Element\n",
    "\n",
    "Given an array nums of size n, return the majority element.\n",
    "\n",
    "The majority element is the element that appears more than ⌊n / 2⌋ times. You may assume that the majority element always exists in the array.\n",
    "\n",
    "Example 1:\n",
    "\n",
    "Input: nums = [3,2,3]\n",
    "Output: 3\"\"\"\n",
    "def majority(nums):\n",
    "    max_times = 0\n",
    "    n = len(nums)\n",
    "    for i in set(nums):\n",
    "        if nums.count(i) > max_times:\n",
    "            max_times = nums.count(i)\n",
    "            max_number = i\n",
    "\n",
    "    if max_times > n/2:\n",
    "        return max_number\n",
    "nums = [3,2,3]\n",
    "print(majority(nums))"
   ]
  },
  {
   "cell_type": "code",
   "execution_count": 16,
   "id": "ac64e157",
   "metadata": {},
   "outputs": [],
   "source": [
    "\"\"\"Given an integer array nums, rotate the array to the right by k steps, where k is non-negative.\n",
    "Example 1:\n",
    "\n",
    "Input: nums = [1,2,3,4,5,6,7], k = 3\n",
    "Output: [5,6,7,1,2,3,4]\n",
    "Explanation:\n",
    "rotate 1 steps to the right: [7,1,2,3,4,5,6]\n",
    "rotate 2 steps to the right: [6,7,1,2,3,4,5]\n",
    "rotate 3 steps to the right: [5,6,7,1,2,3,4]\"\"\"\n",
    "nums = [1,2,3,4,5,6,7]; k = 3\n"
   ]
  },
  {
   "cell_type": "code",
   "execution_count": 58,
   "id": "cde7531a",
   "metadata": {},
   "outputs": [
    {
     "data": {
      "text/plain": [
       "[5, 6, 7, 1, 2, 3, 4]"
      ]
     },
     "execution_count": 58,
     "metadata": {},
     "output_type": "execute_result"
    }
   ],
   "source": [
    "nums = [1,2,3,4,5,6,7]\n",
    "k = 3\n",
    "n = len(nums)-1\n",
    "for _ in range(k):\n",
    "    nums.insert(0,nums[n])\n",
    "    nums.pop()\n",
    "nums\n",
    "# another method\n",
    "\"\"\"n = len(nums)        \n",
    "k %= n\n",
    "second = nums[n - k:]\n",
    "first = nums[0: n - k]\n",
    "\n",
    "nums[:] = second + first\"\"\""
   ]
  },
  {
   "cell_type": "code",
   "execution_count": 68,
   "id": "d17728f9",
   "metadata": {},
   "outputs": [
    {
     "name": "stdout",
     "output_type": "stream",
     "text": [
      "5\n"
     ]
    }
   ],
   "source": [
    "\"\"\"121. Best Time to Buy and Sell Stock\n",
    "\n",
    "You are given an array prices where prices[i] is the price of a given stock on the ith day.\n",
    "\n",
    "You want to maximize your profit by choosing a single day to buy one stock and choosing a different day in the future to sell that stock.\n",
    "\n",
    "Return the maximum profit you can achieve from this transaction. If you cannot achieve any profit, return 0.\n",
    "\n",
    "Example 1:\n",
    "\n",
    "Input: prices = [7,1,5,3,6,4]\n",
    "Output: 5\n",
    "Explanation: Buy on day 2 (price = 1) and sell on day 5 (price = 6), profit = 6-1 = 5.\n",
    "Note that buying on day 2 and selling on day 1 is not allowed because you must buy before you sell.\"\"\"\n",
    "prices = [7,1,5,3,6,4]\n",
    "max_profit = 0\n",
    "min_price = float('inf')\n",
    "for price in prices:\n",
    "    if price < min_price:\n",
    "        min_price=price\n",
    "    elif price-min_price > max_profit:\n",
    "        max_profit = price-min_price\n",
    "print(max_profit)\n"
   ]
  },
  {
   "cell_type": "code",
   "execution_count": 7,
   "id": "9ede945c",
   "metadata": {},
   "outputs": [
    {
     "name": "stdout",
     "output_type": "stream",
     "text": [
      "0\n"
     ]
    }
   ],
   "source": [
    "\"\"\"122. Best Time to Buy and Sell Stock II\n",
    "You are given an integer array prices where prices[i] is the price of a given stock on the ith day.\n",
    "\n",
    "On each day, you may decide to buy and/or sell the stock. You can only hold at most one share of the stock at any time. However, you can buy it then immediately sell it on the same day.\n",
    "\n",
    "Find and return the maximum profit you can achieve.\n",
    "\n",
    " \n",
    "\n",
    "Example 1:\n",
    "\n",
    "Input: prices = [7,1,5,3,6,4]\n",
    "Output: 7\n",
    "Explanation: Buy on day 2 (price = 1) and sell on day 3 (price = 5), profit = 5-1 = 4.\n",
    "Then buy on day 4 (price = 3) and sell on day 5 (price = 6), profit = 6-3 = 3.\n",
    "Total profit is 4 + 3 = 7.\"\"\"\n",
    "\n",
    "prices = [7,6,4,3,1]\n",
    "profit = 0\n",
    "min_price = float('inf')\n",
    "for price in prices:\n",
    "    if price < min_price:\n",
    "        min_price = price\n",
    "    else:\n",
    "        profit+=price-min_price\n",
    "        min_price = price\n",
    "print(profit)"
   ]
  },
  {
   "cell_type": "code",
   "execution_count": 50,
   "id": "cbc3eb2b",
   "metadata": {},
   "outputs": [
    {
     "name": "stdout",
     "output_type": "stream",
     "text": [
      "True\n"
     ]
    }
   ],
   "source": [
    "\"\"\"55. Jump Game\n",
    "You are given an integer array nums. You are initially positioned at the array's first index, and each element in the array represents your maximum jump length at that position.\n",
    "\n",
    "Return true if you can reach the last index, or false otherwise.\n",
    "\n",
    " \n",
    "\n",
    "Example 1:\n",
    "\n",
    "Input: nums = [0,1]\n",
    "Output: true\n",
    "Explanation: Jump 1 step from index 0 to 1, then 3 steps to the last index.\n",
    "Example 2:\n",
    "\n",
    "Input: nums = [2,1]\n",
    "Output: false\n",
    "Explanation: You will always arrive at index 3 no matter what. Its maximum jump length is 0, which makes it impossible to reach the last index.\"\"\"\n",
    "\n",
    "nums = [3,0,8,2,0,0,1]\n",
    "\n",
    "def jump(nums):\n",
    "    output = False\n",
    "    index = len(nums)-1\n",
    "    if len(nums) == 1:\n",
    "        return True\n",
    "    elif nums[0] == 0 and len(nums) != 1:\n",
    "        return False\n",
    "    else:\n",
    "        for i in range(0,len(nums)):\n",
    "            for j in range(1,nums[i]+1):\n",
    "                if i+j == index and nums[i+j]!=0:\n",
    "                    return True\n",
    "        return False\n",
    "    \n",
    "print(jump(nums))"
   ]
  },
  {
   "cell_type": "code",
   "execution_count": null,
   "id": "0e2728a6",
   "metadata": {},
   "outputs": [],
   "source": [
    "l1 = [3,2,1,0,4]\n",
    "[]"
   ]
  },
  {
   "cell_type": "code",
   "execution_count": 8,
   "id": "823cdb1e",
   "metadata": {},
   "outputs": [
    {
     "data": {
      "text/plain": [
       "0"
      ]
     },
     "execution_count": 8,
     "metadata": {},
     "output_type": "execute_result"
    }
   ],
   "source": [
    "num = -121\n",
    "temp = 0\n",
    "while num > 1:\n",
    "    rem = num % 10\n",
    "    num = num//10\n",
    "    temp+=rem*pow(10,len(str(num)))\n",
    "    print(temp,num)\n",
    "temp\n",
    "    "
   ]
  },
  {
   "cell_type": "code",
   "execution_count": 3,
   "id": "61b692bd",
   "metadata": {},
   "outputs": [
    {
     "data": {
      "text/plain": [
       "-1"
      ]
     },
     "execution_count": 3,
     "metadata": {},
     "output_type": "execute_result"
    }
   ],
   "source": [
    "#28. Find the Index of the First Occurrence in a String\n",
    "haystack = \"leetcode\";needle = \"leeto\"\n",
    "haystack.find(needle)"
   ]
  },
  {
   "cell_type": "code",
   "execution_count": 39,
   "id": "cf201521",
   "metadata": {},
   "outputs": [
    {
     "name": "stdout",
     "output_type": "stream",
     "text": [
      "8\n",
      "yes\n"
     ]
    }
   ],
   "source": [
    "# another solution\n",
    "haystack = \"leetcodeleeto\";needle = \"leeto\"\n",
    "len1 = len(haystack)\n",
    "len2 = len(needle)\n",
    "i = 0\n",
    "while i <= len1:\n",
    "    if haystack[i:len2+i] == needle:\n",
    "        print(i)\n",
    "        print(\"yes\")\n",
    "        break\n",
    "    else:\n",
    "        i+=1\n",
    "        "
   ]
  },
  {
   "cell_type": "code",
   "execution_count": 3,
   "id": "541dfc83",
   "metadata": {},
   "outputs": [],
   "source": [
    "\"\"\"#238. Product of Array Except Self\n",
    "Given an integer array nums, return an array answer such that answer[i] is equal to the product of all the elements of nums except nums[i].\n",
    "\n",
    "The product of any prefix or suffix of nums is guaranteed to fit in a 32-bit integer.\n",
    "\n",
    "You must write an algorithm that runs in O(n) time and without using the division operation.\n",
    "\n",
    " \n",
    "\n",
    "Example 1:\n",
    "\n",
    "Input: nums = [1,2,3,4]\n",
    "Output: [24,12,8,6]\n",
    "\"\"\";\n",
    "nums = [1,2,3,4,5]\n",
    "length = len(nums)\n",
    "product = [1] * length\n",
    "for i in range(1,length):\n",
    "    product[i] = product[i-1]*nums[i-1]\n",
    "right = nums[-1]\n",
    "for i in range(length-2,-1,-1):\n",
    "    product[i]*=right\n",
    "    right*=nums[i]\n",
    "print(product)\n"
   ]
  },
  {
   "cell_type": "code",
   "execution_count": 5,
   "id": "ea1ad5b2",
   "metadata": {},
   "outputs": [
    {
     "name": "stdout",
     "output_type": "stream",
     "text": [
      "[0, 0, 9, 0, 0]\n"
     ]
    }
   ],
   "source": [
    "# Not good for long array\n",
    "from functools import reduce\n",
    "def mul(x,y):\n",
    "    return x*y\n",
    "answer = []\n",
    "nums = [-1,1,0,-3,3]\n",
    "i = 0\n",
    "j = 1\n",
    "prev_mul=1\n",
    "length = len(nums)\n",
    "while i <= length and j <= length and length >1:\n",
    "    prev = nums[0:i]\n",
    "    next_l = nums[i+1:length]\n",
    "    i = j\n",
    "    j+=1\n",
    "    if prev:\n",
    "        prev_mul = reduce(mul,prev)\n",
    "        if next_l:\n",
    "            prev_mul*=reduce(lambda x,y: x*y,next_l)\n",
    "            answer.append(prev_mul)\n",
    "    else:\n",
    "        answer.append(reduce(lambda x,y: x*y,next_l))\n",
    "answer.append(prev_mul)\n",
    "        \n",
    "print(answer)\n",
    "            \n",
    "    \n",
    "    "
   ]
  },
  {
   "cell_type": "code",
   "execution_count": null,
   "id": "baf3e792",
   "metadata": {},
   "outputs": [],
   "source": [
    "#380. Insert Delete GetRandom O(1)\n",
    "\"\"\"Implement the RandomizedSet class:\n",
    "\n",
    "RandomizedSet() Initializes the RandomizedSet object.\n",
    "bool insert(int val) Inserts an item val into the set if not present. Returns true if the item was not present, false otherwise.\n",
    "bool remove(int val) Removes an item val from the set if present. Returns true if the item was present, false otherwise.\n",
    "int getRandom() Returns a random element from the current set of elements (it's guaranteed that at least one element exists when this method is called). Each element must have the same probability of being returned.\n",
    "You must implement the functions of the class such that each function works in average O(1) time complexity.\n",
    "\n",
    "Input\n",
    "[\"RandomizedSet\", \"insert\", \"remove\", \"insert\", \"getRandom\", \"remove\", \"insert\", \"getRandom\"]\n",
    "[[], [1], [2], [2], [], [1], [2], []]\n",
    "Output\n",
    "[null, true, false, true, 2, true, false, 2]\n",
    "\n",
    "Explanation\n",
    "RandomizedSet randomizedSet = new RandomizedSet();\n",
    "randomizedSet.insert(1); // Inserts 1 to the set. Returns true as 1 was inserted successfully.\n",
    "randomizedSet.remove(2); // Returns false as 2 does not exist in the set.\n",
    "randomizedSet.insert(2); // Inserts 2 to the set, returns true. Set now contains [1,2].\n",
    "randomizedSet.getRandom(); // getRandom() should return either 1 or 2 randomly.\n",
    "randomizedSet.remove(1); // Removes 1 from the set, returns true. Set now contains [2].\n",
    "randomizedSet.insert(2); // 2 was already in the set, so return false.\n",
    "randomizedSet.getRandom(); // Since 2 is the only number in the set, getRandom() will always return 2.\n",
    "\"\"\"\n",
    "\n",
    "class RandomizedSet:\n",
    "\n",
    "    def __init__(self):\n",
    "        self.data = []\n",
    "    def insert(self, val: int) -> bool:\n",
    "        if val in self.data:\n",
    "            return False\n",
    "        else:\n",
    "            self.data.append(val)\n",
    "            return True\n",
    "\n",
    "    def remove(self, val: int) -> bool:\n",
    "        if val in self.data:\n",
    "            self.data.remove(val)\n",
    "            return True\n",
    "        else:\n",
    "            return False\n",
    "\n",
    "    def getRandom(self) -> int:\n",
    "        return random.choice(self.data)"
   ]
  },
  {
   "cell_type": "code",
   "execution_count": null,
   "id": "174f89da",
   "metadata": {},
   "outputs": [],
   "source": [
    "#135. Candy\n",
    "\"\"\"You are giving candies to these children subjected to the following requirements:\n",
    "\n",
    "Each child must have at least one candy.\n",
    "Children with a higher rating get more candies than their neighbors.\n",
    "Return the minimum number of candies you need to have to distribute the candies to the children.\n",
    "Input: ratings = [1,0,2]->5\n",
    "another input # = [1,2,2] ->4\n",
    "                = [1,3,2,2,1]->7\n",
    "\n",
    "Output: 5\n",
    "Explanation: You can allocate to the first, second and third child with 2, 1, 2\n",
    " \"\"\""
   ]
  },
  {
   "cell_type": "code",
   "execution_count": 111,
   "id": "f398a369",
   "metadata": {},
   "outputs": [
    {
     "name": "stdout",
     "output_type": "stream",
     "text": [
      "[1, 2, 1, 1, 1]\n",
      "[1, 2, 1, 1, 1]\n",
      "[1, 2, 1, 1, 1]\n",
      "[1, 2, 1, 1, 1]\n",
      "****\n",
      "[1, 2, 1, 2, 1]\n",
      "[1, 2, 1, 2, 1]\n",
      "[1, 2, 1, 2, 1]\n",
      "[1, 2, 1, 2, 1]\n",
      "7\n"
     ]
    }
   ],
   "source": [
    "ratings = [1,3,2,2,1]\n",
    "n = len(ratings)\n",
    "candies = [1] * n  # Step 1: Give each child 1 candy initially\n",
    "\n",
    "# Step 2: Left to Right pass\n",
    "for i in range(1, n):\n",
    "    if ratings[i] > ratings[i - 1]:\n",
    "        candies[i] = candies[i - 1] + 1\n",
    "    print(candies)\n",
    "print(\"****\")\n",
    "# Step 3: Right to Left pass\n",
    "for i in range(n - 2, -1, -1):\n",
    "    if ratings[i] > ratings[i + 1]:\n",
    "        candies[i] = max(candies[i], candies[i + 1] + 1)\n",
    "    print(candies)\n",
    "\n",
    "# Step 4: Return total candies\n",
    "print(sum(candies))"
   ]
  },
  {
   "cell_type": "code",
   "execution_count": 25,
   "id": "9485b1af",
   "metadata": {},
   "outputs": [
    {
     "data": {
      "text/plain": [
       "0"
      ]
     },
     "execution_count": 25,
     "metadata": {},
     "output_type": "execute_result"
    }
   ],
   "source": [
    "n = len(ratings)\n",
    "cnt = 0\n",
    "candies = [1] * n\n",
    "for i in range(1, n):\n",
    "    if ratings[i] > ratings[i - 1]:\n",
    "        candies[i] = candies[i - 1] + 1\n",
    "for i in range(n - 1, 0, -1):\n",
    "    if ratings[i - 1] > ratings[i]:\n",
    "        candies[i - 1] = max(candies[i] + 1, candies[i - 1])\n",
    "    cnt += candies[i - 1]\n",
    "print(cnt + candies[n - 1])"
   ]
  },
  {
   "cell_type": "code",
   "execution_count": 46,
   "id": "681c351b",
   "metadata": {},
   "outputs": [
    {
     "data": {
      "text/plain": [
       "['I', 'II']"
      ]
     },
     "execution_count": 46,
     "metadata": {},
     "output_type": "execute_result"
    }
   ],
   "source": [
    "s1 = \"III\"\n",
    "\n",
    "# first always single, rest in pairs\n",
    "pairs = [s1[0]] + [s1[i:i+2] for i in range(1, len(s1), 2)]\n",
    "pairs"
   ]
  },
  {
   "cell_type": "code",
   "execution_count": 32,
   "id": "16617917",
   "metadata": {},
   "outputs": [
    {
     "name": "stdout",
     "output_type": "stream",
     "text": [
      "4\n"
     ]
    }
   ],
   "source": [
    "\"\"\"MMCDXXV-VI,Example 1:\n",
    "\n",
    "Input: s = \"III\"\n",
    "Output: 3\n",
    "Explanation: III = 3.\n",
    "Example 2:\n",
    "\n",
    "Input: s = \"LVIII\"\n",
    "Output: 58\n",
    "Explanation: L = 50, V= 5, III = 3.\n",
    "Example 3:\n",
    "\n",
    "Input: s = \"MCMXCIV\"\n",
    "Output: 1994\n",
    "Explanation: M = 1000, CM = 900, XC = 90 and IV = 4.\n",
    " \"\"\"\n",
    "def romanToInt(s: str) -> int:\n",
    "    roman_to_int = {\n",
    "        'I': 1, 'V': 5, 'X': 10, 'L': 50,\n",
    "        'C': 100, 'D': 500, 'M': 1000\n",
    "    }\n",
    "    result = 0\n",
    "    for i in range(len(s)):\n",
    "        if i + 1 < len(s) and roman_to_int[s[i]] < roman_to_int[s[i + 1]]:\n",
    "            result -= roman_to_int[s[i]]\n",
    "        else:\n",
    "            result += roman_to_int[s[i]]\n",
    "    return result\n",
    "print(romanToInt(\"IV\"))"
   ]
  },
  {
   "cell_type": "code",
   "execution_count": null,
   "id": "9028baf5",
   "metadata": {},
   "outputs": [],
   "source": [
    "\"\"\"12. Integer to Roman\n",
    "Roman numerals are formed by appending the conversions of decimal place values from highest to lowest. Converting a decimal place value into a Roman numeral has the following rules:\n",
    "\n",
    "If the value does not start with 4 or 9, select the symbol of the maximal value that can be subtracted from the input, append that symbol to the result, subtract its value, and convert the remainder to a Roman numeral.\n",
    "If the value starts with 4 or 9 use the subtractive form representing one symbol subtracted from the following symbol, for example, 4 is 1 (I) less than 5 (V): IV and 9 is 1 (I) less than 10 (X): IX. Only the following subtractive forms are used: 4 (IV), 9 (IX), 40 (XL), 90 (XC), 400 (CD) and 900 (CM).\n",
    "Only powers of 10 (I, X, C, M) can be appended consecutively at most 3 times to represent multiples of 10. You cannot append 5 (V), 50 (L), or 500 (D) multiple times. If you need to append a symbol 4 times use the subtractive form.\n",
    "Given an integer, convert it to a Roman numeral.\n",
    "\"\"\"\n",
    "\n"
   ]
  },
  {
   "cell_type": "code",
   "execution_count": 51,
   "id": "ca099bcd",
   "metadata": {},
   "outputs": [
    {
     "data": {
      "text/plain": [
       "4"
      ]
     },
     "execution_count": 51,
     "metadata": {},
     "output_type": "execute_result"
    }
   ],
   "source": [
    "s1 = \"   fly me   to   the moon  \"\n",
    "len(s.split()[-1])\n",
    "# for i in re.search('[a-z A-Z]',s1):\n",
    "#     print(i)"
   ]
  },
  {
   "cell_type": "code",
   "execution_count": null,
   "id": "35804d13",
   "metadata": {},
   "outputs": [],
   "source": [
    "\"\"\"14. Longest Common Prefix\n",
    "Write a function to find the longest common prefix string amongst an array of strings.\n",
    "\n",
    "If there is no common prefix, return an empty string \"\".\n",
    "\n",
    "Example 1:\n",
    "\n",
    "Input: strs = [\"flower\",\"flow\",\"flight\"]\n",
    "Output: \"fl\"\"\"\"\n",
    "\n",
    "strs = [\"flower\",\"flow\",\"flight\"]"
   ]
  },
  {
   "cell_type": "code",
   "execution_count": 88,
   "id": "90929dbb",
   "metadata": {},
   "outputs": [
    {
     "name": "stdout",
     "output_type": "stream",
     "text": [
      "\n"
     ]
    }
   ],
   "source": [
    "\n",
    "def longestCommonPrefix(strs) -> str:\n",
    "        \n",
    "    if not strs:\n",
    "        return \"\"\n",
    "    first_shortest = min(strs, key=len)\n",
    "#     print(first_shortest)\n",
    "    while first_shortest:\n",
    "        if all(s.startswith(first_shortest) for s in strs):\n",
    "            return first_shortest\n",
    "        first_shortest = first_shortest[:-1]\n",
    "\n",
    "    return \"\"\n",
    "strs = [\"flower\",\"PPPPP\",\"QQQQQ\"]\n",
    "print(longestCommonPrefix(strs))"
   ]
  },
  {
   "cell_type": "code",
   "execution_count": 89,
   "id": "6af15aff",
   "metadata": {},
   "outputs": [
    {
     "name": "stdout",
     "output_type": "stream",
     "text": [
      "None\n"
     ]
    }
   ],
   "source": [
    "def longestCommonPrefix(strs) -> str:\n",
    "    prefix = ''\n",
    "\n",
    "    for chars in zip(*strs):\n",
    "        if len(set(chars)) == 1:\n",
    "            prefix += chars[0]\n",
    "            print(prefix)\n",
    "#         else:\n",
    "#             break\n",
    "#     return prefix\n",
    "strs = [\"flower\",\"PPPPP\",\"QQQQQ\"]\n",
    "print(longestCommonPrefix(strs))"
   ]
  },
  {
   "cell_type": "code",
   "execution_count": 90,
   "id": "294e3ee3",
   "metadata": {},
   "outputs": [
    {
     "name": "stdout",
     "output_type": "stream",
     "text": [
      "['PPPPP', 'QQQQQ', 'flower']\n"
     ]
    }
   ],
   "source": [
    "strs = sorted(strs)\n",
    "print(strs)"
   ]
  },
  {
   "cell_type": "code",
   "execution_count": 108,
   "id": "e5187ad2",
   "metadata": {},
   "outputs": [
    {
     "name": "stdout",
     "output_type": "stream",
     "text": [
      "['fl', 'fp', 'qq']\n",
      "\n"
     ]
    }
   ],
   "source": [
    "def longestCommonPrefix(strs) -> str:\n",
    "    ans = \"\"\n",
    "    strs = sorted(strs)\n",
    "    first = strs[0]\n",
    "    last = strs[-1]\n",
    "    print(strs)\n",
    "    for i in range(min(len(first),len(last))):\n",
    "        if (first[i]!=last[i]):\n",
    "            return ans\n",
    "        ans = ans + first[i]\n",
    "    return ans\n",
    "strs = [\"fl\",\"qq\",\"fp\"]\n",
    "print(longestCommonPrefix(strs))"
   ]
  },
  {
   "cell_type": "code",
   "execution_count": 21,
   "id": "2aa0c625",
   "metadata": {},
   "outputs": [],
   "source": [
    "# 125. Valid Palindrome\n",
    "\"\"\"A phrase is a palindrome if, after converting all uppercase letters into lowercase letters and removing all non-alphanumeric characters, it reads the same forward and backward. Alphanumeric characters include letters and numbers.\n",
    "\n",
    "Given a string s, return true if it is a palindrome, or false otherwise.\n",
    "\n",
    "Input: s = \"A man, a plan, a canal: Panama\"\n",
    "Output: true\n",
    "Explanation: \"amanaplanacanalpanama\" is a palindrome.\"\"\"\n",
    "temp = ''\n",
    "s = \"race a car\"\n",
    "for char in s:\n",
    "    if char.isalnum():\n",
    "        temp+=char.lower()\n",
    "if temp[::-1] == temp:\n",
    "    print(\"yes\")\n",
    "\n",
    "        "
   ]
  },
  {
   "cell_type": "code",
   "execution_count": 22,
   "id": "9e5d4253",
   "metadata": {},
   "outputs": [
    {
     "data": {
      "text/plain": [
       "False"
      ]
     },
     "execution_count": 22,
     "metadata": {},
     "output_type": "execute_result"
    }
   ],
   "source": [
    "s = [i for i in s.lower() if i.isalnum()]\n",
    "s == s[::-1]"
   ]
  },
  {
   "cell_type": "code",
   "execution_count": null,
   "id": "fe02c54e",
   "metadata": {},
   "outputs": [],
   "source": [
    "class Solution:\n",
    "    def isPalindrome(self, s: str) -> bool:\n",
    "        # s = re.sub(\"\\W+|_+\", \"\", s.lower())\n",
    "        # s = list(filter(str.isalnum, s.lower()))\n",
    "        s = [c for c in s.lower() if c in \"0123456789abcdefghijklmnopqrstuvwxyz\"]\n",
    "        # s = \"\".join(filter(str.isalnum, s)).lower()\n",
    "        return s == s[::-1]"
   ]
  },
  {
   "cell_type": "code",
   "execution_count": 5,
   "id": "6da230ab",
   "metadata": {},
   "outputs": [
    {
     "name": "stdout",
     "output_type": "stream",
     "text": [
      "3 6 ['a', '', 'b', '', '', 'c']\n"
     ]
    },
    {
     "data": {
      "text/plain": [
       "True"
      ]
     },
     "execution_count": 5,
     "metadata": {},
     "output_type": "execute_result"
    }
   ],
   "source": [
    "\"\"\"\n",
    "392. Is Subsequence\n",
    "\n",
    "Given two strings s and t, return true if s is a subsequence of t, or false otherwise.\n",
    "\n",
    "A subsequence of a string is a new string that is formed from the original string by deleting some (can be none) of the characters without disturbing the relative positions of the remaining characters. (i.e., \"ace\" is a subsequence of \"abcde\" while \"aec\" is not).\n",
    "\n",
    " \n",
    "\n",
    "Example 1:\n",
    "\n",
    "Input: s = \"abc\", t = \"ahbgdc\"\n",
    "Output: true\n",
    "s = \"b\"\n",
    "t = \"abc\"\n",
    "Output: true\n",
    "s =\n",
    "\"\"\n",
    "t =\n",
    "\"ahbgdc\"\n",
    "Expected\n",
    "true\n",
    "\"\"\"\n",
    "s = \"abc\"\n",
    "t = \"ahbgdc\"\n",
    "list1 = list(s)\n",
    "list2 = list(t)\n",
    "l1 = len(list1)\n",
    "l2 = len(list2)\n",
    "i = 0\n",
    "j=0\n",
    "while i < l1 and j<l2:\n",
    "    if s[i] == t[j]:\n",
    "        i+=1\n",
    "        j+=1\n",
    "        \n",
    "    else:\n",
    "        list2[j] = ''\n",
    "        j+=1\n",
    "print(i,j,list2)\n",
    "for ele in range(j,l2):\n",
    "    list2[ele] = ''\n",
    "s == ''.join(list2)"
   ]
  },
  {
   "cell_type": "code",
   "execution_count": 6,
   "id": "6799a1ab",
   "metadata": {},
   "outputs": [
    {
     "name": "stdout",
     "output_type": "stream",
     "text": [
      "True\n"
     ]
    }
   ],
   "source": [
    "s = \"abc\"\n",
    "t = \"ahbgdc\"\n",
    "i = 0 #pointer of s\n",
    "for char in t:\n",
    "    if i<len(s) and s[i]==char:\n",
    "        i+=1\n",
    "print(i == len(s))"
   ]
  },
  {
   "cell_type": "code",
   "execution_count": 4,
   "id": "f21c36ef",
   "metadata": {},
   "outputs": [
    {
     "name": "stdout",
     "output_type": "stream",
     "text": [
      "[1, 3]\n"
     ]
    }
   ],
   "source": [
    "\"\"\"167. Two Sum II - Input Array Is Sorted\n",
    "\n",
    "Given a 1-indexed array of integers numbers that is already sorted in non-decreasing order, find two numbers such that they add up to a specific target number. Let these two numbers be numbers[index1] and numbers[index2] where 1 <= index1 < index2 <= numbers.length.\n",
    "\n",
    "Return the indices of the two numbers, index1 and index2, added by one as an integer array [index1, index2] of length 2.\n",
    "\n",
    "The tests are generated such that there is exactly one solution. You may not use the same element twice.\n",
    "\n",
    "Your solution must use only constant extra space.\n",
    "\n",
    " \n",
    "\n",
    "Example 1:\n",
    "\n",
    "Input: numbers = [2,7,11,15], target = 9\n",
    "Output: [1,2]\n",
    "Explanation: The sum of 2 and 7 is 9. Therefore, index1 = 1, index2 = 2. We return [1, 2].\n",
    "Example 2:\n",
    "\n",
    "Input: numbers = [2,3,4], target = 6\n",
    "Output: [1,3]\n",
    "Explanation: The sum of 2 and 4 is 6. Therefore index1 = 1, index2 = 3. We return [1, 3].\n",
    "Example 3:\n",
    "\n",
    "Input: numbers = [-1,0], target = -1\n",
    "Output: [1,2]\n",
    "Explanation: The sum of -1 and 0 is -1. Therefore index1 = 1, index2 = 2. We return [1, 2].\"\"\"\n",
    "\n",
    "def target1(numbers,target):\n",
    "    length = len(numbers)\n",
    "    i = 0\n",
    "    j = length-1\n",
    "    while i < j:\n",
    "        sum_numbers = numbers[i]+numbers[j]\n",
    "        if sum_numbers == target:\n",
    "            return [i+1,j+1]\n",
    "        elif sum_numbers > target:\n",
    "            j-=1\n",
    "        else:\n",
    "            i+=1\n",
    "numbers = [2,3,4];target = 6\n",
    "\n",
    "\n",
    "print(target1(numbers,target))\n",
    "        \n",
    "\n",
    "        \n",
    "\n",
    "    \n"
   ]
  },
  {
   "cell_type": "code",
   "execution_count": 9,
   "id": "135c13ae",
   "metadata": {},
   "outputs": [
    {
     "name": "stdout",
     "output_type": "stream",
     "text": [
      "49\n"
     ]
    }
   ],
   "source": [
    "\"\"\"\n",
    "11. Container With Most Water\n",
    "\n",
    "You are given an integer array height of length n. There are n vertical lines drawn such that the two endpoints of the ith line are (i, 0) and (i, height[i]).\n",
    "\n",
    "Find two lines that together with the x-axis form a container, such that the container contains the most water.\n",
    "\n",
    "Return the maximum amount of water a container can store.\n",
    "\n",
    "Notice that you may not slant the container.\n",
    "\n",
    " \n",
    "\n",
    "Example 1:\n",
    "\n",
    "\n",
    "Input: height = [1,8,6,2,5,4,8,3,7]\n",
    "Output: 49\n",
    "Explanation: The above vertical lines are represented by array [1,8,6,2,5,4,8,3,7]. In this case, the max area of water (blue section) the container can contain is 49.\n",
    "Example 2:\n",
    "\n",
    "Input: height = [1,1]\n",
    "Output: 1\"\"\"\n",
    "height = [1,8,6,2,5,4,8,3,7]\n",
    "left = 0\n",
    "right = len(height)-1\n",
    "max_area = 0\n",
    "while left < right:\n",
    "    max_area = max(max_area,(right-left)*min(height[left],height[right]))\n",
    "    if height[left]< height[right]:\n",
    "        left+=1\n",
    "    else:\n",
    "        right-=1\n",
    "height = [1,8,6,2,5,4,8,3,7]\n",
    "left = 0\n",
    "right = len(height)-1\n",
    "print(max_area)\n",
    "\n"
   ]
  },
  {
   "cell_type": "code",
   "execution_count": 24,
   "id": "fe99492d",
   "metadata": {},
   "outputs": [
    {
     "data": {
      "text/plain": [
       "[-4, -1, -1, 0, 1, 2]"
      ]
     },
     "execution_count": 24,
     "metadata": {},
     "output_type": "execute_result"
    }
   ],
   "source": [
    "\"\"\"15. 3Sum\n",
    "\n",
    "Given an integer array nums, return all the triplets [nums[i], nums[j], nums[k]] such that i != j, i != k, and j != k, and nums[i] + nums[j] + nums[k] == 0.\n",
    "\n",
    "Notice that the solution set must not contain duplicate triplets.\n",
    "\n",
    " \n",
    "\n",
    "Example 1:\n",
    "\n",
    "Input: nums = [-1,0,1,2,-1,-4]\n",
    "Output: [[-1,-1,2],[-1,0,1]]\n",
    "Explanation: \n",
    "nums[0] + nums[1] + nums[2] = (-1) + 0 + 1 = 0.\n",
    "nums[1] + nums[2] + nums[4] = 0 + 1 + (-1) = 0.\n",
    "nums[0] + nums[3] + nums[4] = (-1) + 2 + (-1) = 0.\n",
    "The distinct triplets are [-1,0,1] and [-1,-1,2].\"\"\";\n",
    "\n",
    "nums = [-1,0,1,2,-1,-4]\n",
    "nums.sort()\n",
    "#[-4, -1, -1, 0, 1, 2]\n",
    "length = len(nums)\n",
    "triplet = []\n",
    "i = 0\n",
    "j = 1\n",
    "k = 2\n",
    "while i < length:\n",
    "    while k < length:\n",
    "        if nums[i]+nums[j]+nums[k] == 0:\n",
    "            triplet.append([nums[i],nums[j],nums[k]])\n",
    "        k+=1\n",
    "        \n",
    "\n"
   ]
  },
  {
   "cell_type": "code",
   "execution_count": 2,
   "id": "1c3818b6",
   "metadata": {},
   "outputs": [
    {
     "name": "stdout",
     "output_type": "stream",
     "text": [
      "[[-100, -60, 160], [-70, -60, 130]]\n"
     ]
    }
   ],
   "source": [
    "nums = [-100,-70,-60,110,120,130,160]\n",
    "\n",
    "# [[-100,-60,160],[-70,-60,130]]\n",
    "result = []\n",
    "nums.sort()\n",
    "length = len(nums)\n",
    "\n",
    "i = 0\n",
    "j = 1\n",
    "k = 2\n",
    "nums.sort()\n",
    "result = []\n",
    "\n",
    "length = len(nums)\n",
    "\n",
    "class Solution:\n",
    "    def threeSum(self, nums: List[int]) -> List[List[int]]:\n",
    "        nums.sort()\n",
    "\n",
    "        result = []\n",
    "\n",
    "        length = len(nums)\n",
    "\n",
    "        for i in range(length):\n",
    "            # Skip duplicate i\n",
    "            if i > 0 and nums[i] == nums[i-1]:\n",
    "                continue\n",
    "            \n",
    "            left = i + 1\n",
    "            right = length - 1\n",
    "            while left < right:\n",
    "                total = nums[i] + nums[left] + nums[right]\n",
    "                if total == 0:\n",
    "                    result.append([nums[i], nums[left], nums[right]])\n",
    "                    \n",
    "                    # Skip duplicate left\n",
    "                    while left < right and nums[left] == nums[left+1]:\n",
    "                        left += 1\n",
    "                    # Skip duplicate right\n",
    "                    while left < right and nums[right] == nums[right-1]:\n",
    "                        right -= 1\n",
    "                    \n",
    "                    left += 1\n",
    "                    right -= 1\n",
    "                elif total < 0:\n",
    "                    left += 1\n",
    "                else:\n",
    "                    right -= 1\n",
    "           \n",
    "        return result\n",
    "                \n",
    "\n",
    "            \n",
    "# for i in range(n - 2):\n",
    "#     for j in range(i + 1, n - 1):\n",
    "#         # pick all k values in one go\n",
    "#         result.extend([[nums[i], nums[j], nums[k]] for k in range(j + 1, n) if nums[i]+nums[j]+nums[k]==0])\n",
    "\n",
    "# print(result) \n",
    "# [[-100,-60,160],[-70,-60,130]]"
   ]
  },
  {
   "cell_type": "code",
   "execution_count": 38,
   "id": "aeb7c3d0",
   "metadata": {},
   "outputs": [
    {
     "data": {
      "text/plain": [
       "[]"
      ]
     },
     "execution_count": 38,
     "metadata": {},
     "output_type": "execute_result"
    }
   ],
   "source": [
    "def subsequences(lst, k):\n",
    "    result = []\n",
    "    \n",
    "    def backtrack(start, path):\n",
    "        if len(path) == k:\n",
    "            result.append(path[:])\n",
    "            return\n",
    "        for i in range(start, len(lst)):\n",
    "            # pruning: if remaining elements < needed, stop\n",
    "            if len(lst) - i < k - len(path):\n",
    "                break\n",
    "            backtrack(i+1, path + [lst[i]])\n",
    "    \n",
    "    backtrack(0, [])\n",
    "    return result\n",
    "\n",
    "lst = [1, 2, 3, 4, 5]\n",
    "list1 = [i for i in subsequences(lst, 3) if i[0]!=i[1] and i[0]!=i[2] and i[1]!=i[2] and sum(i)==0]\n",
    "list1"
   ]
  },
  {
   "cell_type": "code",
   "execution_count": 33,
   "id": "2847398b",
   "metadata": {},
   "outputs": [
    {
     "name": "stdout",
     "output_type": "stream",
     "text": [
      "False\n",
      "False\n"
     ]
    }
   ],
   "source": [
    "final = 0\n",
    "temp = x\n",
    "while temp > 0:\n",
    "    rem = temp%10\n",
    "    temp = temp//10\n",
    "    final=final*10+rem\n",
    "if final == x:\n",
    "    return True\n",
    "else:\n",
    "\n",
    "    return False"
   ]
  },
  {
   "cell_type": "code",
   "execution_count": 32,
   "id": "dbd61dfa",
   "metadata": {},
   "outputs": [
    {
     "name": "stdout",
     "output_type": "stream",
     "text": [
      "1 12\n",
      "True\n"
     ]
    }
   ],
   "source": [
    "def isPalindrome(x: int) -> bool:\n",
    "    if x < 0 or (x % 10 == 0 and x != 0):\n",
    "        return False\n",
    "\n",
    "    rev = 0\n",
    "\n",
    "    while x > rev:\n",
    "        rev = rev*10 + x % 10\n",
    "        x = x//10\n",
    "    print(x,rev)\n",
    "    return x == rev or x == rev // 10\n",
    "print(isPalindrome(121))"
   ]
  },
  {
   "cell_type": "code",
   "execution_count": 9,
   "id": "91a6498e",
   "metadata": {},
   "outputs": [
    {
     "data": {
      "text/plain": [
       "124"
      ]
     },
     "execution_count": 9,
     "metadata": {},
     "output_type": "execute_result"
    }
   ],
   "source": [
    "l1 = [1,2,4]\n",
    "final = 0\n",
    "for i in l1:\n",
    "    final = final*10+i\n",
    "final"
   ]
  },
  {
   "cell_type": "code",
   "execution_count": 2,
   "id": "57c4b1cb",
   "metadata": {},
   "outputs": [
    {
     "name": "stdout",
     "output_type": "stream",
     "text": [
      "2\n"
     ]
    }
   ],
   "source": [
    "\"\"\"\n",
    "Given an array of positive integers nums and a positive integer target, \n",
    "return the minimal length of a subarray whose sum is greater than or equal to target.\n",
    "If there is no such subarray, return 0 instead.\n",
    "#Minimum Size Subarray Sum\n",
    "Input: target = 7, nums = [2,3,1,2,4,3]\n",
    "Output: 2\"\"\";\n",
    "target = 7\n",
    "nums = [2,3,1,2,4,3]\n",
    "temp = []\n",
    "left = 0\n",
    "current_sum = 0\n",
    "min_len = float('inf')\n",
    "for right in range(len(nums)):\n",
    "    current_sum+=nums[right]\n",
    "    while current_sum >= target:\n",
    "        min_len = min(min_len,right-left+1)\n",
    "        current_sum-=nums[left]\n",
    "        left+=1\n",
    "        \n",
    "print(0 if min_len == float('inf') else min_len)\n",
    "\n",
    "                \n",
    "            \n",
    "        \n",
    "\n",
    "        \n",
    "            \n",
    "        \n",
    "    \n"
   ]
  },
  {
   "cell_type": "code",
   "execution_count": 6,
   "id": "85a74fe5",
   "metadata": {},
   "outputs": [
    {
     "name": "stdout",
     "output_type": "stream",
     "text": [
      "['a'] 1\n",
      "['a', 'b'] 2\n",
      "['a', 'b', 'c'] 3\n",
      "['b', 'c', 'a'] 3\n",
      "['c', 'a', 'b'] 3\n",
      "['a', 'b', 'c'] 3\n",
      "['c', 'b'] 3\n",
      "['b'] 3\n",
      "3\n"
     ]
    }
   ],
   "source": [
    "\"\"\"\n",
    "#3. Longest Substring Without Repeating Characters\n",
    "Given a string s, find the length of the longest substring without duplicate characters.\n",
    "\n",
    " \n",
    "\n",
    "Example 1:\n",
    "\n",
    "Input: s = \"abcabcbb\"\n",
    "Output: 3\n",
    "Explanation: The answer is \"abc\", with the length of 3.\n",
    "Example 2:\n",
    "\n",
    "Input: s = \"bbbbb\"\n",
    "Output: 1\n",
    "Explanation: The answer is \"b\", with the length of 1.\n",
    "Example 3:\n",
    "\n",
    "Input: s = \"pwwkew\"\n",
    "Output: 3\n",
    "Explanation: The answer is \"wke\", with the length of 3.\n",
    "Notice that the answer must be a substring, \"pwke\" is a subsequence and not a substring.\n",
    "\"\"\";\n",
    "\n",
    "\n",
    "s = \"abcabcbb\"\n",
    "char_set = []\n",
    "left = 0\n",
    "max_len = 0\n",
    "for right in range(len(s)):\n",
    "    while s[right] in char_set:\n",
    "        char_set.remove(s[left])\n",
    "        left+=1\n",
    "    char_set.append(s[right])\n",
    "    max_len = max(max_len,right-left+1)\n",
    "    print(char_set,max_len)\n",
    "print(max_len)"
   ]
  },
  {
   "cell_type": "code",
   "execution_count": 6,
   "id": "493aa658",
   "metadata": {},
   "outputs": [
    {
     "name": "stdout",
     "output_type": "stream",
     "text": [
      "0\n",
      "1\n"
     ]
    }
   ],
   "source": [
    "num = \n",
    "rev = 0\n",
    "while num > 0:\n",
    "    rev = num%10\n",
    "    num = num//10\n",
    "    print(rev)"
   ]
  },
  {
   "cell_type": "code",
   "execution_count": 8,
   "id": "326aad18",
   "metadata": {},
   "outputs": [
    {
     "data": {
      "text/plain": [
       "[1, 2, 3, 5]"
      ]
     },
     "execution_count": 8,
     "metadata": {},
     "output_type": "execute_result"
    }
   ],
   "source": [
    "l1 = [1,2,3,4]\n",
    "l1[len(l1)-1]=l1[len(l1)-1]+1\n",
    "l1"
   ]
  },
  {
   "cell_type": "code",
   "execution_count": 22,
   "id": "bd45e594",
   "metadata": {},
   "outputs": [
    {
     "name": "stdout",
     "output_type": "stream",
     "text": [
      "[1, 2, 4]\n"
     ]
    }
   ],
   "source": [
    "digits = [1,2,3]\n",
    "length = len(digits)\n",
    "final = 0\n",
    "digits[length-1]=digits[length-1]+1\n",
    "for i in digits:\n",
    "    final = final*10+i\n",
    "rev = 0\n",
    "temp = []\n",
    "while final > 0:\n",
    "    rev = final%10\n",
    "    final = final//10\n",
    "    temp.append(rev)\n",
    "print(l1[::-1])"
   ]
  },
  {
   "cell_type": "code",
   "execution_count": 27,
   "id": "4d5baa60",
   "metadata": {},
   "outputs": [
    {
     "name": "stdout",
     "output_type": "stream",
     "text": [
      "[1, 0]\n"
     ]
    }
   ],
   "source": [
    "digits = [9]\n",
    "for i in range(len(digits)-1, -1, -1):\n",
    "    if digits[i] == 9:\n",
    "        digits[i] = 0\n",
    "    else:\n",
    "        digits[i]+=1\n",
    "        print(digits)\n",
    "print([1]+digits)"
   ]
  },
  {
   "cell_type": "code",
   "execution_count": null,
   "id": "c9ab5276",
   "metadata": {},
   "outputs": [],
   "source": [
    "\"\"\"result = int(\"\".join(map(str, digits)))\n",
    "\n",
    "b=str(result+1)\n",
    "res=[]\n",
    "\n",
    "for digit in b:\n",
    "    res.append(int(digit) )\n",
    "\n",
    "return res\n",
    "\n",
    "# another solution\n",
    "\n",
    " def plusOne(self, digits: List[int]) -> List[int]:\n",
    "        for i in range(len(digits)-1, -1, -1):\n",
    "            if digits[i] == 9:\n",
    "                digits[i] = 0\n",
    "            else:\n",
    "                digits[i]+=1\n",
    "                return digits\n",
    "        return [1] + digits\n",
    "\n",
    "\"\"\"\n"
   ]
  },
  {
   "cell_type": "code",
   "execution_count": 20,
   "id": "971e9916",
   "metadata": {},
   "outputs": [
    {
     "name": "stdout",
     "output_type": "stream",
     "text": [
      "No\n",
      "True\n"
     ]
    }
   ],
   "source": [
    "def isValid(self, s: str) -> bool:\n",
    "        a = list()\n",
    "        flag = 0\n",
    "        for i in range(len(s)):\n",
    "            if s[i] == '(' or s[i] == '[' or s[i] == '{':\n",
    "                a.append(s[i])\n",
    "            else:\n",
    "                if not a:\n",
    "                    return False\n",
    "                else:\n",
    "                    item = a.pop()\n",
    "                    if item == '(' and s[i] == ')' or item == '[' and s[i] == ']' or item == '{' and s[i] == '}':\n",
    "                        flag = 1\n",
    "                    else:\n",
    "                        flag = 0\n",
    "                        return False\n",
    "        if flag and not a:\n",
    "            return True\n",
    "        else:\n",
    "            return False"
   ]
  },
  {
   "cell_type": "code",
   "execution_count": 8,
   "id": "b3ae5351",
   "metadata": {},
   "outputs": [
    {
     "data": {
      "text/plain": [
       "True"
      ]
     },
     "execution_count": 8,
     "metadata": {},
     "output_type": "execute_result"
    }
   ],
   "source": [
    "def isValid(s: str) -> bool:\n",
    "    st = []\n",
    "    hm = {\n",
    "        '(': ')',\n",
    "        '[': ']',\n",
    "        '{': '}'\n",
    "    }\n",
    "\n",
    "    for ch in s:\n",
    "        if ch in list(hm.keys()):\n",
    "            st.append(ch)\n",
    "\n",
    "        else:\n",
    "            if len(st) == 0:\n",
    "                return False\n",
    "\n",
    "            if hm[st.pop()] != ch:\n",
    "                return False\n",
    "\n",
    "    return len(st) == 0\n",
    "\n",
    "isValid('{}')"
   ]
  },
  {
   "cell_type": "code",
   "execution_count": 28,
   "id": "44ab74b9",
   "metadata": {},
   "outputs": [
    {
     "name": "stdout",
     "output_type": "stream",
     "text": [
      "{\n",
      "[\n",
      "False\n"
     ]
    }
   ],
   "source": [
    "s = '{}['\n",
    "a = []\n",
    "bracket = {\n",
    "    '(': ')',\n",
    "    '{': '}',\n",
    "    '[':']'\n",
    "    }\n",
    "\n",
    "for ch in s:\n",
    "    if ch in bracket.keys():\n",
    "        print(ch)\n",
    "        a.append(ch)\n",
    "    else:\n",
    "        if len(a) ==0:\n",
    "            print(\"False\")\n",
    "        if bracket[a.pop()] != ch:\n",
    "            print(\"False\")\n",
    "        \n",
    "print(len(a)==0)\n",
    "        \n",
    "     "
   ]
  },
  {
   "cell_type": "code",
   "execution_count": 63,
   "id": "77031b96",
   "metadata": {},
   "outputs": [
    {
     "name": "stdout",
     "output_type": "stream",
     "text": [
      "************** ['ab', 'cd', 'ef']\n",
      "###### ab ['cd', 'ef']\n",
      "************** ['cd', 'ef']\n",
      "###### cd ['ef']\n",
      "************** ['ef']\n",
      "$$$$$ [['cd', 'ef']]\n",
      "******Itration<<<<0>>>>**********\n",
      "###### ef ['cd']\n",
      "************** ['cd']\n",
      "$$$$$ [['cd', 'ef'], ['ef', 'cd']]\n",
      "******Itration<<<<1>>>>**********\n",
      "$$$$$ [['ab', 'cd', 'ef']]\n",
      "$$$$$ [['ab', 'cd', 'ef'], ['ab', 'ef', 'cd']]\n",
      "******Itration<<<<0>>>>**********\n",
      "###### cd ['ab', 'ef']\n",
      "************** ['ab', 'ef']\n",
      "###### ab ['ef']\n",
      "************** ['ef']\n",
      "$$$$$ [['ab', 'ef']]\n",
      "******Itration<<<<0>>>>**********\n",
      "###### ef ['ab']\n",
      "************** ['ab']\n",
      "$$$$$ [['ab', 'ef'], ['ef', 'ab']]\n",
      "******Itration<<<<1>>>>**********\n",
      "$$$$$ [['ab', 'cd', 'ef'], ['ab', 'ef', 'cd'], ['cd', 'ab', 'ef']]\n",
      "$$$$$ [['ab', 'cd', 'ef'], ['ab', 'ef', 'cd'], ['cd', 'ab', 'ef'], ['cd', 'ef', 'ab']]\n",
      "******Itration<<<<1>>>>**********\n",
      "###### ef ['ab', 'cd']\n",
      "************** ['ab', 'cd']\n",
      "###### ab ['cd']\n",
      "************** ['cd']\n",
      "$$$$$ [['ab', 'cd']]\n",
      "******Itration<<<<0>>>>**********\n",
      "###### cd ['ab']\n",
      "************** ['ab']\n",
      "$$$$$ [['ab', 'cd'], ['cd', 'ab']]\n",
      "******Itration<<<<1>>>>**********\n",
      "$$$$$ [['ab', 'cd', 'ef'], ['ab', 'ef', 'cd'], ['cd', 'ab', 'ef'], ['cd', 'ef', 'ab'], ['ef', 'ab', 'cd']]\n",
      "$$$$$ [['ab', 'cd', 'ef'], ['ab', 'ef', 'cd'], ['cd', 'ab', 'ef'], ['cd', 'ef', 'ab'], ['ef', 'ab', 'cd'], ['ef', 'cd', 'ab']]\n",
      "******Itration<<<<2>>>>**********\n",
      "[['ab', 'cd', 'ef'], ['ab', 'ef', 'cd'], ['cd', 'ab', 'ef'], ['cd', 'ef', 'ab'], ['ef', 'ab', 'cd'], ['ef', 'cd', 'ab']]\n"
     ]
    }
   ],
   "source": [
    "\"\"\"#30. Substring with Concatenation of All Words\n",
    "For example, if words = [\"ab\",\"cd\",\"ef\"], then \"abcdef\", \"abefcd\", \"cdabef\", \"cdefab\", \"efabcd\", and \"efcdab\" are all concatenated strings. \"acdbef\" is not a concatenated string because it is not the concatenation of any permutation of words.\n",
    "Return an array of the starting indices of all the concatenated substrings in s. You can return the answer in any order.\n",
    "\n",
    " \n",
    "\n",
    "Example 1:\n",
    "\n",
    "Input: s = \"barfoothefoobarman\", words = [\"foo\",\"bar\"]\n",
    "\n",
    "Output: [0,9]\n",
    "\n",
    "Explanation:\n",
    "\n",
    "The substring starting at 0 is \"barfoo\". It is the concatenation of [\"bar\",\"foo\"] which is a permutation of words.\n",
    "The substring starting at 9 is \"foobar\". It is the concatenation of [\"foo\",\"bar\"] which is a permutation of words.\n",
    "\n",
    "Example 2:\n",
    "\n",
    "Input: s = \"wordgoodgoodgoodbestword\", words = [\"word\",\"good\",\"best\",\"word\"]\n",
    "\n",
    "Output: []\n",
    "\n",
    "Explanation:\n",
    "\n",
    "There is no concatenated substring.\n",
    "\n",
    "Example 3:\n",
    "\n",
    "Input: s = \"barfoofoobarthefoobarman\", words = [\"bar\",\"foo\",\"the\"]\n",
    "\n",
    "Output: [6,9,12]\n",
    "\n",
    "Explanation:\n",
    "\n",
    "The substring starting at 6 is \"foobarthe\". It is the concatenation of [\"foo\",\"bar\",\"the\"].\n",
    "The substring starting at 9 is \"barthefoo\". It is the concatenation of [\"bar\",\"the\",\"foo\"].\n",
    "The substring starting at 12 is \"thefoobar\". It is the concatenation of [\"the\",\"foo\",\"bar\"]\n",
    "\n",
    "\"\"\";\n",
    "def make_permutation(wrd):\n",
    "    print(\"**************\",wrd)\n",
    "    if len(wrd) == 0:\n",
    "        return []\n",
    "    if len(wrd) == 1:\n",
    "        return [wrd]\n",
    "    result = []\n",
    "    for i in range(len(wrd)):\n",
    "        current = wrd[i]\n",
    "        remaining = wrd[:i]+wrd[i+1:]\n",
    "        print(\"######\",current,remaining)\n",
    "        for p in make_permutation(remaining):\n",
    "            result.append([current]+p)\n",
    "            print(\"$$$$$\",result)\n",
    "        print(f\"******Itration<<<<{i}>>>>**********\")\n",
    "    return result\n",
    "                      \n",
    "words = [\"ab\",\"cd\",\"ef\"]  \n",
    "                      \n",
    "                      \n",
    "print(make_permutation(words))\n",
    "            \n"
   ]
  },
  {
   "cell_type": "code",
   "execution_count": 62,
   "id": "afad4393",
   "metadata": {},
   "outputs": [
    {
     "name": "stdout",
     "output_type": "stream",
     "text": [
      "[0, 6]\n"
     ]
    }
   ],
   "source": [
    "s = \"barfoofarboo\"\n",
    "i = 0\n",
    "words = [[\"bar\",\"foo\"],[\"far\",\"boo\"]]\n",
    "length_words = len(words)\n",
    "result = []\n",
    "while i < length_words:\n",
    "    string = ''.join(words[i])\n",
    "    for j in range(len(s)):\n",
    "        if s[j:len(string)+j] == string:\n",
    "            result.append(j)\n",
    "            break\n",
    "    i+=1\n",
    "    \n",
    "print(result)\n",
    "\n",
    "\n"
   ]
  },
  {
   "cell_type": "code",
   "execution_count": 65,
   "id": "b304472f",
   "metadata": {},
   "outputs": [
    {
     "ename": "RecursionError",
     "evalue": "maximum recursion depth exceeded while calling a Python object",
     "output_type": "error",
     "traceback": [
      "\u001b[0;31m---------------------------------------------------------------------------\u001b[0m",
      "\u001b[0;31mRecursionError\u001b[0m                            Traceback (most recent call last)",
      "\u001b[0;32m/var/folders/j7/0w1w2t857d50h_0kdfx21pmm0000gn/T/ipykernel_1455/3525202725.py\u001b[0m in \u001b[0;36m<module>\u001b[0;34m\u001b[0m\n\u001b[1;32m     27\u001b[0m \u001b[0ms\u001b[0m \u001b[0;34m=\u001b[0m \u001b[0;34m\"barfoothefoobarman\"\u001b[0m\u001b[0;34m\u001b[0m\u001b[0;34m\u001b[0m\u001b[0m\n\u001b[1;32m     28\u001b[0m \u001b[0mwords\u001b[0m \u001b[0;34m=\u001b[0m \u001b[0;34m[\u001b[0m\u001b[0;34m\"foo\"\u001b[0m\u001b[0;34m,\u001b[0m\u001b[0;34m\"bar\"\u001b[0m\u001b[0;34m]\u001b[0m\u001b[0;34m\u001b[0m\u001b[0;34m\u001b[0m\u001b[0m\n\u001b[0;32m---> 29\u001b[0;31m \u001b[0mprint\u001b[0m\u001b[0;34m(\u001b[0m\u001b[0mfindSubstring\u001b[0m\u001b[0;34m(\u001b[0m\u001b[0ms\u001b[0m\u001b[0;34m,\u001b[0m\u001b[0mwords\u001b[0m\u001b[0;34m)\u001b[0m\u001b[0;34m)\u001b[0m\u001b[0;34m\u001b[0m\u001b[0;34m\u001b[0m\u001b[0m\n\u001b[0m",
      "\u001b[0;32m/var/folders/j7/0w1w2t857d50h_0kdfx21pmm0000gn/T/ipykernel_1455/3525202725.py\u001b[0m in \u001b[0;36mfindSubstring\u001b[0;34m(s, words)\u001b[0m\n\u001b[1;32m     12\u001b[0m                \u001b[0mresult\u001b[0m\u001b[0;34m.\u001b[0m\u001b[0mappend\u001b[0m\u001b[0;34m(\u001b[0m\u001b[0;34m[\u001b[0m\u001b[0mcurrent\u001b[0m\u001b[0;34m]\u001b[0m\u001b[0;34m+\u001b[0m\u001b[0mp\u001b[0m\u001b[0;34m)\u001b[0m\u001b[0;34m\u001b[0m\u001b[0;34m\u001b[0m\u001b[0m\n\u001b[1;32m     13\u001b[0m        \u001b[0;32mreturn\u001b[0m \u001b[0mresult\u001b[0m\u001b[0;34m\u001b[0m\u001b[0;34m\u001b[0m\u001b[0m\n\u001b[0;32m---> 14\u001b[0;31m    \u001b[0mfinal_permutation\u001b[0m \u001b[0;34m=\u001b[0m \u001b[0mpermutation\u001b[0m\u001b[0;34m(\u001b[0m\u001b[0mwords\u001b[0m\u001b[0;34m)\u001b[0m\u001b[0;34m\u001b[0m\u001b[0;34m\u001b[0m\u001b[0m\n\u001b[0m\u001b[1;32m     15\u001b[0m    \u001b[0mlength_words\u001b[0m \u001b[0;34m=\u001b[0m \u001b[0mlen\u001b[0m\u001b[0;34m(\u001b[0m\u001b[0mfinal_permutation\u001b[0m\u001b[0;34m)\u001b[0m\u001b[0;34m\u001b[0m\u001b[0;34m\u001b[0m\u001b[0m\n\u001b[1;32m     16\u001b[0m    \u001b[0mindex\u001b[0m \u001b[0;34m=\u001b[0m \u001b[0;34m[\u001b[0m\u001b[0;34m]\u001b[0m\u001b[0;34m\u001b[0m\u001b[0;34m\u001b[0m\u001b[0m\n",
      "\u001b[0;32m/var/folders/j7/0w1w2t857d50h_0kdfx21pmm0000gn/T/ipykernel_1455/3525202725.py\u001b[0m in \u001b[0;36mpermutation\u001b[0;34m(lst)\u001b[0m\n\u001b[1;32m      9\u001b[0m            \u001b[0mcurrent\u001b[0m \u001b[0;34m=\u001b[0m \u001b[0mlst\u001b[0m\u001b[0;34m[\u001b[0m\u001b[0;36m0\u001b[0m\u001b[0;34m]\u001b[0m\u001b[0;34m\u001b[0m\u001b[0;34m\u001b[0m\u001b[0m\n\u001b[1;32m     10\u001b[0m            \u001b[0mremaining\u001b[0m \u001b[0;34m=\u001b[0m \u001b[0mlst\u001b[0m\u001b[0;34m[\u001b[0m\u001b[0;34m:\u001b[0m\u001b[0mi\u001b[0m\u001b[0;34m]\u001b[0m\u001b[0;34m+\u001b[0m\u001b[0mlst\u001b[0m\u001b[0;34m[\u001b[0m\u001b[0mi\u001b[0m\u001b[0;34m+\u001b[0m\u001b[0;36m1\u001b[0m\u001b[0;34m:\u001b[0m\u001b[0;34m]\u001b[0m\u001b[0;34m\u001b[0m\u001b[0;34m\u001b[0m\u001b[0m\n\u001b[0;32m---> 11\u001b[0;31m            \u001b[0;32mfor\u001b[0m \u001b[0mp\u001b[0m \u001b[0;32min\u001b[0m \u001b[0mpermutation\u001b[0m\u001b[0;34m(\u001b[0m\u001b[0mremaining\u001b[0m\u001b[0;34m)\u001b[0m\u001b[0;34m:\u001b[0m\u001b[0;34m\u001b[0m\u001b[0;34m\u001b[0m\u001b[0m\n\u001b[0m\u001b[1;32m     12\u001b[0m                \u001b[0mresult\u001b[0m\u001b[0;34m.\u001b[0m\u001b[0mappend\u001b[0m\u001b[0;34m(\u001b[0m\u001b[0;34m[\u001b[0m\u001b[0mcurrent\u001b[0m\u001b[0;34m]\u001b[0m\u001b[0;34m+\u001b[0m\u001b[0mp\u001b[0m\u001b[0;34m)\u001b[0m\u001b[0;34m\u001b[0m\u001b[0;34m\u001b[0m\u001b[0m\n\u001b[1;32m     13\u001b[0m        \u001b[0;32mreturn\u001b[0m \u001b[0mresult\u001b[0m\u001b[0;34m\u001b[0m\u001b[0;34m\u001b[0m\u001b[0m\n",
      "... last 1 frames repeated, from the frame below ...\n",
      "\u001b[0;32m/var/folders/j7/0w1w2t857d50h_0kdfx21pmm0000gn/T/ipykernel_1455/3525202725.py\u001b[0m in \u001b[0;36mpermutation\u001b[0;34m(lst)\u001b[0m\n\u001b[1;32m      9\u001b[0m            \u001b[0mcurrent\u001b[0m \u001b[0;34m=\u001b[0m \u001b[0mlst\u001b[0m\u001b[0;34m[\u001b[0m\u001b[0;36m0\u001b[0m\u001b[0;34m]\u001b[0m\u001b[0;34m\u001b[0m\u001b[0;34m\u001b[0m\u001b[0m\n\u001b[1;32m     10\u001b[0m            \u001b[0mremaining\u001b[0m \u001b[0;34m=\u001b[0m \u001b[0mlst\u001b[0m\u001b[0;34m[\u001b[0m\u001b[0;34m:\u001b[0m\u001b[0mi\u001b[0m\u001b[0;34m]\u001b[0m\u001b[0;34m+\u001b[0m\u001b[0mlst\u001b[0m\u001b[0;34m[\u001b[0m\u001b[0mi\u001b[0m\u001b[0;34m+\u001b[0m\u001b[0;36m1\u001b[0m\u001b[0;34m:\u001b[0m\u001b[0;34m]\u001b[0m\u001b[0;34m\u001b[0m\u001b[0;34m\u001b[0m\u001b[0m\n\u001b[0;32m---> 11\u001b[0;31m            \u001b[0;32mfor\u001b[0m \u001b[0mp\u001b[0m \u001b[0;32min\u001b[0m \u001b[0mpermutation\u001b[0m\u001b[0;34m(\u001b[0m\u001b[0mremaining\u001b[0m\u001b[0;34m)\u001b[0m\u001b[0;34m:\u001b[0m\u001b[0;34m\u001b[0m\u001b[0;34m\u001b[0m\u001b[0m\n\u001b[0m\u001b[1;32m     12\u001b[0m                \u001b[0mresult\u001b[0m\u001b[0;34m.\u001b[0m\u001b[0mappend\u001b[0m\u001b[0;34m(\u001b[0m\u001b[0;34m[\u001b[0m\u001b[0mcurrent\u001b[0m\u001b[0;34m]\u001b[0m\u001b[0;34m+\u001b[0m\u001b[0mp\u001b[0m\u001b[0;34m)\u001b[0m\u001b[0;34m\u001b[0m\u001b[0;34m\u001b[0m\u001b[0m\n\u001b[1;32m     13\u001b[0m        \u001b[0;32mreturn\u001b[0m \u001b[0mresult\u001b[0m\u001b[0;34m\u001b[0m\u001b[0;34m\u001b[0m\u001b[0m\n",
      "\u001b[0;31mRecursionError\u001b[0m: maximum recursion depth exceeded while calling a Python object"
     ]
    }
   ],
   "source": [
    " def findSubstring(s, words):\n",
    "    def permutation(lst):\n",
    "        if len(lst) == 0:\n",
    "            return []\n",
    "        if len(lst) == 1:\n",
    "            return [lst]\n",
    "        result = []\n",
    "        for i in range(len(s)):\n",
    "            current = lst[0]\n",
    "            remaining = lst[:i]+lst[i+1:]\n",
    "            for p in permutation(remaining):\n",
    "                result.append([current]+p)\n",
    "        return result\n",
    "    final_permutation = permutation(words)\n",
    "    length_words = len(final_permutation)\n",
    "    index = []\n",
    "    i = 0\n",
    "    while i < length_words:\n",
    "        string = ''.join(length[i])\n",
    "        for j in range(len(s)):\n",
    "            if s[j:len(string)+j] == string:\n",
    "                index.append(j)\n",
    "                break\n",
    "        i+=1\n",
    "    return index\n",
    "\n",
    "s = \"barfoothefoobarman\"\n",
    "words = [\"foo\",\"bar\"]\n",
    "print(findSubstring(s,words))"
   ]
  },
  {
   "cell_type": "code",
   "execution_count": 1,
   "id": "4f16aaed",
   "metadata": {},
   "outputs": [
    {
     "name": "stdout",
     "output_type": "stream",
     "text": [
      "1\n"
     ]
    }
   ],
   "source": [
    "\"\"\"\n",
    "172. Factorial Trailing Zeroes;\n",
    "\"\"\"\n",
    "num = 7\n",
    "fact = 1\n",
    "if num > 0:\n",
    "    while num > 1:\n",
    "        fact*=num\n",
    "        num-=1\n",
    "count = 0\n",
    "while fact > 1:\n",
    "    if fact % 10 == 0:\n",
    "        count+=1\n",
    "        fact//=10\n",
    "    else:\n",
    "        break\n",
    "print(count)\n",
    "    "
   ]
  },
  {
   "cell_type": "code",
   "execution_count": 4,
   "id": "86e3d90d",
   "metadata": {},
   "outputs": [
    {
     "data": {
      "text/plain": [
       "''"
      ]
     },
     "execution_count": 4,
     "metadata": {},
     "output_type": "execute_result"
    }
   ],
   "source": [
    "\"\"\"\n",
    "Given a non-negative integer x, return the square root of x rounded down to the nearest integer. The returned integer should be non-negative as well.\n",
    "\n",
    "You must not use any built-in exponent function or operator.\n",
    "\n",
    "For example, do not use pow(x, 0.5) in c++ or x ** 0.5 in python.\n",
    " \n",
    "\n",
    "Example 1:\n",
    "\n",
    "Input: x = 4\n",
    "Output: 2\n",
    "Explanation: The square root of 4 is 2, so we return 2.\n",
    "Example 2:\n",
    "\n",
    "Input: x = 8\n",
    "Output: 2\n",
    "Explanation: The square root of 8 is 2.82842..., and since we round it down to the nearest integer, 2 is returned.\n",
    "\"\"\";\n"
   ]
  },
  {
   "cell_type": "code",
   "execution_count": 18,
   "id": "424075e5",
   "metadata": {},
   "outputs": [
    {
     "data": {
      "text/plain": [
       "1024.0"
      ]
     },
     "execution_count": 18,
     "metadata": {},
     "output_type": "execute_result"
    }
   ],
   "source": [
    "x = 2.0000\n",
    "n = 10\n",
    "temp = x\n",
    "while n > 1:\n",
    "    temp*=x\n",
    "    n-=1\n",
    "temp    "
   ]
  },
  {
   "cell_type": "code",
   "execution_count": 14,
   "id": "545e5cda",
   "metadata": {},
   "outputs": [
    {
     "data": {
      "text/plain": [
       "32"
      ]
     },
     "execution_count": 14,
     "metadata": {},
     "output_type": "execute_result"
    }
   ],
   "source": [
    "\"\"\"\n",
    "\n",
    "0.00001\n",
    "n =\n",
    "2147483647\n",
    "\n",
    "50. Pow(x, n)\n",
    "Attempted\n",
    "Medium\n",
    "Topics\n",
    "premium lock icon\n",
    "Companies\n",
    "Implement pow(x, n), which calculates x raised to the power n (i.e., xn).\n",
    "\n",
    " \n",
    "\n",
    "Example 1:\n",
    "\n",
    "Input: x = 2.00000, n = 10\n",
    "Output: 1024.00000\n",
    "Example 2:\n",
    "\n",
    "Input: x = 2.10000, n = 3\n",
    "Output: 9.26100\n",
    "Example 3:\n",
    "\n",
    "Input: x = 2.00000, n = -2\n",
    "Output: 0.25000\n",
    "Explanation: 2-2 = 1/22 = 1/4 = 0.25\n",
    "\"\"\"\n"
   ]
  },
  {
   "cell_type": "code",
   "execution_count": 19,
   "id": "eae79c1d",
   "metadata": {},
   "outputs": [
    {
     "data": {
      "text/plain": [
       "'/Users/devendrakumarchaurasiya/preparation/Final_prep'"
      ]
     },
     "execution_count": 19,
     "metadata": {},
     "output_type": "execute_result"
    }
   ],
   "source": [
    "import os\n",
    "os.getcwd()"
   ]
  },
  {
   "cell_type": "code",
   "execution_count": 31,
   "id": "6b870656",
   "metadata": {},
   "outputs": [
    {
     "name": "stdout",
     "output_type": "stream",
     "text": [
      "Name: Amit, School: XYZ School\n",
      "Name: Amit, School: ABC1 School\n",
      "This is a Student class: dev\n"
     ]
    }
   ],
   "source": [
    "class Student:\n",
    "    school = \"XYZ School\"\n",
    "\n",
    "    def __init__(self, name):\n",
    "        self.name = name\n",
    "\n",
    "    def show(self):   # Instance Method\n",
    "        return f\"Name: {self.name}, School: {Student.school}\"\n",
    "\n",
    "    @classmethod\n",
    "    def change_school(cls, new_school):   # Class Method\n",
    "        cls.school = new_school\n",
    "\n",
    "    @staticmethod\n",
    "    def info(name):   # Static Method\n",
    "        return f\"This is a Student class: {name}\"\n",
    "\n",
    "s = Student(\"Amit\")\n",
    "print(s.show())\n",
    "s.change_school(\"ABC1 School\")\n",
    "print(s.show())\n",
    "print(s.info(\"dev\"))"
   ]
  },
  {
   "cell_type": "code",
   "execution_count": 35,
   "id": "3967656a",
   "metadata": {},
   "outputs": [
    {
     "data": {
      "text/plain": [
       "[False, True, False, True]"
      ]
     },
     "execution_count": 35,
     "metadata": {},
     "output_type": "execute_result"
    }
   ],
   "source": [
    "nums = [1, 2, 3, 4]\n",
    "\n",
    "result = map(lambda x: x % 2 == 0, nums)\n",
    "list(result)"
   ]
  },
  {
   "cell_type": "code",
   "execution_count": 40,
   "id": "cff6af88",
   "metadata": {},
   "outputs": [
    {
     "name": "stdout",
     "output_type": "stream",
     "text": [
      "1 apple\n",
      "2 banana\n",
      "3 cherry\n"
     ]
    }
   ],
   "source": [
    "fruits = [\"apple\", \"banana\", \"cherry\"]\n",
    "\n",
    "for i, fruit in enumerate(fruits, start=1):\n",
    "    print(i, fruit)"
   ]
  },
  {
   "cell_type": "code",
   "execution_count": 49,
   "id": "dc491cad",
   "metadata": {},
   "outputs": [
    {
     "name": "stdout",
     "output_type": "stream",
     "text": [
      "[400, 300]\n"
     ]
    }
   ],
   "source": [
    "import heapq\n",
    "salaries = [100, 200, 300, 400]\n",
    "print(heapq.nlargest(2, salaries))  # 2nd highest\n"
   ]
  },
  {
   "cell_type": "code",
   "execution_count": null,
   "id": "8c7ce562",
   "metadata": {},
   "outputs": [],
   "source": []
  }
 ],
 "metadata": {
  "kernelspec": {
   "display_name": "Python 3 (ipykernel)",
   "language": "python",
   "name": "python3"
  },
  "language_info": {
   "codemirror_mode": {
    "name": "ipython",
    "version": 3
   },
   "file_extension": ".py",
   "mimetype": "text/x-python",
   "name": "python",
   "nbconvert_exporter": "python",
   "pygments_lexer": "ipython3",
   "version": "3.9.15"
  }
 },
 "nbformat": 4,
 "nbformat_minor": 5
}
