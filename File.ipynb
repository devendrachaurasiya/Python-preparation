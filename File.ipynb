{
 "cells": [
  {
   "cell_type": "code",
   "execution_count": 2,
   "metadata": {},
   "outputs": [],
   "source": [
    "#------------------------File--------------------------"
   ]
  },
  {
   "cell_type": "code",
   "execution_count": 13,
   "metadata": {},
   "outputs": [],
   "source": [
    "# a file named \"geek\", will be opened with the reading mode.\n",
    "file = open('geek.txt', 'a+')\n",
    "file.write(\"India is my country\")\n",
    "# This will print every line one by one in the file\n",
    "for each in file:\n",
    "    print (each)\n",
    "file.close()"
   ]
  },
  {
   "cell_type": "code",
   "execution_count": 15,
   "metadata": {},
   "outputs": [
    {
     "name": "stdout",
     "output_type": "stream",
     "text": [
      "India is my countryIndia is my countryIndia is my countryIndia is my country\n"
     ]
    }
   ],
   "source": [
    "\n",
    "# Python code to illustrate read() mode\n",
    "file = open(\"geek.txt\", \"r\") \n",
    "print (file.read())"
   ]
  },
  {
   "cell_type": "code",
   "execution_count": 65,
   "metadata": {},
   "outputs": [
    {
     "name": "stdout",
     "output_type": "stream",
     "text": [
      "India is my countryIndia is my countryIndia is my countryIndia is my country\n",
      "Jupyter Notebook\n",
      "\n",
      "password\n",
      "India is my countryIndia is my countryIndia is my countryIndia is my countrypassword\n"
     ]
    }
   ],
   "source": [
    "# Python code to illustrate with()\n",
    "with open(\"geek.txt\",\"r\") as file:  \n",
    "    data = file.read()\n",
    "print(data)"
   ]
  },
  {
   "cell_type": "code",
   "execution_count": 23,
   "metadata": {},
   "outputs": [],
   "source": [
    "with open(\"file.txt\", \"w\") as f: \n",
    "    f.write(\"Hello World!!!\") "
   ]
  },
  {
   "cell_type": "code",
   "execution_count": 68,
   "metadata": {},
   "outputs": [
    {
     "name": "stdout",
     "output_type": "stream",
     "text": [
      "<class 'list'>\n",
      "<class 'list'>\n",
      "<class 'list'>\n",
      "<class 'list'>\n",
      "<class 'list'>\n"
     ]
    }
   ],
   "source": [
    "# Python code to illustrate split() function\n",
    "with open(\"geek.txt\", \"r\") as file:\n",
    "    data = file.readlines()\n",
    "    for line in data:\n",
    "        word = line.split()\n",
    "        print (type(word))\n",
    "file.close()"
   ]
  },
  {
   "cell_type": "code",
   "execution_count": 77,
   "metadata": {},
   "outputs": [],
   "source": [
    "string1 = 'password'\n",
    "  \n",
    "# opening a text file\n",
    "file1 = open(\"geek.txt\", \"a+\")\n",
    "  \n",
    "# setting flag and index to 0\n",
    "flag = 0\n",
    "index = 0\n",
    "\n",
    "\n",
    "# Loop through the file line by line\n",
    "for line in file1:  \n",
    "     \n",
    "      \n",
    "    # checking string is present in line or not\n",
    "    if string1 in line:\n",
    "        index =index+ 1\n",
    "        file.write(line.replace('password',\"****\"))\n",
    "  \n",
    "# closing text file    \n",
    "file1.close() "
   ]
  },
  {
   "cell_type": "code",
   "execution_count": 2,
   "metadata": {},
   "outputs": [],
   "source": [
    "#----------------------regix----------------------------"
   ]
  },
  {
   "cell_type": "code",
   "execution_count": 5,
   "metadata": {},
   "outputs": [
    {
     "name": "stdout",
     "output_type": "stream",
     "text": [
      "<re.Match object; span=(0, 17), match='The rain in Spain'>\n"
     ]
    }
   ],
   "source": [
    "import re\n",
    "\n",
    "txt = \"The rain in Spain\"\n",
    "x = re.search(\"^The.*Spain$\", txt)\n",
    "print(x)"
   ]
  },
  {
   "cell_type": "code",
   "execution_count": 4,
   "metadata": {},
   "outputs": [
    {
     "name": "stdout",
     "output_type": "stream",
     "text": [
      "<re.Match object; span=(0, 17), match='The rain in Spain'>\n"
     ]
    }
   ],
   "source": []
  },
  {
   "cell_type": "code",
   "execution_count": 1,
   "metadata": {},
   "outputs": [],
   "source": [
    "#------------------------------new Library-------------------"
   ]
  },
  {
   "cell_type": "code",
   "execution_count": 2,
   "metadata": {},
   "outputs": [
    {
     "name": "stdout",
     "output_type": "stream",
     "text": [
      "Requirement already satisfied: sympy in c:\\users\\aadi\\anaconda3\\lib\\site-packages (1.3)\n",
      "Note: you may need to restart the kernel to use updated packages.\n"
     ]
    },
    {
     "name": "stderr",
     "output_type": "stream",
     "text": [
      "You are using pip version 18.1, however version 21.2.1 is available.\n",
      "You should consider upgrading via the 'python -m pip install --upgrade pip' command.\n"
     ]
    }
   ],
   "source": [
    "pip install sympy"
   ]
  },
  {
   "cell_type": "code",
   "execution_count": 3,
   "metadata": {},
   "outputs": [
    {
     "name": "stdout",
     "output_type": "stream",
     "text": [
      "value of a is :5/8\n",
      "value of b is :3\n"
     ]
    }
   ],
   "source": [
    "# import everything from sympy module\n",
    "from sympy import *\n",
    " \n",
    "a = Rational(5, 8)\n",
    "print(\"value of a is :\" + str(a))\n",
    " \n",
    "b = Integer(3.579)\n",
    "print(\"value of b is :\" + str(b))"
   ]
  },
  {
   "cell_type": "code",
   "execution_count": 6,
   "metadata": {},
   "outputs": [
    {
     "name": "stdout",
     "output_type": "stream",
     "text": [
      "value of p is :pi**3\n",
      "value of q is :3.14159265358979\n",
      "value of r is :2.71828182845905\n",
      "value of s is :5.85987448204884\n",
      "value of rslt is :oo\n",
      "True\n"
     ]
    }
   ],
   "source": [
    "p = pi**3\n",
    "print(\"value of p is :\" + str(p))\n",
    " \n",
    "# evalf method evaluates the expression to a floating-point number\n",
    "q = pi.evalf()\n",
    "print(\"value of q is :\" + str(q))\n",
    " \n",
    "# equivalent to e ^ 1 or e ** 1\n",
    "r = exp(1).evalf()\n",
    "print(\"value of r is :\" + str(r))\n",
    " \n",
    "s = (pi + exp(1)).evalf()\n",
    "print(\"value of s is :\" + str(s))\n",
    " \n",
    "rslt = oo + 10000\n",
    "print(\"value of rslt is :\" + str(rslt))\n",
    " \n",
    "if oo > 9999999 :\n",
    "    print(\"True\")\n",
    "else:\n",
    "    print(\"False\")"
   ]
  },
  {
   "cell_type": "code",
   "execution_count": 15,
   "metadata": {},
   "outputs": [
    {
     "name": "stdout",
     "output_type": "stream",
     "text": [
      "derivative of sin(x)*e ^ x :  exp(x)*sin(x) + exp(x)*cos(x)\n",
      "indefinite integration is :  exp(x)*sin(x)\n",
      "definite integration is :  sqrt(2)*sqrt(pi)/2\n",
      "limit is :  1\n",
      "roots are :  [-sqrt(2), sqrt(2)]\n",
      "roots are :  [-1]\n"
     ]
    }
   ],
   "source": [
    "# import everything from sympy module\n",
    "from sympy import *\n",
    " \n",
    "# make a symbol\n",
    "x = Symbol('x')\n",
    " \n",
    "# ake the derivative of sin(x)*e ^ x\n",
    "ans1 = diff(sin(x)*exp(x), x)\n",
    "print(\"derivative of sin(x)*e ^ x : \", ans1)\n",
    " \n",
    "# Compute (e ^ x * sin(x)+ e ^ x * cos(x))dx\n",
    "ans2 = integrate(exp(x)*sin(x) + exp(x)*cos(x), x)\n",
    "print(\"indefinite integration is : \", ans2)\n",
    " \n",
    "# Compute definite integral of sin(x ^ 2)dx\n",
    "# in b / w interval of ? and ?? .\n",
    "ans3 = integrate(sin(x**2), (x, -oo, oo))\n",
    "print(\"definite integration is : \", ans3)\n",
    " \n",
    "# Find the limit of sin(x) / x given x tends to 0\n",
    "ans4 = limit(sin(x)/x, x, 0)\n",
    "print(\"limit is : \", ans4)\n",
    " \n",
    "# Solve quadratic equation like, example : x ^ 2?2 = 0\n",
    "ans5 = solve(x**2 - 2, x)\n",
    "print(\"roots are : \", ans5)\n",
    "\n",
    "ans6 = solve(x**3+ 3*x**2 + 3*x+1, x)\n",
    "print(\"roots are : \", ans6)"
   ]
  },
  {
   "cell_type": "code",
   "execution_count": 16,
   "metadata": {},
   "outputs": [],
   "source": [
    "## two equation solving"
   ]
  },
  {
   "cell_type": "code",
   "execution_count": 51,
   "metadata": {},
   "outputs": [],
   "source": [
    "x, y=symbols('x,y')"
   ]
  },
  {
   "cell_type": "code",
   "execution_count": 54,
   "metadata": {},
   "outputs": [],
   "source": [
    "eq1 = Eq(x + y  - 3)\n",
    "eq2 = Eq(x - y + 3)"
   ]
  },
  {
   "cell_type": "code",
   "execution_count": 55,
   "metadata": {},
   "outputs": [
    {
     "data": {
      "text/plain": [
       "{x: 0, y: 3}"
      ]
     },
     "execution_count": 55,
     "metadata": {},
     "output_type": "execute_result"
    }
   ],
   "source": [
    "solve((eq1,eq2), (x, y))"
   ]
  },
  {
   "cell_type": "code",
   "execution_count": 40,
   "metadata": {},
   "outputs": [
    {
     "name": "stdout",
     "output_type": "stream",
     "text": [
      "x = 1\n",
      "y = 4\n"
     ]
    }
   ],
   "source": [
    "sol_dict = solve((eq1,eq2), (x, y))\n",
    "print(f'x = {sol_dict[x]}')\n",
    "print(f'y = {sol_dict[y]}')"
   ]
  },
  {
   "cell_type": "code",
   "execution_count": 49,
   "metadata": {},
   "outputs": [
    {
     "name": "stdout",
     "output_type": "stream",
     "text": [
      "Eq(-0.707106781186548*Tac + 0.866025403784439*Tbc, 0)\n",
      "Eq(0.707106781186548*Tac + 0.5*Tbc - 22, 0)\n",
      "19\n"
     ]
    }
   ],
   "source": [
    "import numpy as np\n",
    "Tac, Tbc = symbols('Tac Tbc')\n",
    "eq1=Eq(-Tac*np.cos(np.radians(45)) + Tbc*np.cos(np.radians(30)))\n",
    "print(eq1)\n",
    "eq2=Eq(Tac*np.sin(np.radians(45)) + Tbc*np.sin(np.radians(30))-22)\n",
    "print(eq2)\n",
    "solve((eq1,eq2), (Tac, Tbc))\n",
    "print(Integer(19.724660))"
   ]
  },
  {
   "cell_type": "code",
   "execution_count": 50,
   "metadata": {},
   "outputs": [
    {
     "name": "stdout",
     "output_type": "stream",
     "text": [
      "Tac = 19.7 lb\n",
      "Tbc = 16.1 lb\n"
     ]
    }
   ],
   "source": [
    "sol_dict = solve((eq1,eq2), (Tac, Tbc))\n",
    "print(f'Tac = {round(sol_dict[Tac],1)} lb')\n",
    "print(f'Tbc = {round(sol_dict[Tbc],1)} lb')"
   ]
  },
  {
   "cell_type": "code",
   "execution_count": 59,
   "metadata": {},
   "outputs": [
    {
     "name": "stdout",
     "output_type": "stream",
     "text": [
      "[11/2, -1/2, -1]\n"
     ]
    }
   ],
   "source": [
    "x, y, z=symbols('x,y,z')\n",
    "eq1 = Eq(x+y+z-4)\n",
    "eq2 = Eq(x-y+z-5)\n",
    "eq3 = Eq(x+y-z-6)\n",
    "sol_dic=solve((eq1,eq2,eq3),(x,y,z))\n",
    "print(list(sol_dic.values()))"
   ]
  },
  {
   "cell_type": "code",
   "execution_count": 60,
   "metadata": {},
   "outputs": [],
   "source": [
    "#-----------------Graph-------------"
   ]
  },
  {
   "cell_type": "code",
   "execution_count": 61,
   "metadata": {},
   "outputs": [],
   "source": [
    "import matplotlib.pyplot as plt"
   ]
  },
  {
   "cell_type": "code",
   "execution_count": 62,
   "metadata": {},
   "outputs": [
    {
     "data": {
      "image/png": "[encoded data removed]",
      "text/plain": [
       "<Figure size 720x360 with 1 Axes>"
      ]
     },
     "metadata": {
      "needs_background": "light"
     },
     "output_type": "display_data"
    }
   ],
   "source": [
    "import matplotlib.pyplot as plt\n",
    "import numpy as np\n",
    "  \n",
    "# Creating vectors X and Y\n",
    "x = np.linspace(-2, 2, 100)\n",
    "y = x ** 2\n",
    "  \n",
    "fig = plt.figure(figsize = (10, 5))\n",
    "# Create the plot\n",
    "plt.plot(x, y)\n",
    "  \n",
    "# Show the plot\n",
    "plt.show()"
   ]
  },
  {
   "cell_type": "code",
   "execution_count": 64,
   "metadata": {},
   "outputs": [
    {
     "data": {
      "image/png": "[encoded data removed]",
      "text/plain": [
       "<Figure size 432x288 with 1 Axes>"
      ]
     },
     "metadata": {
      "needs_background": "light"
     },
     "output_type": "display_data"
    }
   ],
   "source": [
    "# x axis values\n",
    "x = [1,2,3]\n",
    "# corresponding y axis values\n",
    "y = [2,4,1]\n",
    "  \n",
    "# plotting the points \n",
    "plt.plot(x, y)\n",
    "  \n",
    "# naming the x axis\n",
    "plt.xlabel('x - axis')\n",
    "# naming the y axis\n",
    "plt.ylabel('y - axis')\n",
    "  \n",
    "# giving a title to my graph\n",
    "plt.title('My first graph!')\n",
    "  \n",
    "# function to show the plot\n",
    "plt.show()"
   ]
  },
  {
   "cell_type": "code",
   "execution_count": 65,
   "metadata": {},
   "outputs": [
    {
     "data": {
      "text/plain": [
       "[<matplotlib.lines.Line2D at 0x7e443070f0>]"
      ]
     },
     "execution_count": 65,
     "metadata": {},
     "output_type": "execute_result"
    },
    {
     "data": {
      "image/png": "[encoded data removed]",
      "text/plain": [
       "<Figure size 1008x576 with 1 Axes>"
      ]
     },
     "metadata": {
      "needs_background": "light"
     },
     "output_type": "display_data"
    }
   ],
   "source": [
    "x = np.linspace(-6, 6, 50)\n",
    "  \n",
    "fig = plt.figure(figsize = (14, 8))\n",
    "  \n",
    "# Plot y = cos(x)\n",
    "y = np.cos(x)\n",
    "plt.plot(x, y, 'b', label ='cos(x)')"
   ]
  },
  {
   "cell_type": "code",
   "execution_count": 66,
   "metadata": {},
   "outputs": [
    {
     "data": {
      "image/png": "[encoded data removed]",
      "text/plain": [
       "<Figure size 432x288 with 1 Axes>"
      ]
     },
     "metadata": {
      "needs_background": "light"
     },
     "output_type": "display_data"
    }
   ],
   "source": [
    "# plot Circle\n",
    "figure, axes = plt.subplots()\n",
    "Drawing_uncolored_circle = plt.Circle( (0.6, 0.6 ),\n",
    "                                      0.3 ,\n",
    "                                      fill = False )\n",
    "  \n",
    "axes.set_aspect( 1 )\n",
    "axes.add_artist( Drawing_uncolored_circle )\n",
    "plt.title( 'Circle' )\n",
    "plt.show()"
   ]
  },
  {
   "cell_type": "code",
   "execution_count": 68,
   "metadata": {},
   "outputs": [
    {
     "data": {
      "text/plain": [
       "array([[19, 22],\n",
       "       [43, 50]])"
      ]
     },
     "execution_count": 68,
     "metadata": {},
     "output_type": "execute_result"
    }
   ],
   "source": [
    "mat1 = np.array([[1,2],[3,4]])\n",
    "mat2 = np.array([[5,6],[7,8]])\n",
    "np.dot(mat1,mat2)"
   ]
  },
  {
   "cell_type": "code",
   "execution_count": 74,
   "metadata": {},
   "outputs": [
    {
     "ename": "ValueError",
     "evalue": "attempted relative import beyond top-level package",
     "output_type": "error",
     "traceback": [
      "\u001b[1;31m---------------------------------------------------------------------------\u001b[0m",
      "\u001b[1;31mValueError\u001b[0m                                Traceback (most recent call last)",
      "\u001b[1;32m<ipython-input-74-d2bba177a4f9>\u001b[0m in \u001b[0;36m<module>\u001b[1;34m\u001b[0m\n\u001b[0;32m      2\u001b[0m \u001b[1;32mimport\u001b[0m \u001b[0msys\u001b[0m\u001b[1;33m\u001b[0m\u001b[1;33m\u001b[0m\u001b[0m\n\u001b[0;32m      3\u001b[0m \u001b[0msys\u001b[0m\u001b[1;33m.\u001b[0m\u001b[0mpath\u001b[0m\u001b[1;33m.\u001b[0m\u001b[0mappend\u001b[0m\u001b[1;33m(\u001b[0m\u001b[1;34m\"..\"\u001b[0m\u001b[1;33m)\u001b[0m\u001b[1;33m\u001b[0m\u001b[1;33m\u001b[0m\u001b[0m\n\u001b[1;32m----> 4\u001b[1;33m \u001b[1;32mfrom\u001b[0m \u001b[1;33m.\u001b[0m\u001b[1;33m.\u001b[0m \u001b[1;32mimport\u001b[0m \u001b[0mapp\u001b[0m\u001b[1;33m\u001b[0m\u001b[1;33m\u001b[0m\u001b[0m\n\u001b[0m\u001b[0;32m      5\u001b[0m \u001b[1;33m\u001b[0m\u001b[0m\n\u001b[0;32m      6\u001b[0m \u001b[1;32mclass\u001b[0m \u001b[0mTestSum\u001b[0m\u001b[1;33m(\u001b[0m\u001b[0munittest\u001b[0m\u001b[1;33m.\u001b[0m\u001b[0mTestCase\u001b[0m\u001b[1;33m)\u001b[0m\u001b[1;33m:\u001b[0m\u001b[1;33m\u001b[0m\u001b[1;33m\u001b[0m\u001b[0m\n",
      "\u001b[1;31mValueError\u001b[0m: attempted relative import beyond top-level package"
     ]
    }
   ],
   "source": [
    "import unittest\n",
    "import sys\n",
    "sys.path.append(\"..\")\n",
    "from .. import app\n",
    "  \n",
    "class TestSum(unittest.TestCase):\n",
    "  \n",
    "    def test_area(self):\n",
    "        sq = app.Square(2)\n",
    "  \n",
    "        self.assertEqual(sq.area(), 4, \n",
    "            f'Area is shown {sq.area()} rather than 9')\n",
    "  \n",
    "if __name__ == '__main__':\n",
    "    unittest.main()"
   ]
  },
  {
   "cell_type": "code",
   "execution_count": 89,
   "metadata": {
    "scrolled": true
   },
   "outputs": [
    {
     "name": "stdout",
     "output_type": "stream",
     "text": [
      "6\n"
     ]
    }
   ],
   "source": [
    "l1=[2,4,1]\n",
    "c=lambda a,b,d:a*b*d\n",
    "print(c(2,3,1))"
   ]
  },
  {
   "cell_type": "code",
   "execution_count": 92,
   "metadata": {},
   "outputs": [],
   "source": [
    "l1.sort(reverse=False)"
   ]
  },
  {
   "cell_type": "code",
   "execution_count": 93,
   "metadata": {},
   "outputs": [
    {
     "data": {
      "text/plain": [
       "[1, 2, 4]"
      ]
     },
     "execution_count": 93,
     "metadata": {},
     "output_type": "execute_result"
    }
   ],
   "source": [
    "l1"
   ]
  },
  {
   "cell_type": "code",
   "execution_count": 100,
   "metadata": {},
   "outputs": [
    {
     "name": "stdout",
     "output_type": "stream",
     "text": [
      "1\n",
      "2\n",
      "3\n"
     ]
    }
   ],
   "source": [
    "s1=set([1,2,3])\n",
    "for i in s1:\n",
    "    print(i)"
   ]
  },
  {
   "cell_type": "code",
   "execution_count": 101,
   "metadata": {},
   "outputs": [
    {
     "data": {
      "text/plain": [
       "'Creating a ChainMap\\nWe create two dictionaries and club them using the ChainMap method from the collections library.\\nThen we print the keys and values of the result of the combination of the dictionaries.\\nIf there are duplicate keys, then only the value from the first key is preserved'"
      ]
     },
     "execution_count": 101,
     "metadata": {},
     "output_type": "execute_result"
    }
   ],
   "source": [
    "\"\"\"Creating a ChainMap\n",
    "We create two dictionaries and club them using the ChainMap method from the collections library.\n",
    "Then we print the keys and values of the result of the combination of the dictionaries.\n",
    "If there are duplicate keys, then only the value from the first key is preserved\"\"\""
   ]
  },
  {
   "cell_type": "code",
   "execution_count": 102,
   "metadata": {},
   "outputs": [
    {
     "name": "stdout",
     "output_type": "stream",
     "text": [
      "[{'day1': 'Mon', 'day2': 'Tue'}, {'day3': 'Wed', 'day1': 'Thu'}] \n",
      "\n",
      "Keys = ['day3', 'day1', 'day2']\n",
      "Values = ['Wed', 'Mon', 'Tue']\n",
      "\n",
      "elements:\n",
      "day3 = Wed\n",
      "day1 = Mon\n",
      "day2 = Tue\n",
      "\n",
      "day3 in res: True\n",
      "day4 in res: False\n"
     ]
    }
   ],
   "source": [
    "import collections\n",
    "\n",
    "dict1 = {'day1': 'Mon', 'day2': 'Tue'}\n",
    "dict2 = {'day3': 'Wed', 'day1': 'Thu'}\n",
    "\n",
    "res = collections.ChainMap(dict1, dict2)\n",
    "\n",
    "# Creating a single dictionary\n",
    "print(res.maps,'\\n')\n",
    "\n",
    "print('Keys = {}'.format(list(res.keys())))\n",
    "print('Values = {}'.format(list(res.values())))\n",
    "print()\n",
    "\n",
    "# Print all the elements from the result\n",
    "print('elements:')\n",
    "for key, val in res.items():\n",
    "   print('{} = {}'.format(key, val))\n",
    "print()\n",
    "\n",
    "# Find a specific value in the result\n",
    "print('day3 in res: {}'.format(('day1' in res)))\n",
    "print('day4 in res: {}'.format(('day4' in res)))"
   ]
  },
  {
   "cell_type": "code",
   "execution_count": 105,
   "metadata": {},
   "outputs": [
    {
     "name": "stdout",
     "output_type": "stream",
     "text": [
      "{'color': 'red', 'shape': 'square', 'edges': 4}\n"
     ]
    }
   ],
   "source": [
    "dict1 = {'color': 'blue', 'shape': 'square'}\n",
    "dict2 = {'color': 'red', 'edges': 4}\n",
    "dict1.update(dict2)\n",
    "print(dict1)"
   ]
  },
  {
   "cell_type": "code",
   "execution_count": 107,
   "metadata": {},
   "outputs": [
    {
     "name": "stdout",
     "output_type": "stream",
     "text": [
      "{'a': 6, 'b': 8, 'c': 4}\n"
     ]
    }
   ],
   "source": [
    "# Python code to merge dict using a single\n",
    "# expression\n",
    "def Merge(dict1, dict2):\n",
    "    res = {**dict1, **dict2}\n",
    "    return res\n",
    "     \n",
    "# Driver code\n",
    "dict1 = {'a': 10, 'b': 8}\n",
    "dict2 = {'a': 6, 'c': 4}\n",
    "dict3 = Merge(dict1, dict2)\n",
    "print(dict3)"
   ]
  },
  {
   "cell_type": "code",
   "execution_count": 114,
   "metadata": {},
   "outputs": [
    {
     "name": "stdout",
     "output_type": "stream",
     "text": [
      "{2, 3, 4, 5, 6, 7}\n",
      "[2, 3, 4, 5, 7, 6]\n"
     ]
    }
   ],
   "source": [
    "from collections import OrderedDict\n",
    "test_list=[2,3,4,2,5,4,7,4,4,6]\n",
    "res = list(OrderedDict.fromkeys(test_list))\n",
    "print(set(test_list))\n",
    "print(res)"
   ]
  },
  {
   "cell_type": "code",
   "execution_count": 115,
   "metadata": {},
   "outputs": [
    {
     "name": "stdout",
     "output_type": "stream",
     "text": [
      "9\n"
     ]
    }
   ],
   "source": [
    "#Nested Lambda function\n",
    "f = lambda a = 2, b = 3:lambda c: a+b+c\n",
    "  \n",
    "o = f()\n",
    "print(o(4))"
   ]
  },
  {
   "cell_type": "code",
   "execution_count": 124,
   "metadata": {},
   "outputs": [
    {
     "data": {
      "text/plain": [
       "<map at 0x7e443138d0>"
      ]
     },
     "execution_count": 124,
     "metadata": {},
     "output_type": "execute_result"
    }
   ],
   "source": [
    "# l1=[1,2,3,4]\n",
    "# l2=[1,2,3,4]\n",
    "# for i in l1:\n",
    "#     d1[i]=i\n",
    "# print(d1)\n",
    "l1=[1,2,3,4]\n",
    "l2=[1,2,3,4]\n",
    "# for i in filter(map(l1,l2)):\n",
    "map(l1,l2)\n"
   ]
  },
  {
   "cell_type": "code",
   "execution_count": 138,
   "metadata": {},
   "outputs": [
    {
     "name": "stdout",
     "output_type": "stream",
     "text": [
      "3456\n"
     ]
    }
   ],
   "source": [
    "l2=[3,4,5,6]\n",
    "# n=''.join(str(l2))\n",
    "# print(n)\n",
    "str1=''\n",
    "for i in l2:\n",
    "    str1=str1+str(i)\n",
    "print(str1)\n"
   ]
  },
  {
   "cell_type": "code",
   "execution_count": 146,
   "metadata": {},
   "outputs": [
    {
     "name": "stdout",
     "output_type": "stream",
     "text": [
      "[3, 4, 5] [3, 4, 5, 6]\n"
     ]
    }
   ],
   "source": [
    "l2=[3,4,5,6]\n",
    "\n",
    "# l2.remove(max(l2))\n",
    "# print(max(l2))\n",
    "# l3=sorted(l2)\n",
    "# l3.remove(max(l3))\n",
    "# print(l3,l2)\n",
    "max1=max(l2)"
   ]
  },
  {
   "cell_type": "code",
   "execution_count": 148,
   "metadata": {},
   "outputs": [
    {
     "name": "stdout",
     "output_type": "stream",
     "text": [
      "[16, 25, 36, 49]\n"
     ]
    }
   ],
   "source": [
    "l1=[4,5,6,7]\n",
    "l2=[x**2 for x in l1]\n",
    "print(l2)"
   ]
  },
  {
   "cell_type": "code",
   "execution_count": 150,
   "metadata": {},
   "outputs": [
    {
     "name": "stdout",
     "output_type": "stream",
     "text": [
      "[5, 6]\n"
     ]
    }
   ],
   "source": [
    "print(l1[1:3])"
   ]
  },
  {
   "cell_type": "code",
   "execution_count": 9,
   "metadata": {},
   "outputs": [
    {
     "name": "stdout",
     "output_type": "stream",
     "text": [
      "4 110\n"
     ]
    },
    {
     "ename": "AttributeError",
     "evalue": "'super' object has no attribute '_comp1__init'",
     "output_type": "error",
     "traceback": [
      "\u001b[1;31m---------------------------------------------------------------------------\u001b[0m",
      "\u001b[1;31mAttributeError\u001b[0m                            Traceback (most recent call last)",
      "\u001b[1;32m<ipython-input-9-b2277a4de1d4>\u001b[0m in \u001b[0;36m<module>\u001b[1;34m\u001b[0m\n\u001b[0;32m     10\u001b[0m \u001b[0mc1\u001b[0m\u001b[1;33m=\u001b[0m\u001b[0mcomp\u001b[0m\u001b[1;33m(\u001b[0m\u001b[1;36m4\u001b[0m\u001b[1;33m,\u001b[0m\u001b[1;36m110\u001b[0m\u001b[1;33m)\u001b[0m\u001b[1;33m\u001b[0m\u001b[1;33m\u001b[0m\u001b[0m\n\u001b[0;32m     11\u001b[0m \u001b[1;31m# c1.ram=5\u001b[0m\u001b[1;33m\u001b[0m\u001b[1;33m\u001b[0m\u001b[1;33m\u001b[0m\u001b[0m\n\u001b[1;32m---> 12\u001b[1;33m \u001b[0mc3\u001b[0m\u001b[1;33m=\u001b[0m\u001b[0mcomp1\u001b[0m\u001b[1;33m(\u001b[0m\u001b[1;33m)\u001b[0m\u001b[1;33m\u001b[0m\u001b[1;33m\u001b[0m\u001b[0m\n\u001b[0m\u001b[0;32m     13\u001b[0m \u001b[1;31m# print(c3.ram,c3.num)\u001b[0m\u001b[1;33m\u001b[0m\u001b[1;33m\u001b[0m\u001b[1;33m\u001b[0m\u001b[0m\n",
      "\u001b[1;32m<ipython-input-9-b2277a4de1d4>\u001b[0m in \u001b[0;36m__init__\u001b[1;34m(self)\u001b[0m\n\u001b[0;32m      6\u001b[0m \u001b[1;32mclass\u001b[0m \u001b[0mcomp1\u001b[0m\u001b[1;33m(\u001b[0m\u001b[0mcomp\u001b[0m\u001b[1;33m)\u001b[0m\u001b[1;33m:\u001b[0m\u001b[1;33m\u001b[0m\u001b[1;33m\u001b[0m\u001b[0m\n\u001b[0;32m      7\u001b[0m     \u001b[1;32mdef\u001b[0m \u001b[0m__init__\u001b[0m\u001b[1;33m(\u001b[0m\u001b[0mself\u001b[0m\u001b[1;33m)\u001b[0m\u001b[1;33m:\u001b[0m\u001b[1;33m\u001b[0m\u001b[1;33m\u001b[0m\u001b[0m\n\u001b[1;32m----> 8\u001b[1;33m         \u001b[0msuper\u001b[0m\u001b[1;33m(\u001b[0m\u001b[1;33m)\u001b[0m\u001b[1;33m.\u001b[0m\u001b[0m__init\u001b[0m\u001b[1;33m(\u001b[0m\u001b[0mself\u001b[0m\u001b[1;33m)\u001b[0m\u001b[1;33m\u001b[0m\u001b[1;33m\u001b[0m\u001b[0m\n\u001b[0m\u001b[0;32m      9\u001b[0m \u001b[1;33m\u001b[0m\u001b[0m\n\u001b[0;32m     10\u001b[0m \u001b[0mc1\u001b[0m\u001b[1;33m=\u001b[0m\u001b[0mcomp\u001b[0m\u001b[1;33m(\u001b[0m\u001b[1;36m4\u001b[0m\u001b[1;33m,\u001b[0m\u001b[1;36m110\u001b[0m\u001b[1;33m)\u001b[0m\u001b[1;33m\u001b[0m\u001b[1;33m\u001b[0m\u001b[0m\n",
      "\u001b[1;31mAttributeError\u001b[0m: 'super' object has no attribute '_comp1__init'"
     ]
    }
   ],
   "source": [
    "class comp:\n",
    "    def __init__(self,ram,num):\n",
    "        self.ram = ram\n",
    "        self.p = num\n",
    "        print(self.ram,self.p)\n",
    "class comp1(comp):\n",
    "    def __init__(self):\n",
    "        super().__init(self)\n",
    "\n",
    "c1=comp(4,110)\n",
    "# c1.ram=5\n",
    "c3=comp1()\n",
    "# print(c3.ram,c3.num)\n"
   ]
  },
  {
   "cell_type": "code",
   "execution_count": 4,
   "metadata": {},
   "outputs": [
    {
     "name": "stdout",
     "output_type": "stream",
     "text": [
      "Hi! My name is First Last\n"
     ]
    }
   ],
   "source": [
    "class Person(object):\n",
    "    def __init__(self):\n",
    "        self.name = \"{} {}\".format(\"First\",\"Last\")\n",
    "\n",
    "class Employee(Person):\n",
    "    def introduce(self):\n",
    "        print(\"Hi! My name is {}\".format(self.name))\n",
    "\n",
    "e = Employee()\n",
    "e.introduce()"
   ]
  },
  {
   "cell_type": "code",
   "execution_count": null,
   "metadata": {},
   "outputs": [],
   "source": []
  },
  {
   "cell_type": "code",
   "execution_count": null,
   "metadata": {},
   "outputs": [],
   "source": []
  },
  {
   "cell_type": "code",
   "execution_count": null,
   "metadata": {},
   "outputs": [],
   "source": []
  }
 ],
 "metadata": {
  "kernelspec": {
   "display_name": "Python 3 (ipykernel)",
   "language": "python",
   "name": "python3"
  },
  "language_info": {
   "codemirror_mode": {
    "name": "ipython",
    "version": 3
   },
   "file_extension": ".py",
   "mimetype": "text/x-python",
   "name": "python",
   "nbconvert_exporter": "python",
   "pygments_lexer": "ipython3",
   "version": "3.9.15"
  }
 },
 "nbformat": 4,
 "nbformat_minor": 4
}
