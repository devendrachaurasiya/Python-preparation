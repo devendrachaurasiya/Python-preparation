{
 "cells": [
  {
   "cell_type": "code",
   "execution_count": 4,
   "metadata": {},
   "outputs": [
    {
     "name": "stdout",
     "output_type": "stream",
     "text": [
      "JKDJKLFDKFFKJF JJJFJ jlkjlfjf HHHd\n",
      "hdhhdHH djdjjGG\n",
      "mjkfdljf\n",
      "jlcld\n",
      "jmsllslslsclnvdsmcn\n"
     ]
    }
   ],
   "source": [
    "# a file named \"geek\", will be opened with the reading mode. \n",
    "file = open('LARGE.txt', 'r') \n",
    "# This will print every line one by one in the file \n",
    "for each in file: \n",
    "    print (each,end=\"\")"
   ]
  },
  {
   "cell_type": "code",
   "execution_count": 3,
   "metadata": {},
   "outputs": [
    {
     "name": "stdout",
     "output_type": "stream",
     "text": [
      "JKDJKLFDKFFKJF JJJFJ jlkjlfjf HHHd\n",
      "hdhhdHH djdjjGG\n",
      "mjkfdljf\n",
      "jlcld\n",
      "jmsllslslsclnvdsmcn\n",
      "\n"
     ]
    }
   ],
   "source": [
    "file = open(\"LARGE.txt\", \"r\")  \n",
    "print(file.read())"
   ]
  },
  {
   "cell_type": "code",
   "execution_count": 7,
   "metadata": {},
   "outputs": [],
   "source": [
    "# Python code to create a file \n",
    "file = open('geek.txt','w') \n",
    "file.write(\"This is the write command\") \n",
    "file.write(\"It allows us to write in a particular file.\") \n",
    "file.close()"
   ]
  },
  {
   "cell_type": "code",
   "execution_count": 8,
   "metadata": {},
   "outputs": [],
   "source": [
    "# Python code to illustrate append() mode \n",
    "file = open('geek.txt','a') \n",
    "file.write(\"This will add this line\") \n",
    "file.close() \n"
   ]
  },
  {
   "cell_type": "code",
   "execution_count": 9,
   "metadata": {},
   "outputs": [
    {
     "name": "stdout",
     "output_type": "stream",
     "text": [
      "JKDJKLFDKFFKJF JJJFJ jlkjlfjf HHHd\n",
      "hdhhdHH djdjjGG\n",
      "mjkfdljf\n",
      "jlcld\n",
      "jmsllslslsclnvdsmcn\n",
      "\n"
     ]
    }
   ],
   "source": [
    "#using \n",
    "with open('LARGE.txt') as file:\n",
    "    print(file.read())"
   ]
  },
  {
   "cell_type": "code",
   "execution_count": 1,
   "metadata": {},
   "outputs": [
    {
     "name": "stdout",
     "output_type": "stream",
     "text": [
      "['JKDJKLFDKFFKJF', 'JJJFJ', 'jlkjlfjf', 'HHHd']\n"
     ]
    }
   ],
   "source": [
    "# Python code to illustrate split() function \n",
    "with open(\"LARGE.txt\", \"r\") as file: \n",
    "    data = file.readlines() \n",
    "    for line in data: \n",
    "        word = line.split(',') \n",
    "        print(word) "
   ]
  },
  {
   "cell_type": "code",
   "execution_count": null,
   "metadata": {},
   "outputs": [],
   "source": []
  }
 ],
 "metadata": {
  "kernelspec": {
   "display_name": "Python 3 (ipykernel)",
   "language": "python",
   "name": "python3"
  },
  "language_info": {
   "codemirror_mode": {
    "name": "ipython",
    "version": 3
   },
   "file_extension": ".py",
   "mimetype": "text/x-python",
   "name": "python",
   "nbconvert_exporter": "python",
   "pygments_lexer": "ipython3",
   "version": "3.9.15"
  }
 },
 "nbformat": 4,
 "nbformat_minor": 2
}
