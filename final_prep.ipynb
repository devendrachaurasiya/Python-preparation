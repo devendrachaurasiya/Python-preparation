{
 "cells": [
  {
   "cell_type": "code",
   "execution_count": 2,
   "id": "d5e64a55",
   "metadata": {},
   "outputs": [
    {
     "name": "stdout",
     "output_type": "stream",
     "text": [
      "b'd\\x00\\x00\\x00\\xc8\\x00\\x00\\x00'\n"
     ]
    }
   ],
   "source": [
    "import struct\n",
    "\n",
    "# Pack two integers into a binary buffer\n",
    "buffer = struct.pack('ii', 100, 200)\n",
    "print(buffer)\n",
    "# Unpack the buffer\n",
    "# num1, num2 = struct.unpack('ii', buffer)\n",
    "# print(num1, num2) "
   ]
  },
  {
   "cell_type": "code",
   "execution_count": 3,
   "id": "44b02983",
   "metadata": {},
   "outputs": [
    {
     "name": "stdout",
     "output_type": "stream",
     "text": [
      "[12, 23, 34, 5, 67]\n"
     ]
    }
   ],
   "source": [
    "def custom_sort(x):\n",
    "    return x % 10  # Sort by the last digit\n",
    "\n",
    "numbers = [23, 5, 12, 67, 34]\n",
    "print(sorted(numbers, key=custom_sort)) \n"
   ]
  },
  {
   "cell_type": "code",
   "execution_count": 6,
   "id": "48a14f07",
   "metadata": {},
   "outputs": [
    {
     "name": "stdout",
     "output_type": "stream",
     "text": [
      "False\n",
      "True\n",
      "False\n",
      "True\n",
      "False\n",
      "True\n"
     ]
    }
   ],
   "source": [
    "numbers = [1, 2, 3, 4, 5, 6]\n",
    "even_numbers = filter(lambda x: x % 2 == 0, numbers)\n",
    "for i in even_numbers:\n",
    "    print(i)"
   ]
  },
  {
   "cell_type": "code",
   "execution_count": 1,
   "id": "2e8525ec",
   "metadata": {},
   "outputs": [
    {
     "data": {
      "text/plain": [
       "['hello', 'world']"
      ]
     },
     "execution_count": 1,
     "metadata": {},
     "output_type": "execute_result"
    }
   ],
   "source": [
    "def lowercase_decorator(function):\n",
    "   def wrapper():\n",
    "       func = function()\n",
    "       string_lowercase = func.lower()\n",
    "       return string_lowercase\n",
    "   return wrapper\n",
    "# decorator function to split words\n",
    "def splitter_decorator(function):\n",
    "   def wrapper():\n",
    "       func = function()\n",
    "       string_split = func.split()\n",
    "       return string_split\n",
    "   return wrapper\n",
    "@splitter_decorator # this is executed next\n",
    "@lowercase_decorator # this is executed first\n",
    "def hello():\n",
    "   return 'Hello World'\n",
    "hello()  "
   ]
  },
  {
   "cell_type": "code",
   "execution_count": 6,
   "id": "0b3d1ee0",
   "metadata": {},
   "outputs": [
    {
     "name": "stdout",
     "output_type": "stream",
     "text": [
      "2a2b2c2b2d1a\n"
     ]
    }
   ],
   "source": [
    "s1 = \"aabbccbbdda\"\n",
    "l1 = \"\"\n",
    "count = 1\n",
    "char = s1[0]\n",
    "for i in s1[1:]:\n",
    "    if i == char:\n",
    "        count+=1\n",
    "    else:\n",
    "        l1+=str(count)\n",
    "        l1+=char\n",
    "        char = i\n",
    "        count = 1\n",
    "l1+=str(count)+char\n",
    "print(l1)\n",
    "        "
   ]
  },
  {
   "cell_type": "code",
   "execution_count": null,
   "id": "6d67282f",
   "metadata": {},
   "outputs": [],
   "source": [
    "s1 = ''"
   ]
  },
  {
   "cell_type": "code",
   "execution_count": 4,
   "id": "ff40733b",
   "metadata": {},
   "outputs": [
    {
     "name": "stdout",
     "output_type": "stream",
     "text": [
      "yes\n"
     ]
    }
   ],
   "source": [
    "a =1\n",
    "b=0\n",
    "c=1\n",
    "if a or b and c:\n",
    "    print(\"yes\")"
   ]
  },
  {
   "cell_type": "code",
   "execution_count": 12,
   "id": "06f6c36c",
   "metadata": {},
   "outputs": [
    {
     "name": "stdout",
     "output_type": "stream",
     "text": [
      "Code Chef\n"
     ]
    }
   ],
   "source": [
    "print(\"Code\",\"Chef\")"
   ]
  },
  {
   "cell_type": "code",
   "execution_count": 2,
   "id": "b3949f0e",
   "metadata": {},
   "outputs": [
    {
     "name": "stdout",
     "output_type": "stream",
     "text": [
      "2\n",
      "3\n",
      "4\n",
      "5\n",
      "120\n"
     ]
    }
   ],
   "source": [
    "def multiply(a, b, *argv):\n",
    "   mul = a * b\n",
    "   print(mul)\n",
    "   for num in argv:\n",
    "       print(num)\n",
    "       mul *= num\n",
    "   return mul\n",
    "print(multiply(1, 2, 3, 4, 5))"
   ]
  },
  {
   "cell_type": "code",
   "execution_count": null,
   "id": "a073fdcd",
   "metadata": {},
   "outputs": [],
   "source": [
    "In Python, an iterator is an object that allows you to iterate over elements of a\n",
    "collection (like a list, tuple, or dictionary) one at a time. Iterators implement \n",
    "two special methods:\n",
    "\n",
    "__iter__(): Returns the iterator object itself. This is required to make an object iterable.\n",
    "__next__(): Returns the next element in the sequence. When there are no more elements, it raises a StopIteration exception.\n",
    "Example: Using an Iterator with a Built-in Collection\n",
    "Example with a List\n",
    "python\n",
    "Copy code\n",
    "# A list is iterable\n",
    "my_list = [1, 2, 3, 4]\n",
    "\n",
    "# Get an iterator from the list\n",
    "my_iterator = iter(my_list)\n",
    "\n",
    "# Access elements one at a time using the iterator\n",
    "print(next(my_iterator))  # Output: 1\n",
    "print(next(my_iterator))  # Output: 2\n",
    "print(next(my_iterator))  # Output: 3\n",
    "print(next(my_iterator))  # Output: 4\n",
    "\n",
    "# Raises StopIteration since there are no more elements\n",
    "# print(next(my_iterator))"
   ]
  },
  {
   "cell_type": "code",
   "execution_count": null,
   "id": "d69bdde5",
   "metadata": {},
   "outputs": [],
   "source": [
    "def tellArguments(**kwargs):\n",
    "   for key, value in kwargs.items():\n",
    "       print(key + \": \" + value)\n",
    "tellArguments(arg1 = \"argument 1\", arg2 = \"argument 2\", arg3 = \"argument 3\")"
   ]
  },
  {
   "cell_type": "code",
   "execution_count": 10,
   "id": "fe85ad24",
   "metadata": {},
   "outputs": [
    {
     "data": {
      "text/plain": [
       "[1, 2, 3, [16]]"
      ]
     },
     "execution_count": 10,
     "metadata": {},
     "output_type": "execute_result"
    }
   ],
   "source": [
    "l1 = [1,2,3]\n",
    "l1.append([16])\n",
    "l1"
   ]
  },
  {
   "cell_type": "code",
   "execution_count": null,
   "id": "bdff98b8",
   "metadata": {},
   "outputs": [],
   "source": [
    "def names_decorator(function):\n",
    "   def wrapper(arg1, arg2):\n",
    "       arg1 = arg1.capitalize()\n",
    "       arg2 = arg2.capitalize()\n",
    "       string_hello = function(arg1, arg2)\n",
    "       return string_hello\n",
    "   return wrapper\n",
    "@names_decorator\n",
    "def say_hello(name1, name2):\n",
    "   return 'Hello ' + name1 + '! Hello ' + name2 + '!'\n",
    "say_hello('sara', 'ansh')"
   ]
  },
  {
   "cell_type": "code",
   "execution_count": 9,
   "id": "696b0e33",
   "metadata": {},
   "outputs": [
    {
     "data": {
      "text/plain": [
       "True"
      ]
     },
     "execution_count": 9,
     "metadata": {},
     "output_type": "execute_result"
    }
   ],
   "source": [
    "# a = False\n",
    "# if not a:\n",
    "#     print(a)\n",
    "0 == False"
   ]
  },
  {
   "cell_type": "code",
   "execution_count": 7,
   "id": "b3f09e48",
   "metadata": {},
   "outputs": [],
   "source": [
    "class RestrictCreation:\n",
    "    _allowed = True\n",
    "\n",
    "    def __new__(cls, *args, **kwargs):\n",
    "        if not cls._allowed:\n",
    "            raise Exception(\"Object creation is restricted\")\n",
    "        return super().__new__(cls)\n",
    "\n",
    "    @classmethod\n",
    "    def allow_creation(cls):\n",
    "        cls._allowed = True\n",
    "\n",
    "# Enabling and creating objects\n",
    "RestrictCreation.allow_creation()\n",
    "obj = RestrictCreation()"
   ]
  },
  {
   "cell_type": "code",
   "execution_count": 5,
   "id": "21fa03d8",
   "metadata": {},
   "outputs": [
    {
     "name": "stdout",
     "output_type": "stream",
     "text": [
      "Y\n"
     ]
    }
   ],
   "source": [
    "_allowed = False\n",
    "if not _allowed:\n",
    "    print(\"Y\")"
   ]
  },
  {
   "cell_type": "code",
   "execution_count": null,
   "id": "ebb9ac4a",
   "metadata": {},
   "outputs": [],
   "source": [
    "def num():\n",
    "    yield 1\n",
    "    yield 2\n",
    "    yield 3\n",
    "print(num().__next__())\n",
    "print(num().__next__())\n",
    "print(num().__next__())\n",
    "\n",
    "\"\"\"The code you've written will not work as expected because each call to num() \n",
    "creates a new generator instance, and calling __next__() on it starts the generator\n",
    "from the beginning.\"\"\"\n",
    "print(num().__next__())  # Output: 1 (new generator starts from the first yield)\n",
    "print(num().__next__())  # Output: 1 (new generator starts from the first yield again)\n",
    "print(num().__next__())  # Output: 1 (new generator starts from the first yield again)\n",
    "\n",
    "Correct Usage\n",
    "\n",
    "def num():\n",
    "    yield 1\n",
    "    yield 2\n",
    "    yield 3\n",
    "\n",
    "gen = num()  # Create a generator instance\n",
    "print(gen.__next__())  # Output: 1\n",
    "print(gen.__next__())  # Output: 2\n",
    "print(gen.__next__())  # Output: 3\n",
    "Or better yet, use a loop to handle iteration:\n",
    "\n",
    "python\n",
    "Copy code\n",
    "for value in num():\n",
    "    print(value)"
   ]
  },
  {
   "cell_type": "code",
   "execution_count": null,
   "id": "5e10ec39",
   "metadata": {},
   "outputs": [],
   "source": [
    "class MyClass:\n",
    "  \n",
    "    # Hidden member of MyClass\n",
    "    __hiddenVariable = 10\n",
    "  \n",
    "# Driver code\n",
    "myObject = MyClass()     \n",
    "print(myObject._MyClass__hiddenVariable)"
   ]
  },
  {
   "cell_type": "code",
   "execution_count": 4,
   "id": "b03562df",
   "metadata": {},
   "outputs": [
    {
     "name": "stdout",
     "output_type": "stream",
     "text": [
      "6\n"
     ]
    }
   ],
   "source": [
    "x = (lambda x,y: x*y)\n",
    "print(x(2,3))"
   ]
  },
  {
   "cell_type": "code",
   "execution_count": null,
   "id": "eb191c5c",
   "metadata": {},
   "outputs": [],
   "source": [
    "In Python, you can restrict object creation in various ways, depending on the use case. Below are several methods to control or limit object creation:\n",
    "\n",
    "1. Using a Private Constructor\n",
    "You can restrict object creation by making the constructor private. This can be achieved by defining a class method to control instantiation and using a class attribute to limit the number of objects created.\n",
    "\n",
    "class Singleton:\n",
    "    _instance = None  # Class attribute to store the instance\n",
    "\n",
    "    def __new__(cls, *args, **kwargs):\n",
    "        if cls._instance is None:\n",
    "            cls._instance = super().__new__(cls)  # Create a new instance\n",
    "        return cls._instance\n",
    "\n",
    "# Only one instance is created\n",
    "obj1 = Singleton()\n",
    "obj2 = Singleton()\n",
    "print(obj1 is obj2)  # Output: True\n",
    "2. Limiting Object Creation Using a Class Attribute\n",
    "You can use a class-level attribute to count the number of objects created and restrict object creation based on a condition.\n",
    "\n",
    "Example:\n",
    "python\n",
    "Copy code\n",
    "class LimitedInstances:\n",
    "    _instances = 0  # Class attribute to count instances\n",
    "    _max_instances = 3  # Limit the number of objects\n",
    "\n",
    "    def __new__(cls, *args, **kwargs):\n",
    "        if cls._instances >= cls._max_instances:\n",
    "            raise Exception(\"Maximum number of instances reached\")\n",
    "        cls._instances += 1\n",
    "        return super().__new__(cls)\n",
    "\n",
    "# Creating objects\n",
    "obj1 = LimitedInstances()\n",
    "obj2 = LimitedInstances()\n",
    "obj3 = LimitedInstances()\n",
    "# obj4 = LimitedInstances()  # Raises Exception: Maximum number of instances reached\n",
    "3. Using a Factory Method\n",
    "A factory method can control how objects are created and can enforce restrictions programmatically.\n",
    "\n",
    "Example:\n",
    "python\n",
    "Copy code\n",
    "class Factory:\n",
    "    _instances = []\n",
    "\n",
    "    @classmethod\n",
    "    def create_instance(cls):\n",
    "        if len(cls._instances) >= 2:  # Restrict to 2 instances\n",
    "            raise Exception(\"Instance creation restricted!\")\n",
    "        instance = cls()\n",
    "        cls._instances.append(instance)\n",
    "        return instance\n",
    "\n",
    "# Creating instances via factory\n",
    "obj1 = Factory.create_instance()\n",
    "obj2 = Factory.create_instance()\n",
    "# obj3 = Factory.create_instance()  # Raises Exception\n",
    "4. Using the __new__ Method\n",
    "The __new__ method can be overridden to control object creation at the lowest level.\n",
    "\n",
    "Example:\n",
    "python\n",
    "Copy code\n",
    "class RestrictCreation:\n",
    "    _allowed = False\n",
    "\n",
    "    def __new__(cls, *args, **kwargs):\n",
    "        if not cls._allowed:\n",
    "            raise Exception(\"Object creation is restricted\")\n",
    "        return super().__new__(cls)\n",
    "\n",
    "    @classmethod\n",
    "    def allow_creation(cls):\n",
    "        cls._allowed = True\n",
    "\n",
    "# Enabling and creating objects\n",
    "RestrictCreation.allow_creation()\n",
    "obj = RestrictCreation()\n",
    "5. Using a Singleton Design Pattern\n",
    "To restrict an object to a single instance, implement the Singleton pattern.\n",
    "\n",
    "Example:\n",
    "python\n",
    "Copy code\n",
    "class Singleton:\n",
    "    _instance = None\n",
    "\n",
    "    def __new__(cls, *args, **kwargs):\n",
    "        if cls._instance is None:\n",
    "            cls._instance = super().__new__(cls)\n",
    "        return cls._instance\n",
    "\n",
    "obj1 = Singleton()\n",
    "obj2 = Singleton()\n",
    "print(obj1 is obj2)  # Output: True\n",
    "6. Using a Metaclass\n",
    "You can define a metaclass to restrict the creation of objects.\n",
    "\n",
    "Example:\n",
    "python\n",
    "Copy code\n",
    "class RestrictMeta(type):\n",
    "    _instances = 0\n",
    "    _max_instances = 2\n",
    "\n",
    "    def __call__(cls, *args, **kwargs):\n",
    "        if cls._instances >= cls._max_instances:\n",
    "            raise Exception(\"Cannot create more instances\")\n",
    "        cls._instances += 1\n",
    "        return super().__call__(*args, **kwargs)\n",
    "\n",
    "class RestrictedClass(metaclass=RestrictMeta):\n",
    "    pass\n",
    "\n",
    "# Creating instances\n",
    "obj1 = RestrictedClass()\n",
    "obj2 = RestrictedClass()\n",
    "# obj3 = RestrictedClass()  # Raises Exception\n",
    "When to Use Each Method\n",
    "Singleton Pattern: When you want only one instance of a class.\n",
    "Class Attribute Counter: To set a specific limit on the number of instances.\n",
    "Factory Method: When more complex object creation control is needed.\n",
    "Metaclass: For advanced use cases or when you want to enforce restrictions across multiple classes."
   ]
  },
  {
   "cell_type": "code",
   "execution_count": 13,
   "id": "a0da1b4f",
   "metadata": {},
   "outputs": [
    {
     "data": {
      "text/plain": [
       "['alna', 'alpha']"
      ]
     },
     "execution_count": 13,
     "metadata": {},
     "output_type": "execute_result"
    }
   ],
   "source": [
    "l3 = ['alna','alpha']\n",
    "l3.sort()\n",
    "l3"
   ]
  },
  {
   "cell_type": "code",
   "execution_count": null,
   "id": "6bc4b0c0",
   "metadata": {},
   "outputs": [],
   "source": [
    "# without inbuilt function\n",
    "def bubble_sort(arr):\n",
    "    n = len(arr)\n",
    "    for i in range(n):\n",
    "        for j in range(0, n-i-1):\n",
    "            if arr[j] > arr[j+1]:  # Swap if the current element is greater\n",
    "                arr[j], arr[j+1] = arr[j+1], arr[j]\n",
    "\n",
    "# Example usage\n",
    "strings = [\"banana\", \"apple\", \"cherry\"]\n",
    "bubble_sort(strings)\n",
    "print(strings)  # ['apple', 'banana', 'cherry']"
   ]
  },
  {
   "cell_type": "code",
   "execution_count": 20,
   "id": "5daa9feb",
   "metadata": {},
   "outputs": [],
   "source": [
    "a = 0\n",
    "b=  0\n",
    "c = 0\n",
    "if a or b or c:\n",
    "    print(\"India\")"
   ]
  },
  {
   "cell_type": "code",
   "execution_count": null,
   "id": "b6a0136d",
   "metadata": {},
   "outputs": [],
   "source": []
  },
  {
   "cell_type": "code",
   "execution_count": 7,
   "id": "f5443610",
   "metadata": {},
   "outputs": [],
   "source": [
    "if 0 == None:\n",
    "    print(\"yes\")"
   ]
  },
  {
   "cell_type": "code",
   "execution_count": 17,
   "id": "759c8284",
   "metadata": {},
   "outputs": [
    {
     "name": "stdout",
     "output_type": "stream",
     "text": [
      "43\n"
     ]
    }
   ],
   "source": [
    "no_arg = lambda: 43\n",
    "print(no_arg())"
   ]
  },
  {
   "cell_type": "code",
   "execution_count": 20,
   "id": "4747746c",
   "metadata": {},
   "outputs": [
    {
     "name": "stdout",
     "output_type": "stream",
     "text": [
      "No arguments here!\n"
     ]
    }
   ],
   "source": [
    "execute_function = lambda func: func()\n",
    "\n",
    "# Calling with a no-argument lambda\n",
    "print(execute_function(lambda: \"No arguments here!\"))"
   ]
  },
  {
   "cell_type": "code",
   "execution_count": 23,
   "id": "8a90f651",
   "metadata": {},
   "outputs": [
    {
     "name": "stdout",
     "output_type": "stream",
     "text": [
      "10\n"
     ]
    }
   ],
   "source": [
    "multiply = lambda x: (lambda y: x * y)\n",
    "\n",
    "# Usage\n",
    "double = multiply(2)  # double is now a lambda function that doubles its input\n",
    "print(double(5))"
   ]
  },
  {
   "cell_type": "code",
   "execution_count": 11,
   "id": "36a2a0e0",
   "metadata": {},
   "outputs": [
    {
     "name": "stdout",
     "output_type": "stream",
     "text": [
      "None\n"
     ]
    }
   ],
   "source": [
    "# Binary Search\n",
    "def binary(l1,element):\n",
    "    low,high = 0, len(l1)-1\n",
    "    while low < high:\n",
    "        mid = (low+high)//2\n",
    "        if l1[mid] < element:\n",
    "            low = mid+1\n",
    "        elif l1[mid] > element:\n",
    "            high = mid-1\n",
    "        else:\n",
    "            return mid\n",
    "        \n",
    "l1 = [1,2,3,4,5,6]\n",
    "print(binary(l1,7))"
   ]
  },
  {
   "cell_type": "code",
   "execution_count": 5,
   "id": "1113b432",
   "metadata": {},
   "outputs": [
    {
     "data": {
      "text/plain": [
       "{None: None}"
      ]
     },
     "execution_count": 5,
     "metadata": {},
     "output_type": "execute_result"
    }
   ],
   "source": [
    "d1 = {None:None}\n",
    "d1"
   ]
  },
  {
   "cell_type": "code",
   "execution_count": 12,
   "id": "82b5449c",
   "metadata": {},
   "outputs": [
    {
     "ename": "NameError",
     "evalue": "name 'wraps' is not defined",
     "output_type": "error",
     "traceback": [
      "\u001b[0;31m---------------------------------------------------------------------------\u001b[0m",
      "\u001b[0;31mNameError\u001b[0m                                 Traceback (most recent call last)",
      "\u001b[0;32m/var/folders/j7/0w1w2t857d50h_0kdfx21pmm0000gn/T/ipykernel_2308/3929084649.py\u001b[0m in \u001b[0;36m<module>\u001b[0;34m\u001b[0m\n\u001b[1;32m      9\u001b[0m \u001b[0;34m\u001b[0m\u001b[0m\n\u001b[1;32m     10\u001b[0m \u001b[0;34m@\u001b[0m\u001b[0mmy_decorator\u001b[0m\u001b[0;34m\u001b[0m\u001b[0;34m\u001b[0m\u001b[0m\n\u001b[0;32m---> 11\u001b[0;31m \u001b[0;32mdef\u001b[0m \u001b[0mgreet\u001b[0m\u001b[0;34m(\u001b[0m\u001b[0mname\u001b[0m\u001b[0;34m)\u001b[0m\u001b[0;34m:\u001b[0m\u001b[0;34m\u001b[0m\u001b[0;34m\u001b[0m\u001b[0m\n\u001b[0m\u001b[1;32m     12\u001b[0m     \u001b[0mprint\u001b[0m\u001b[0;34m(\u001b[0m\u001b[0;34mf\"Hello, {name}\"\u001b[0m\u001b[0;34m)\u001b[0m\u001b[0;34m\u001b[0m\u001b[0;34m\u001b[0m\u001b[0m\n\u001b[1;32m     13\u001b[0m \u001b[0;34m\u001b[0m\u001b[0m\n",
      "\u001b[0;32m/var/folders/j7/0w1w2t857d50h_0kdfx21pmm0000gn/T/ipykernel_2308/3929084649.py\u001b[0m in \u001b[0;36mmy_decorator\u001b[0;34m(f)\u001b[0m\n\u001b[1;32m      1\u001b[0m \u001b[0;32mdef\u001b[0m \u001b[0mmy_decorator\u001b[0m\u001b[0;34m(\u001b[0m\u001b[0mf\u001b[0m\u001b[0;34m)\u001b[0m\u001b[0;34m:\u001b[0m\u001b[0;34m\u001b[0m\u001b[0;34m\u001b[0m\u001b[0m\n\u001b[0;32m----> 2\u001b[0;31m     \u001b[0;34m@\u001b[0m\u001b[0mwraps\u001b[0m\u001b[0;34m(\u001b[0m\u001b[0mf\u001b[0m\u001b[0;34m)\u001b[0m\u001b[0;34m\u001b[0m\u001b[0;34m\u001b[0m\u001b[0m\n\u001b[0m\u001b[1;32m      3\u001b[0m     \u001b[0;32mdef\u001b[0m \u001b[0mwrapper\u001b[0m\u001b[0;34m(\u001b[0m\u001b[0;34m*\u001b[0m\u001b[0margs\u001b[0m\u001b[0;34m,\u001b[0m \u001b[0;34m**\u001b[0m\u001b[0mkwargs\u001b[0m\u001b[0;34m)\u001b[0m\u001b[0;34m:\u001b[0m\u001b[0;34m\u001b[0m\u001b[0;34m\u001b[0m\u001b[0m\n\u001b[1;32m      4\u001b[0m         \u001b[0mprint\u001b[0m\u001b[0;34m(\u001b[0m\u001b[0;34m\"Something is happening before the function is called.\"\u001b[0m\u001b[0;34m)\u001b[0m\u001b[0;34m\u001b[0m\u001b[0;34m\u001b[0m\u001b[0m\n\u001b[1;32m      5\u001b[0m         \u001b[0mresult\u001b[0m \u001b[0;34m=\u001b[0m \u001b[0mf\u001b[0m\u001b[0;34m(\u001b[0m\u001b[0;34m*\u001b[0m\u001b[0margs\u001b[0m\u001b[0;34m,\u001b[0m \u001b[0;34m**\u001b[0m\u001b[0mkwargs\u001b[0m\u001b[0;34m)\u001b[0m\u001b[0;34m\u001b[0m\u001b[0;34m\u001b[0m\u001b[0m\n",
      "\u001b[0;31mNameError\u001b[0m: name 'wraps' is not defined"
     ]
    }
   ],
   "source": [
    "def my_decorator(f):\n",
    "    @wraps(f)\n",
    "    def wrapper(*args, **kwargs):\n",
    "        print(\"Something is happening before the function is called.\")\n",
    "        result = f(*args, **kwargs)\n",
    "        print(\"Something is happening after the function is called.\")\n",
    "        return result\n",
    "    return wrapper\n",
    "\n",
    "@my_decorator\n",
    "def greet(name):\n",
    "    print(f\"Hello, {name}\")\n",
    "\n",
    "greet(\"Alice\")"
   ]
  },
  {
   "cell_type": "code",
   "execution_count": 3,
   "id": "618da67d",
   "metadata": {},
   "outputs": [
    {
     "data": {
      "text/plain": [
       "{('x', 1), ('y', 2)}"
      ]
     },
     "execution_count": 3,
     "metadata": {},
     "output_type": "execute_result"
    }
   ],
   "source": [
    "# intersection of dictionary\n",
    "a = { 'x' : 1, 'y' : 2, 'z' : 3 }\n",
    "b = { 'u' : 1, 'v' : 2, 'w' : 3, 'x'  : 1, 'y': 2 }\n",
    "set( a.keys() ) & set( b.keys() )       # Output set(['y', 'x'])\n",
    " \n",
    "set( a.items() ) & set( b.items() )     # Output set([('y', 2), ('x', 1)])"
   ]
  },
  {
   "cell_type": "code",
   "execution_count": null,
   "id": "7c22ed62",
   "metadata": {},
   "outputs": [],
   "source": [
    "word = 'geeks for geeks'\n",
    "  \n",
    "# Substring is searched in 'eks for geeks after 2nd postion'  \n",
    "print(word.find('ge', 2))  \n",
    "  \n",
    "# Substring is searched in 'eks for geeks'  \n",
    "print(word.find('geeks ', 2))  \n",
    "  \n",
    "# Substring is searched in 's for g from 4th to 10th position'  \n",
    "print(word.find('g', 4, 10))  \n",
    "  \n",
    "# Substring is searched in 's for g'  \n",
    "print(word.find('for ', 4, 11))"
   ]
  },
  {
   "cell_type": "code",
   "execution_count": null,
   "id": "67e10f7a",
   "metadata": {},
   "outputs": [],
   "source": [
    "import pandas as pd\n",
    "import numpy as np\n",
    "\n",
    "def adder(ele1,ele2):\n",
    "   return ele1+ele2\n",
    "\n",
    "df = pd.DataFrame(np.random.randn(5,3),columns=['col1','col2','col3'])\n",
    "\n",
    "df.pipe(adder,2)"
   ]
  },
  {
   "cell_type": "code",
   "execution_count": null,
   "id": "db08d156",
   "metadata": {},
   "outputs": [],
   "source": [
    "# Python program to demonstrate working\n",
    "# of map.\n",
    "  \n",
    "# Return double of n\n",
    "def addition(n):\n",
    "    return n + n\n",
    "  \n",
    "# We double all numbers using map()\n",
    "numbers = [1, 2, 3, 4]\n",
    "result = map(addition, numbers)\n",
    "list(result)"
   ]
  },
  {
   "cell_type": "code",
   "execution_count": 23,
   "id": "711111f0",
   "metadata": {},
   "outputs": [
    {
     "data": {
      "text/plain": [
       "{'Ten', 'Thirty', 'Twenty'}"
      ]
     },
     "execution_count": 23,
     "metadata": {},
     "output_type": "execute_result"
    }
   ],
   "source": [
    "dict1 = {'Ten': 10, 'Twenty': 20, 'Thirty': 30}\n",
    "t1 = {*dict1}\n",
    "t1"
   ]
  },
  {
   "cell_type": "code",
   "execution_count": 14,
   "id": "cbc4815e",
   "metadata": {},
   "outputs": [
    {
     "name": "stdout",
     "output_type": "stream",
     "text": [
      "{'Ten': 10, 'Twenty': 20, 'Thirty': 45, 'Fourty': 40, 'Fifty': 50}\n"
     ]
    }
   ],
   "source": [
    "# merge two dict\n",
    "dict1 = {'Ten': 10, 'Twenty': 20, 'Thirty': 30}\n",
    "dict2 = {'Thirty': 45, 'Fourty': 40, 'Fifty': 50}\n",
    "\n",
    "dict3 = {**dict1, **dict2}\n",
    "print(dict3)"
   ]
  },
  {
   "cell_type": "code",
   "execution_count": 14,
   "id": "2c207df6",
   "metadata": {},
   "outputs": [
    {
     "name": "stdout",
     "output_type": "stream",
     "text": [
      "[1, 2, 3, 4, 5]\n",
      "[100, 2, 3, 4, 5]\n"
     ]
    }
   ],
   "source": [
    "import copy\n",
    "\n",
    "list1 = [1, 2, 3, 4, 5]\n",
    "list2 = copy.copy(list1)  # Shallow copy\n",
    "\n",
    "list2[0] = 100  # Modify list2\n",
    "\n",
    "print(list1)  # Output: [1, 2, 3, 4, 5]\n",
    "print(list2)  "
   ]
  },
  {
   "cell_type": "code",
   "execution_count": null,
   "id": "36914db5",
   "metadata": {},
   "outputs": [],
   "source": [
    "## take keys from \n",
    "sampleDict = { \n",
    "  \"name\": \"Kelly\",\n",
    "  \"age\":25, \n",
    "  \"salary\": 8000, \n",
    "  \"city\": \"New york\" }\n",
    "\n",
    "keys = [\"name\", \"salary\"]\n",
    "\n",
    "newDict = {k: sampleDict[k] for k in keys}\n",
    "print(newDict)"
   ]
  },
  {
   "cell_type": "code",
   "execution_count": null,
   "id": "3d96f8dc",
   "metadata": {},
   "outputs": [],
   "source": [
    "dict1 = {'Ten': 10, 'Twenty': 20, 'Thirty': 30}\n",
    "dict2 = {'Thirty': 30, 'Fourty': 40, 'Fifty': 50}\n",
    "\n",
    "dict3 = dict1.copy()\n",
    "dict3.update(dict2)\n",
    "print(dict3)"
   ]
  },
  {
   "cell_type": "code",
   "execution_count": 14,
   "id": "a2dcde6a",
   "metadata": {},
   "outputs": [
    {
     "data": {
      "text/plain": [
       "datetime.datetime(2023, 12, 12, 0, 0)"
      ]
     },
     "execution_count": 14,
     "metadata": {},
     "output_type": "execute_result"
    }
   ],
   "source": [
    "from datetime import datetime\n",
    "datetime.strptime(\"20231212\", \"%Y%m%d\")"
   ]
  },
  {
   "cell_type": "code",
   "execution_count": 1,
   "id": "9da49709",
   "metadata": {},
   "outputs": [
    {
     "name": "stdout",
     "output_type": "stream",
     "text": [
      "0\n",
      "1\n",
      "2\n",
      "3\n",
      "4\n"
     ]
    }
   ],
   "source": [
    "def my_generator():\n",
    "    for i in range(5):\n",
    "        yield i\n",
    "\n",
    "# Using the generator\n",
    "gen = my_generator()\n",
    "for value in gen:\n",
    "    print(value)"
   ]
  },
  {
   "cell_type": "code",
   "execution_count": null,
   "id": "1fb4c765",
   "metadata": {},
   "outputs": [],
   "source": [
    "from datetime import datetime\n",
    "\n",
    "# Get the current date and time\n",
    "now = datetime.now()\n",
    "\n",
    "# Display the current date and time in multiple formats\n",
    "print(\"Default format:\", now)  # Default datetime format\n",
    "print(\"YYYY-MM-DD HH:MM:SS:\", now.strftime(\"%Y-%m-%d %H:%M:%S\"))\n",
    "print(\"DD/MM/YYYY:\", now.strftime(\"%d/%m/%Y\"))\n",
    "print(\"MM-DD-YYYY HH:MM AM/PM:\", now.strftime(\"%m-%d-%Y %I:%M %p\"))\n",
    "print(\"Day, Month DD, YYYY:\", now.strftime(\"%A, %B %d, %Y\"))\n",
    "print(\"ISO 8601 format:\", now.isoformat())  # ISO 8601 format\n",
    "print(\"Unix timestamp:\", now.timestamp())  # Timestamp in seconds since epoch"
   ]
  },
  {
   "cell_type": "code",
   "execution_count": null,
   "id": "5b2a9746",
   "metadata": {},
   "outputs": [],
   "source": [
    "from datetime import datetime\n",
    "\n",
    "# List of different date formats as strings\n",
    "date_strings = [\n",
    "    \"04/12/2024\",     # DD/MM/YYYY\n",
    "    \"12-04-2024\",     # MM-DD-YYYY\n",
    "    \"2024-12-04\",     # YYYY-MM-DD\n",
    "    \"04 Dec 2024\",    # DD MMM YYYY\n",
    "    \"2024.12.04\",     # YYYY.MM.DD\n",
    "]\n",
    "\n",
    "# List of corresponding formats\n",
    "formats = [\n",
    "    \"%d/%m/%Y\",       # DD/MM/YYYY\n",
    "    \"%m-%d-%Y\",       # MM-DD-YYYY\n",
    "    \"%Y-%m-%d\",       # YYYY-MM-DD\n",
    "    \"%d %b %Y\",       # DD MMM YYYY (abbreviated month)\n",
    "    \"%Y.%m.%d\",       # YYYY.MM.DD\n",
    "]\n",
    "\n",
    "# Parse each date string using the appropriate format\n",
    "for date_string, format_str in zip(date_strings, formats):\n",
    "    try:\n",
    "        parsed_date = datetime.strptime(date_string, format_str)\n",
    "        print(f\"Parsed '{date_string}' -> {parsed_date}\")\n",
    "    except ValueError:\n",
    "        print(f\"Could not parse '{date_string}' with format '{format_str}'\")\n"
   ]
  },
  {
   "cell_type": "code",
   "execution_count": 24,
   "id": "ab09b674",
   "metadata": {},
   "outputs": [
    {
     "name": "stdout",
     "output_type": "stream",
     "text": [
      "[1, 2, 3]\n",
      "[2, 2, 3]\n",
      "[2, 2, 3]\n"
     ]
    },
    {
     "data": {
      "text/plain": [
       "'explanation:\\nWhy Does t Appear as None?\\nThis behavior can happen if you are misinterpreting the output of print(t), x:\\n\\nprint(t), x is not valid syntax for separating print(t) and x. It is likely being \\ninterpreted as a tuple containing the output of print(t) and the variable x.\\nHere’s why:\\n\\nThe print() function in Python always returns None.\\nWriting print(t), x without properly separating the expressions (e.g., by a \\nnewline or semicolon) causes None to appear as the first part of the tuple.\\n'"
      ]
     },
     "execution_count": 24,
     "metadata": {},
     "output_type": "execute_result"
    }
   ],
   "source": [
    "# important program\n",
    "def fun(x):\n",
    "    print(x)\n",
    "    x[0]=2\n",
    "    print(x)\n",
    "    return x\n",
    "x=[1,2,3]\n",
    "print(fun(x)),x # None,[2,2,3]\n",
    "\n",
    "\n",
    "\"\"\"explanation:\n",
    "Why Does t Appear as None?\n",
    "This behavior can happen if you are misinterpreting the output of print(t), x:\n",
    "\n",
    "print(t), x is not valid syntax for separating print(t) and x. It is likely being \n",
    "interpreted as a tuple containing the output of print(t) and the variable x.\n",
    "Here’s why:\n",
    "\n",
    "The print() function in Python always returns None.\n",
    "Writing print(t), x without properly separating the expressions (e.g., by a \n",
    "newline or semicolon) causes None to appear as the first part of the tuple.\n",
    "\"\"\"\n",
    "    "
   ]
  },
  {
   "cell_type": "code",
   "execution_count": 3,
   "id": "94f997a6",
   "metadata": {},
   "outputs": [
    {
     "name": "stdout",
     "output_type": "stream",
     "text": [
      "2\n"
     ]
    }
   ],
   "source": [
    "import array\n",
    "arr = array.array('i', [1, 2, 3, 4])\n",
    "mem_view = memoryview(arr)\n",
    "print(mem_view[1])"
   ]
  },
  {
   "cell_type": "code",
   "execution_count": 9,
   "id": "86c40d18",
   "metadata": {},
   "outputs": [
    {
     "name": "stdout",
     "output_type": "stream",
     "text": [
      "bytearray(b'Hello, Python')\n"
     ]
    }
   ],
   "source": [
    "data = bytearray(b\"Hello, World!\")\n",
    "view = memoryview(data)\n",
    "\n",
    "# Modify the underlying buffer\n",
    "# view[7:12] = b\"Python\"[:5]\n",
    "view[7:13] = b\"Python\"\n",
    "print(data)  "
   ]
  },
  {
   "cell_type": "code",
   "execution_count": 5,
   "id": "64a22bbd",
   "metadata": {},
   "outputs": [
    {
     "name": "stdout",
     "output_type": "stream",
     "text": [
      "[1, 2, 3, 99]\n"
     ]
    }
   ],
   "source": [
    "my_list = [1, 2, 3]\n",
    "my_list.insert(10, 99)  # Index > length, add at end\n",
    "print(my_list)"
   ]
  },
  {
   "cell_type": "code",
   "execution_count": 4,
   "id": "aef99dc0",
   "metadata": {},
   "outputs": [
    {
     "ename": "RuntimeError",
     "evalue": "asyncio.run() cannot be called from a running event loop",
     "output_type": "error",
     "traceback": [
      "\u001b[0;31m---------------------------------------------------------------------------\u001b[0m",
      "\u001b[0;31mRuntimeError\u001b[0m                              Traceback (most recent call last)",
      "\u001b[0;32m/var/folders/j7/0w1w2t857d50h_0kdfx21pmm0000gn/T/ipykernel_2909/2169165457.py\u001b[0m in \u001b[0;36m<module>\u001b[0;34m\u001b[0m\n\u001b[1;32m     14\u001b[0m         \u001b[0mprint\u001b[0m\u001b[0;34m(\u001b[0m\u001b[0mresponse\u001b[0m\u001b[0;34m[\u001b[0m\u001b[0;34m:\u001b[0m\u001b[0;36m100\u001b[0m\u001b[0;34m]\u001b[0m\u001b[0;34m)\u001b[0m  \u001b[0;31m# Print the first 100 characters of each response\u001b[0m\u001b[0;34m\u001b[0m\u001b[0;34m\u001b[0m\u001b[0m\n\u001b[1;32m     15\u001b[0m \u001b[0;34m\u001b[0m\u001b[0m\n\u001b[0;32m---> 16\u001b[0;31m \u001b[0masyncio\u001b[0m\u001b[0;34m.\u001b[0m\u001b[0mrun\u001b[0m\u001b[0;34m(\u001b[0m\u001b[0mmain\u001b[0m\u001b[0;34m(\u001b[0m\u001b[0;34m)\u001b[0m\u001b[0;34m)\u001b[0m\u001b[0;34m\u001b[0m\u001b[0;34m\u001b[0m\u001b[0m\n\u001b[0m",
      "\u001b[0;32m/opt/homebrew/Cellar/python@3.9/3.9.15/Frameworks/Python.framework/Versions/3.9/lib/python3.9/asyncio/runners.py\u001b[0m in \u001b[0;36mrun\u001b[0;34m(main, debug)\u001b[0m\n\u001b[1;32m     31\u001b[0m     \"\"\"\n\u001b[1;32m     32\u001b[0m     \u001b[0;32mif\u001b[0m \u001b[0mevents\u001b[0m\u001b[0;34m.\u001b[0m\u001b[0m_get_running_loop\u001b[0m\u001b[0;34m(\u001b[0m\u001b[0;34m)\u001b[0m \u001b[0;32mis\u001b[0m \u001b[0;32mnot\u001b[0m \u001b[0;32mNone\u001b[0m\u001b[0;34m:\u001b[0m\u001b[0;34m\u001b[0m\u001b[0;34m\u001b[0m\u001b[0m\n\u001b[0;32m---> 33\u001b[0;31m         raise RuntimeError(\n\u001b[0m\u001b[1;32m     34\u001b[0m             \"asyncio.run() cannot be called from a running event loop\")\n\u001b[1;32m     35\u001b[0m \u001b[0;34m\u001b[0m\u001b[0m\n",
      "\u001b[0;31mRuntimeError\u001b[0m: asyncio.run() cannot be called from a running event loop"
     ]
    }
   ],
   "source": [
    "import aiohttp\n",
    "import asyncio\n",
    "\n",
    "async def fetch_url(url):\n",
    "    async with aiohttp.ClientSession() as session:\n",
    "        async with session.get(url) as response:\n",
    "            return await response.text()\n",
    "\n",
    "async def main():\n",
    "    urls = [\"https://example.com\", \"https://python.org\"]\n",
    "    tasks = [fetch_url(url) for url in urls]\n",
    "    responses = await asyncio.gather(*tasks)\n",
    "    for response in responses:\n",
    "        print(response[:100])  # Print the first 100 characters of each response\n",
    "\n",
    "asyncio.run(main())"
   ]
  },
  {
   "cell_type": "code",
   "execution_count": null,
   "id": "0120316c",
   "metadata": {},
   "outputs": [],
   "source": [
    "def remove_duplicates_preserve_order(lst):\n",
    "    seen = set()\n",
    "    result = []\n",
    "    for item in lst:\n",
    "        if item not in seen:\n",
    "            seen.add(item)\n",
    "            result.append(item)\n",
    "    return result\n",
    "\n",
    "# Example\n",
    "my_list = [1, 2, 2, 3, 4, 4, 5]\n",
    "print(remove_duplicates_preserve_order(my_list))"
   ]
  },
  {
   "cell_type": "code",
   "execution_count": 25,
   "id": "c965188c",
   "metadata": {},
   "outputs": [
    {
     "name": "stdout",
     "output_type": "stream",
     "text": [
      "ban\n"
     ]
    }
   ],
   "source": [
    "# Removing Duplicates in a String\n",
    "# If you want to remove duplicates from a string:\n",
    "\n",
    "# python\n",
    "# Copy code\n",
    "my_string = \"banana\"\n",
    "unique_string = ''.join(dict.fromkeys(my_string))\n",
    "print(unique_string)"
   ]
  },
  {
   "cell_type": "code",
   "execution_count": null,
   "id": "0caabf8c",
   "metadata": {},
   "outputs": [],
   "source": [
    "Using pandas (For DataFrames or Series)\n",
    "If you're working with pandas, use the .drop_duplicates() method for removing duplicates in a DataFrame or Series.\n",
    "\n",
    "Example (DataFrame):\n",
    "python\n",
    "Copy code\n",
    "import pandas as pd\n",
    "\n",
    "data = pd.DataFrame({\"A\": [1, 2, 2, 3], \"B\": [4, 5, 5, 6]})\n",
    "unique_data = data.drop_duplicates()\n",
    "print(unique_data)\n",
    "Example (Series):\n",
    "python\n",
    "Copy code\n",
    "import pandas as pd\n",
    "\n",
    "my_series = pd.Series([1, 2, 2, 3, 4, 4, 5])\n",
    "unique_series = my_series.drop_duplicates()\n",
    "print(unique_series.tolist())  # Output: [1, 2, 3, 4, 5]\n",
    "Best Method to Use\n",
    "If order doesn't matter: Use set().\n",
    "If order matters: Use list(dict.fromkeys()) or a loop with set.\n",
    "For large datasets: Use pandas for efficient duplicate removal.\n"
   ]
  },
  {
   "cell_type": "code",
   "execution_count": 1,
   "id": "0e333eca",
   "metadata": {},
   "outputs": [
    {
     "name": "stdout",
     "output_type": "stream",
     "text": [
      "[1, 2, 3, 4, 5]\n"
     ]
    }
   ],
   "source": [
    "def remove_duplicates_preserve_order(lst):\n",
    "    return list(dict.fromkeys(lst))\n",
    "\n",
    "# Example\n",
    "my_list = [1, 2, 2, 3, 4, 4, 5]\n",
    "print(remove_duplicates_preserve_order(my_list))"
   ]
  },
  {
   "cell_type": "code",
   "execution_count": null,
   "id": "d515fc35",
   "metadata": {},
   "outputs": [],
   "source": [
    "my_list = [1, 2, 2, 3, 4, 4, 5]\n",
    "unique_list = []\n",
    "[unique_list.append(x) for x in my_list if x not in unique_list]"
   ]
  },
  {
   "cell_type": "code",
   "execution_count": 2,
   "id": "4105d978",
   "metadata": {},
   "outputs": [
    {
     "name": "stdout",
     "output_type": "stream",
     "text": [
      "1\n",
      "2\n",
      "3\n",
      "4\n",
      "5\n",
      "6\n",
      "7\n",
      "8\n",
      "9\n",
      "yes\n",
      "final\n"
     ]
    }
   ],
   "source": [
    "def count():\n",
    "    try:\n",
    "        for i in range(1,10):\n",
    "            print(i)\n",
    "    except Exception as e:\n",
    "        print(\"not\")\n",
    "    else:\n",
    "        print(\"yes\")\n",
    "    finally:\n",
    "        print(\"final\")\n",
    "        \n",
    "count()"
   ]
  },
  {
   "cell_type": "code",
   "execution_count": 2,
   "id": "f31ffc21",
   "metadata": {},
   "outputs": [
    {
     "data": {
      "text/plain": [
       "ChainMap({'a': 1, 'b': 2}, {'b': 3, 'c': 4})"
      ]
     },
     "execution_count": 2,
     "metadata": {},
     "output_type": "execute_result"
    }
   ],
   "source": [
    "from collections import ChainMap\n",
    "\n",
    "dict1 = {'a': 1, 'b': 2}\n",
    "dict2 = {'b': 3, 'c': 4}\n",
    "cm = ChainMap(dict1, dict2)\n",
    "cm"
   ]
  },
  {
   "cell_type": "code",
   "execution_count": 1,
   "id": "37d345f5",
   "metadata": {},
   "outputs": [
    {
     "name": "stdout",
     "output_type": "stream",
     "text": [
      "Total Number of elements :  18\n"
     ]
    }
   ],
   "source": [
    "nestedList = [2 ,3, [44,55,66], 66, [5,6,7, [1,2,3], 6] , 10, [11, [12, [13, 24]]]]\n",
    "\n",
    "def getSizeOfNestedList(listOfElem):\n",
    "    ''' Get number of elements in a nested list'''\n",
    "    count = 0\n",
    "    # Iterate over the list\n",
    "    for elem in listOfElem:\n",
    "        # Check if type of element is list\n",
    "        if type(elem) == list:  \n",
    "            # Again call this function to get the size of this element\n",
    "            count += getSizeOfNestedList(elem)\n",
    "        else:\n",
    "            count += 1    \n",
    "    return count\n",
    "count = getSizeOfNestedList(nestedList)\n",
    " \n",
    "print('Total Number of elements : ', count)"
   ]
  },
  {
   "cell_type": "code",
   "execution_count": null,
   "id": "845d22ef",
   "metadata": {},
   "outputs": [],
   "source": [
    "s1 = \"abcdefggggggghhhhhhhh\"\n",
    "sub_string = ''\n"
   ]
  },
  {
   "cell_type": "code",
   "execution_count": null,
   "id": "c905ca00",
   "metadata": {},
   "outputs": [],
   "source": [
    "#Find the index of value in Numpy Array using numpy.where()\n",
    "\n",
    "import numpy as np\n",
    "# Create a numpy array from a list of numbers\n",
    "arr = np.array([11, 12, 13, 14, 15, 16, 17, 15, 11, 12, 14, 15, 16, 17])\n",
    "result = np.where(arr == 15)\n",
    "print(\"Elements with value 15 exists at following indices\", result[0], sep='\\n')\n",
    "print('Tuple of arrays returned : ', result)"
   ]
  },
  {
   "cell_type": "code",
   "execution_count": null,
   "id": "17cfb46a",
   "metadata": {},
   "outputs": [],
   "source": [
    "# List of strings \n",
    "l = ['sat', 'bat', 'cat', 'mat'] \n",
    "  \n",
    "# map() can listify the list of strings individually \n",
    "test = list(map(set, l)) \n",
    "print(test) "
   ]
  },
  {
   "cell_type": "code",
   "execution_count": 3,
   "id": "4e62d9be",
   "metadata": {},
   "outputs": [
    {
     "name": "stdout",
     "output_type": "stream",
     "text": [
      "Found at index: 2\n",
      "'ll' exists in the text.\n"
     ]
    }
   ],
   "source": [
    "text = \"Hello, world!\"\n",
    "substring = \"ll\"\n",
    "\n",
    "# Using find()\n",
    "position = text.find(substring)\n",
    "if position != -1:\n",
    "    print(f\"Found at index: {position}\")\n",
    "else:\n",
    "    print(\"Not found\")\n",
    "\n",
    "# Using 'in' keyword\n",
    "if substring in text:\n",
    "    print(f\"'{substring}' exists in the text.\")\n"
   ]
  },
  {
   "cell_type": "code",
   "execution_count": null,
   "id": "0082fc94",
   "metadata": {},
   "outputs": [],
   "source": [
    "# Python program to illustrate the intersection \n",
    "# of two lists, sublists and use of filter() \n",
    "def intersection(lst1, lst2): \n",
    "    lst3 = [list(filter(lambda x: x in lst1, sublist)) for sublist in lst2] \n",
    "    return lst3 \n",
    "  \n",
    "# Driver Code \n",
    "lst1 = [1, 6, 7, 10, 13, 28, 32, 41, 58, 63] \n",
    "lst2 = [[13, 17, 18, 21, 32], [7, 11, 13, 14, 28], [1, 5, 6, 8, 15, 16]] \n",
    "print(intersection(lst1, lst2)) "
   ]
  },
  {
   "cell_type": "code",
   "execution_count": null,
   "id": "c32ab45b",
   "metadata": {},
   "outputs": [],
   "source": [
    "list(set(l1) & set(l2)) "
   ]
  },
  {
   "cell_type": "code",
   "execution_count": 8,
   "id": "7ae6da07",
   "metadata": {},
   "outputs": [
    {
     "name": "stdout",
     "output_type": "stream",
     "text": [
      "[3, 4]\n"
     ]
    }
   ],
   "source": [
    "l1=[1,2,3,4]\n",
    "l2=[3,4,5,6]\n",
    "list3 = [val for val in l1 if val in l2]\n",
    "print(list3)"
   ]
  },
  {
   "cell_type": "code",
   "execution_count": 3,
   "id": "11d01913",
   "metadata": {},
   "outputs": [
    {
     "data": {
      "text/plain": [
       "[(1, 2, 3), (4, 5, 6), (7, 8, 9)]"
      ]
     },
     "execution_count": 3,
     "metadata": {},
     "output_type": "execute_result"
    }
   ],
   "source": [
    "#How To Split A Python List Into Evenly Sized Chunks\n",
    "x = [1,2,3,4,5,6,7,8,9]\n",
    "\n",
    "# Split `x` up in chunks of 3\n",
    "y = list(zip(*[iter(x)]*3))\n",
    "y"
   ]
  },
  {
   "cell_type": "code",
   "execution_count": null,
   "id": "036ab0af",
   "metadata": {},
   "outputs": [],
   "source": [
    "#Counting all items in a list with count()\n",
    "list=[\"a\",\"b\",\"b\"]\n",
    "[[x,list.count(x)] for x in set(list)]"
   ]
  },
  {
   "cell_type": "code",
   "execution_count": 1,
   "id": "9a3b8616",
   "metadata": {},
   "outputs": [
    {
     "data": {
      "text/plain": [
       "20"
      ]
     },
     "execution_count": 1,
     "metadata": {},
     "output_type": "execute_result"
    }
   ],
   "source": [
    "class A:\n",
    "    a =10\n",
    "    \n",
    "obj = A\n",
    "obj.a =20\n",
    "obj.a"
   ]
  },
  {
   "cell_type": "code",
   "execution_count": 2,
   "id": "580ce62a",
   "metadata": {},
   "outputs": [
    {
     "name": "stdout",
     "output_type": "stream",
     "text": [
      "None\n"
     ]
    }
   ],
   "source": [
    "l1 = [1,2]\n",
    "l2 = l1.extend(l1)\n",
    "print(l2)"
   ]
  },
  {
   "cell_type": "code",
   "execution_count": 9,
   "id": "ee61360c",
   "metadata": {},
   "outputs": [
    {
     "data": {
      "text/plain": [
       "[2]"
      ]
     },
     "execution_count": 9,
     "metadata": {},
     "output_type": "execute_result"
    }
   ],
   "source": [
    "l1=[1,2,3,4]\n",
    "l1[-3::-2]\n",
    "# print(l1[1::])\n",
    "# print(l1[::2])\n",
    "# print(l1[::-1])\n",
    "# print(l1[::-2])\n",
    "\n",
    "# print(l1[-0:])\n",
    "# print(l1[-2:])\n",
    "# print(l1[-1:])\n",
    "# print(l1[:-2])\n",
    "\n",
    "# l1=[1,2,3,4]\n",
    "# print(l1[:2])\n",
    "# print(l1[:-1])\n",
    "# print(l1[:-2])"
   ]
  },
  {
   "cell_type": "code",
   "execution_count": null,
   "id": "e64df32f",
   "metadata": {},
   "outputs": [],
   "source": [
    "# word is present in text file\n",
    "with open('try1.txt') as f:\n",
    "    for i in f:\n",
    "        if 'hello' in f.read():\n",
    "            print(\"true\")"
   ]
  },
  {
   "cell_type": "code",
   "execution_count": null,
   "id": "c8a79016",
   "metadata": {},
   "outputs": [],
   "source": [
    "#occurence of word in text file \n",
    "with open(\"try1.txt\") as f:\n",
    "    contents = f.read()\n",
    "    count = contents.count(\"hello\")\n",
    "print(count,contents)"
   ]
  },
  {
   "cell_type": "code",
   "execution_count": null,
   "id": "a141bdbd",
   "metadata": {},
   "outputs": [],
   "source": [
    "logfile = open(\"try1.txt\", \"r\") \n",
    "\n",
    "wordcount=0\n",
    "my_word=\"hello\"\n",
    "for line in logfile:\n",
    "    if my_word in line.split():\n",
    "        wordcount += 1\n",
    "\n",
    "print(my_word, wordcount)"
   ]
  },
  {
   "cell_type": "code",
   "execution_count": 1,
   "id": "c775f355",
   "metadata": {},
   "outputs": [
    {
     "ename": "NameError",
     "evalue": "name 'isSubstring' is not defined",
     "output_type": "error",
     "traceback": [
      "\u001b[0;31m---------------------------------------------------------------------------\u001b[0m",
      "\u001b[0;31mNameError\u001b[0m                                 Traceback (most recent call last)",
      "\u001b[0;32m/var/folders/j7/0w1w2t857d50h_0kdfx21pmm0000gn/T/ipykernel_1133/3228878185.py\u001b[0m in \u001b[0;36m<module>\u001b[0;34m\u001b[0m\n\u001b[1;32m      1\u001b[0m \u001b[0ms1\u001b[0m \u001b[0;34m=\u001b[0m \u001b[0;34m\"for\"\u001b[0m\u001b[0;34m\u001b[0m\u001b[0;34m\u001b[0m\u001b[0m\n\u001b[1;32m      2\u001b[0m \u001b[0ms2\u001b[0m \u001b[0;34m=\u001b[0m \u001b[0;34m\"geeksforgeeks\"\u001b[0m\u001b[0;34m\u001b[0m\u001b[0;34m\u001b[0m\u001b[0m\n\u001b[0;32m----> 3\u001b[0;31m \u001b[0mres\u001b[0m \u001b[0;34m=\u001b[0m \u001b[0misSubstring\u001b[0m\u001b[0;34m(\u001b[0m\u001b[0ms1\u001b[0m\u001b[0;34m,\u001b[0m \u001b[0ms2\u001b[0m\u001b[0;34m)\u001b[0m\u001b[0;34m\u001b[0m\u001b[0;34m\u001b[0m\u001b[0m\n\u001b[0m",
      "\u001b[0;31mNameError\u001b[0m: name 'isSubstring' is not defined"
     ]
    }
   ],
   "source": [
    "s1 = \"for\"\n",
    "s2 = \"geeksforgeeks\"\n",
    "res = isSubstring(s1, s2) "
   ]
  },
  {
   "cell_type": "code",
   "execution_count": null,
   "id": "9fe1bd85",
   "metadata": {},
   "outputs": [],
   "source": [
    "# Prints the string by replacing only 3 occurrence of Geeks   \n",
    "print(string.replace(\"geeks\", \"GeeksforGeeks\", 3))"
   ]
  },
  {
   "cell_type": "code",
   "execution_count": null,
   "id": "e271a569",
   "metadata": {},
   "outputs": [],
   "source": [
    "# Python program to remove vowels from a string \n",
    "# Function to remove vowels \n",
    "def rem_vowel(string): \n",
    "    vowels = ('a', 'e', 'i', 'o', 'u')  \n",
    "    for x in string.lower(): \n",
    "        if x in vowels: \n",
    "            string = string.replace(x, \"\") "
   ]
  },
  {
   "cell_type": "code",
   "execution_count": 4,
   "id": "94b4a80b",
   "metadata": {},
   "outputs": [
    {
     "ename": "TypeError",
     "evalue": "unhashable type: 'set'",
     "output_type": "error",
     "traceback": [
      "\u001b[0;31m---------------------------------------------------------------------------\u001b[0m",
      "\u001b[0;31mTypeError\u001b[0m                                 Traceback (most recent call last)",
      "\u001b[0;32m/var/folders/j7/0w1w2t857d50h_0kdfx21pmm0000gn/T/ipykernel_3284/1695497759.py\u001b[0m in \u001b[0;36m<module>\u001b[0;34m\u001b[0m\n\u001b[1;32m      1\u001b[0m \u001b[0mset_of_frozensets\u001b[0m \u001b[0;34m=\u001b[0m \u001b[0;34m{\u001b[0m\u001b[0mfrozenset\u001b[0m\u001b[0;34m(\u001b[0m\u001b[0;34m[\u001b[0m\u001b[0;36m1\u001b[0m\u001b[0;34m,\u001b[0m \u001b[0;36m2\u001b[0m\u001b[0;34m]\u001b[0m\u001b[0;34m)\u001b[0m\u001b[0;34m,\u001b[0m \u001b[0mfrozenset\u001b[0m\u001b[0;34m(\u001b[0m\u001b[0;34m[\u001b[0m\u001b[0;36m3\u001b[0m\u001b[0;34m,\u001b[0m \u001b[0;36m4\u001b[0m\u001b[0;34m]\u001b[0m\u001b[0;34m)\u001b[0m\u001b[0;34m}\u001b[0m\u001b[0;34m\u001b[0m\u001b[0;34m\u001b[0m\u001b[0m\n\u001b[0;32m----> 2\u001b[0;31m \u001b[0mset_of_normalsets\u001b[0m \u001b[0;34m=\u001b[0m \u001b[0;34m{\u001b[0m\u001b[0;34m{\u001b[0m\u001b[0;36m1\u001b[0m\u001b[0;34m,\u001b[0m\u001b[0;36m2\u001b[0m\u001b[0;34m}\u001b[0m\u001b[0;34m,\u001b[0m\u001b[0;34m{\u001b[0m\u001b[0;36m2\u001b[0m\u001b[0;34m,\u001b[0m\u001b[0;36m3\u001b[0m\u001b[0;34m}\u001b[0m\u001b[0;34m}\u001b[0m\u001b[0;34m\u001b[0m\u001b[0;34m\u001b[0m\u001b[0m\n\u001b[0m",
      "\u001b[0;31mTypeError\u001b[0m: unhashable type: 'set'"
     ]
    }
   ],
   "source": [
    "set_of_frozensets = {frozenset([1, 2]), frozenset([3, 4])}\n",
    "# set_of_normalsets = {{1,2},{2,3}} error"
   ]
  },
  {
   "cell_type": "code",
   "execution_count": 6,
   "id": "cf9771fa",
   "metadata": {},
   "outputs": [
    {
     "data": {
      "text/plain": [
       "{1, 2, 3, 4, 5, 'aadi'}"
      ]
     },
     "execution_count": 6,
     "metadata": {},
     "output_type": "execute_result"
    }
   ],
   "source": [
    "people = {\"aadi\"}\n",
    "for i in range(1, 6):  \n",
    "    people.add(i)  \n",
    "people"
   ]
  },
  {
   "cell_type": "code",
   "execution_count": 13,
   "id": "0882e069",
   "metadata": {},
   "outputs": [
    {
     "data": {
      "text/plain": [
       "0"
      ]
     },
     "execution_count": 13,
     "metadata": {},
     "output_type": "execute_result"
    }
   ],
   "source": [
    "len('')"
   ]
  },
  {
   "cell_type": "code",
   "execution_count": 2,
   "id": "5416d424",
   "metadata": {},
   "outputs": [
    {
     "data": {
      "text/plain": [
       "['Geeks', 2, 'For', 4, 'geek', '6']"
      ]
     },
     "execution_count": 2,
     "metadata": {},
     "output_type": "execute_result"
    }
   ],
   "source": [
    "lt = [('Geeks', 2), ('For', 4), ('geek', '6')] \n",
    "li = [item for t in lt for item in t]\n",
    "li"
   ]
  },
  {
   "cell_type": "code",
   "execution_count": null,
   "id": "5df4de15",
   "metadata": {},
   "outputs": [],
   "source": [
    "l1 = [1, 2, [3, 4, [5,[50], 6]], 7, 8, [9, [10,11,[12,[13]]]],16] \n",
    "output=[]\n",
    "def remove(l1):\n",
    "    for i in l1:\n",
    "        if isinstance(i,list):\n",
    "            remove(i)\n",
    "        else:\n",
    "            output.append(i)\n",
    "remove(l1)\n",
    "print(output)"
   ]
  },
  {
   "cell_type": "code",
   "execution_count": null,
   "id": "3bb30c8f",
   "metadata": {},
   "outputs": [],
   "source": [
    "ini_dict = {'a': 1, 'b': 2, 'c': 3, 'd': 2, 'e': 3}\n",
    "\n",
    "# Dictionary to store values and their associated keys\n",
    "value_to_keys = {}\n",
    "\n",
    "for key, value in ini_dict.items():\n",
    "    if value not in value_to_keys:\n",
    "        value_to_keys[value] = [key]\n",
    "    else:\n",
    "        value_to_keys[value].append(key)\n",
    "\n",
    "# Filtering to keep only duplicate values\n",
    "duplicates = {value: keys for value, keys in value_to_keys.items() if len(keys) > 1}\n",
    "\n",
    "print(\"Duplicate values with their keys:\", duplicates)"
   ]
  },
  {
   "cell_type": "code",
   "execution_count": 5,
   "id": "44f27698",
   "metadata": {},
   "outputs": [
    {
     "name": "stdout",
     "output_type": "stream",
     "text": [
      "a2b2c2a2d2b2\n"
     ]
    }
   ],
   "source": [
    "def compress_string(s):\n",
    "    result = []\n",
    "    count = 1  # To count the occurrences of each character\n",
    "\n",
    "    for i in range(1, len(s)):\n",
    "        if s[i] == s[i - 1]:\n",
    "            count += 1  # Increment count if the character is the same as the previous one\n",
    "        else:\n",
    "            result.append(s[i - 1] + str(count))  # Add character and count to the result\n",
    "            count = 1  # Reset count for the next character\n",
    "    \n",
    "    # Add the last group\n",
    "    result.append(s[-1] + str(count))\n",
    "    \n",
    "    return ''.join(result)\n",
    "\n",
    "# Input string\n",
    "input_string = \"aabbccaaddbb\"\n",
    "compressed_string = compress_string(input_string)\n",
    "print(compressed_string)\n"
   ]
  },
  {
   "cell_type": "code",
   "execution_count": null,
   "id": "9eb68779",
   "metadata": {},
   "outputs": [],
   "source": [
    "def Merge(dict1, dict2): \n",
    "    return(dict1.update(dict2)) \n",
    "      \n",
    "# Driver code \n",
    "dict1 = {'a': 10, 'b': 8} \n",
    "dict2 = {'a': 6, 'c': 4} \n",
    "  \n",
    "# This return None \n",
    "print(Merge(dict1, dict2)) "
   ]
  },
  {
   "cell_type": "code",
   "execution_count": 1,
   "id": "223de6ef",
   "metadata": {},
   "outputs": [
    {
     "name": "stdout",
     "output_type": "stream",
     "text": [
      "14\n"
     ]
    }
   ],
   "source": [
    "def myWrapper(k):\n",
    "    return lambda p,b : b * k\n",
    "\n",
    "mulFive = myWrapper(2)\n",
    "print(mulFive(4,7))"
   ]
  },
  {
   "cell_type": "code",
   "execution_count": 4,
   "id": "949b8393",
   "metadata": {},
   "outputs": [
    {
     "data": {
      "text/plain": [
       "['hyd', 'chennai', 'mumbai', 'delhi']"
      ]
     },
     "execution_count": 4,
     "metadata": {},
     "output_type": "execute_result"
    }
   ],
   "source": [
    "s1 = \"hyd#chennai#mumbai#delhi\"\n",
    "s1.split('#')\n",
    "# def city_name(string):\n",
    "#     temp = ''\n",
    "#     for char in s1:\n",
    "#         if char != '#':\n",
    "#             temp+=char\n",
    "            \n",
    "#         else:\n",
    "#             print(temp)\n",
    "#             temp = ''\n",
    "#     print(temp)\n",
    "    \n",
    "# city_name(s1)\n"
   ]
  },
  {
   "cell_type": "code",
   "execution_count": null,
   "id": "04db3a60",
   "metadata": {},
   "outputs": [
    {
     "name": "stdout",
     "output_type": "stream",
     "text": [
      "In 9966 Seconds WhatsApp will open and after 15 Seconds Message will be Delivered!\n"
     ]
    }
   ],
   "source": [
    "import pywhatkit\n",
    "pywhatkit.sendwhatmsg(\"+917428640761\", \"Hi\", 1, 50)"
   ]
  },
  {
   "cell_type": "code",
   "execution_count": null,
   "id": "39b74d68",
   "metadata": {},
   "outputs": [],
   "source": [
    "import pywhatkit\n",
    "pywhatkit.sendwhatmsg(\"+919968725054\", \"Hi\", 1, 50)"
   ]
  },
  {
   "cell_type": "code",
   "execution_count": 3,
   "id": "1beb7e36",
   "metadata": {},
   "outputs": [
    {
     "name": "stdout",
     "output_type": "stream",
     "text": [
      "Final counter value: 1527839\n"
     ]
    }
   ],
   "source": [
    "import threading\n",
    "\n",
    "counter = 0\n",
    "\n",
    "def increment_counter():\n",
    "    global counter\n",
    "    for _ in range(10**6):\n",
    "        counter += 1\n",
    "\n",
    "# Create two threads\n",
    "thread1 = threading.Thread(target=increment_counter)\n",
    "thread2 = threading.Thread(target=increment_counter)\n",
    "\n",
    "# Start both threads\n",
    "thread1.start()\n",
    "thread2.start()\n",
    "\n",
    "# Wait for both threads to finish\n",
    "thread1.join()\n",
    "thread2.join()\n",
    "\n",
    "print(\"Final counter value:\", counter)"
   ]
  },
  {
   "cell_type": "code",
   "execution_count": 1,
   "id": "852b619a",
   "metadata": {},
   "outputs": [
    {
     "name": "stdout",
     "output_type": "stream",
     "text": [
      "Calling add with (3, 4) and {}\n",
      "add returned 7\n"
     ]
    },
    {
     "data": {
      "text/plain": [
       "7"
      ]
     },
     "execution_count": 1,
     "metadata": {},
     "output_type": "execute_result"
    }
   ],
   "source": [
    "# functionality of decorators\n",
    "\n",
    "def debug(func):\n",
    "    def wrapper(*args, **kwargs):\n",
    "        print(f\"Calling {func.__name__} with {args} and {kwargs}\")\n",
    "        result = func(*args, **kwargs)\n",
    "        print(f\"{func.__name__} returned {result}\")\n",
    "        return result\n",
    "    return wrapper\n",
    "\n",
    "@debug\n",
    "def add(a, b):\n",
    "    return a + b\n",
    "\n",
    "add(3, 4)"
   ]
  },
  {
   "cell_type": "code",
   "execution_count": 4,
   "id": "6ef4ec0d",
   "metadata": {},
   "outputs": [
    {
     "name": "stdout",
     "output_type": "stream",
     "text": [
      "Wrapper before function call\n",
      "Hello, Alice!\n",
      "Wrapper after function call\n"
     ]
    }
   ],
   "source": [
    "def my_decorator(func):\n",
    "    def wrapper(*args, **kwargs):  # Allow any number of arguments\n",
    "        print(\"Wrapper before function call\")\n",
    "        result = func(*args, **kwargs)  # Call the original function with all arguments\n",
    "        print(\"Wrapper after function call\")\n",
    "        return result\n",
    "    return wrapper\n",
    "\n",
    "@my_decorator\n",
    "def greet(name):\n",
    "    print(f\"Hello, {name}!\")\n",
    "\n",
    "greet(\"Alice\")"
   ]
  },
  {
   "cell_type": "code",
   "execution_count": 1,
   "id": "1bbc99b8",
   "metadata": {},
   "outputs": [
    {
     "name": "stdout",
     "output_type": "stream",
     "text": [
      "greet\n",
      "Greets a person by name.\n"
     ]
    }
   ],
   "source": [
    "from functools import wraps\n",
    "\n",
    "def my_decorator(func):\n",
    "    @wraps(func)  # This will copy the original function’s metadata\n",
    "    def wrapper(*args, **kwargs):\n",
    "        print(\"Before the function call\")\n",
    "        result = func(*args, **kwargs)\n",
    "        print(\"After the function call\")\n",
    "        return result\n",
    "    return wrapper\n",
    "\n",
    "@my_decorator\n",
    "def greet(name):\n",
    "    \"\"\"Greets a person by name.\"\"\"\n",
    "    print(f\"Hello, {name}!\")\n",
    "\n",
    "print(greet.__name__)  # Output: greet\n",
    "print(greet.__doc__)  "
   ]
  },
  {
   "cell_type": "code",
   "execution_count": 3,
   "id": "ecd1980d",
   "metadata": {},
   "outputs": [
    {
     "ename": "NameError",
     "evalue": "name 'j' is not defined",
     "output_type": "error",
     "traceback": [
      "\u001b[0;31m---------------------------------------------------------------------------\u001b[0m",
      "\u001b[0;31mNameError\u001b[0m                                 Traceback (most recent call last)",
      "\u001b[0;32m/var/folders/j7/0w1w2t857d50h_0kdfx21pmm0000gn/T/ipykernel_2123/2541867609.py\u001b[0m in \u001b[0;36m<module>\u001b[0;34m\u001b[0m\n\u001b[1;32m      1\u001b[0m \u001b[0;32mfor\u001b[0m \u001b[0mi\u001b[0m \u001b[0;32min\u001b[0m \u001b[0mrange\u001b[0m\u001b[0;34m(\u001b[0m\u001b[0;36m10\u001b[0m\u001b[0;34m)\u001b[0m\u001b[0;34m:\u001b[0m\u001b[0;34m\u001b[0m\u001b[0;34m\u001b[0m\u001b[0m\n\u001b[0;32m----> 2\u001b[0;31m     \u001b[0;32mfor\u001b[0m \u001b[0mj\u001b[0m \u001b[0;32min\u001b[0m \u001b[0mrange\u001b[0m\u001b[0;34m(\u001b[0m\u001b[0;36m0\u001b[0m\u001b[0;34m,\u001b[0m\u001b[0;36m10\u001b[0m\u001b[0;34m-\u001b[0m\u001b[0mi\u001b[0m\u001b[0;34m-\u001b[0m\u001b[0mj\u001b[0m\u001b[0;34m)\u001b[0m\u001b[0;34m:\u001b[0m\u001b[0;34m\u001b[0m\u001b[0;34m\u001b[0m\u001b[0m\n\u001b[0m\u001b[1;32m      3\u001b[0m         \u001b[0mprint\u001b[0m\u001b[0;34m(\u001b[0m\u001b[0;34m\"yes\"\u001b[0m\u001b[0;34m)\u001b[0m\u001b[0;34m\u001b[0m\u001b[0;34m\u001b[0m\u001b[0m\n",
      "\u001b[0;31mNameError\u001b[0m: name 'j' is not defined"
     ]
    }
   ],
   "source": [
    "for i in range(10):\n",
    "    for j in range(0,10-i-j):\n",
    "        print(\"yes\")"
   ]
  },
  {
   "cell_type": "code",
   "execution_count": 8,
   "id": "a564b307",
   "metadata": {},
   "outputs": [
    {
     "name": "stdout",
     "output_type": "stream",
     "text": [
      "Hello!\n",
      "Hello!\n",
      "Hello!\n"
     ]
    }
   ],
   "source": [
    "def repeat(num_times):\n",
    "    def decorator(func):\n",
    "        @wraps(func)\n",
    "        def wrapper(*args, **kwargs):\n",
    "            for _ in range(num_times):\n",
    "                func(*args, **kwargs)\n",
    "        return wrapper\n",
    "    return decorator\n",
    "\n",
    "@repeat(3)  # Repeat the function call 3 times\n",
    "def say_hello():\n",
    "    print(\"Hello!\")\n",
    "\n",
    "say_hello()"
   ]
  },
  {
   "cell_type": "code",
   "execution_count": 9,
   "id": "0090f610",
   "metadata": {},
   "outputs": [
    {
     "name": "stdout",
     "output_type": "stream",
     "text": [
      "Alice\n"
     ]
    }
   ],
   "source": [
    "class Person:\n",
    "    def __init__(self, name):\n",
    "        self.name = name\n",
    "\n",
    "p = Person(\"Alice\")\n",
    "\n",
    "# Using getattr to access an attribute dynamically\n",
    "print(getattr(p, 'name'))"
   ]
  },
  {
   "cell_type": "code",
   "execution_count": null,
   "id": "9c6dd956",
   "metadata": {},
   "outputs": [],
   "source": [
    "Write a program to read 100 log files and provide a test result summary\n",
    "file1.log: PASS 5; FAIL - 5\n",
    "file2.log: PASS 10; FAIL - 0\n",
    "file3.log: PASS 0; FAIL - 10\n",
    "file100.log: PASS 10; FAIL - 0"
   ]
  },
  {
   "cell_type": "code",
   "execution_count": 12,
   "id": "280c8f3e",
   "metadata": {},
   "outputs": [
    {
     "name": "stdout",
     "output_type": "stream",
     "text": [
      "[0, 1, 1, 2, 3, 5, 8, 13, 21, 34]\n"
     ]
    }
   ],
   "source": [
    "def fibo(n):\n",
    "    lis = []\n",
    "    n1,n2 = 0,1\n",
    "    count = 1\n",
    "    while count <= n:\n",
    "        if count==1:\n",
    "            lis.append(n1)\n",
    "        elif count==2:\n",
    "            lis.append(n2)\n",
    "        elif count>2:\n",
    "            temp=n1+n2\n",
    "            n1=n2\n",
    "            n2=temp\n",
    "            lis.append(temp)\n",
    "        count+=1\n",
    "    return lis\n",
    "    \n",
    "print(fibo(10))"
   ]
  },
  {
   "cell_type": "code",
   "execution_count": 3,
   "id": "7c855dea",
   "metadata": {},
   "outputs": [],
   "source": [
    "l1 = [1,2]\n",
    "l2 =  [1,2]\n",
    "l3 = l2\n",
    "# l3 is l2\n",
    "# if we assign same value to other it say true but two diff variables ans if we\n",
    "# write l1 is l2 it become False"
   ]
  },
  {
   "cell_type": "code",
   "execution_count": 12,
   "id": "a4f73bfe",
   "metadata": {},
   "outputs": [
    {
     "data": {
      "text/plain": [
       "False"
      ]
     },
     "execution_count": 12,
     "metadata": {},
     "output_type": "execute_result"
    }
   ],
   "source": [
    "import copy \n",
    "l1 = [1,2]\n",
    "l2 =  [1,2]\n",
    "l4 = copy.copy(l2)\n",
    "l4 is l1"
   ]
  },
  {
   "cell_type": "code",
   "execution_count": 14,
   "id": "81754c9e",
   "metadata": {},
   "outputs": [
    {
     "data": {
      "text/plain": [
       "[1, 2]"
      ]
     },
     "execution_count": 14,
     "metadata": {},
     "output_type": "execute_result"
    }
   ],
   "source": [
    "l5=l4.copy() # another techniques to copy\n",
    "l5"
   ]
  },
  {
   "cell_type": "code",
   "execution_count": 16,
   "id": "b743d910",
   "metadata": {},
   "outputs": [
    {
     "data": {
      "text/plain": [
       "<filter at 0x10968d970>"
      ]
     },
     "execution_count": 16,
     "metadata": {},
     "output_type": "execute_result"
    }
   ],
   "source": [
    "numbers = [1, 2, 3, 4, 5, 6]\n",
    "even_numbers = filter(lambda x: x % 2 == 0, numbers)\n",
    "# print(list(even_numbers))  # Output: [2, 4, 6]\n",
    "even_numbers # filter object"
   ]
  },
  {
   "cell_type": "code",
   "execution_count": 20,
   "id": "d8508502",
   "metadata": {},
   "outputs": [
    {
     "data": {
      "text/plain": [
       "[(3, 1), (1, 2)]"
      ]
     },
     "execution_count": 20,
     "metadata": {},
     "output_type": "execute_result"
    }
   ],
   "source": [
    "l1 = [(1,2),(3,1)]\n",
    "l2 = sorted(l1,key=lambda x:x[1])\n",
    "l2"
   ]
  },
  {
   "cell_type": "code",
   "execution_count": 23,
   "id": "44ee6095",
   "metadata": {},
   "outputs": [
    {
     "data": {
      "text/plain": [
       "[(3, 1), (1, 2)]"
      ]
     },
     "execution_count": 23,
     "metadata": {},
     "output_type": "execute_result"
    }
   ],
   "source": [
    "l1.sort(key=lambda x: x[1])\n",
    "l1"
   ]
  },
  {
   "cell_type": "code",
   "execution_count": null,
   "id": "2c22a030",
   "metadata": {},
   "outputs": [],
   "source": [
    "from functools import reduce\n",
    "numbers = [1, 2, 3, 4]\n",
    "product = reduce(lambda x, y: x * y, numbers)\n",
    "print(product)  # Output: 24"
   ]
  },
  {
   "cell_type": "code",
   "execution_count": 28,
   "id": "77e52829",
   "metadata": {},
   "outputs": [
    {
     "name": "stdout",
     "output_type": "stream",
     "text": [
      "9\n"
     ]
    }
   ],
   "source": [
    "power = lambda x: (lambda y: y ** x)\n",
    "print(power(2)(3))"
   ]
  },
  {
   "cell_type": "code",
   "execution_count": 32,
   "id": "ce11933a",
   "metadata": {},
   "outputs": [],
   "source": [
    "import json\n",
    "import csv\n",
    "\n",
    "# JSON data\n",
    "json_data = [\n",
    "    {\"name\": \"Alice\", \"age\": 25, \"city\": \"New York\"},\n",
    "    {\"name\": \"Bob\", \"age\": 30, \"city\": \"Los Angeles\"}\n",
    "]\n",
    "\n",
    "# Convert JSON to CSV\n",
    "with open(\"output.csv\", \"w\", newline='') as csvfile:\n",
    "    fieldnames = json_data[0].keys()\n",
    "    writer = csv.DictWriter(csvfile, fieldnames=fieldnames)\n",
    "    \n",
    "    writer.writeheader()\n",
    "    writer.writerows(json_data)"
   ]
  },
  {
   "cell_type": "code",
   "execution_count": 33,
   "id": "099169bd",
   "metadata": {},
   "outputs": [
    {
     "name": "stdout",
     "output_type": "stream",
     "text": [
      "{'name': 'Alice', 'age': '25', 'city': 'New York'}\n",
      "{'name': 'Bob', 'age': '30', 'city': 'Los Angeles'}\n"
     ]
    }
   ],
   "source": [
    "# Read the data back from the CSV file\n",
    "with open('output.csv', mode='r', newline='') as csvfile:\n",
    "    reader = csv.DictReader(csvfile)\n",
    "    for row in reader:\n",
    "        print(row)  # "
   ]
  },
  {
   "cell_type": "code",
   "execution_count": 1,
   "id": "30859325",
   "metadata": {},
   "outputs": [
    {
     "name": "stdout",
     "output_type": "stream",
     "text": [
      "(1, 2)\n",
      "{'a': 3, 'b': 4}\n"
     ]
    }
   ],
   "source": [
    "def func(*args, **kwargs):\n",
    "    print(args)\n",
    "    print(kwargs)\n",
    "\n",
    "func(1, 2, a=3, b=4)"
   ]
  },
  {
   "cell_type": "code",
   "execution_count": 35,
   "id": "d8d506db",
   "metadata": {},
   "outputs": [
    {
     "name": "stdout",
     "output_type": "stream",
     "text": [
      "<class 'str'>\n"
     ]
    }
   ],
   "source": [
    "import json\n",
    "\n",
    "data = {\"name\": \"Alice\", \"age\": 30, \"city\": \"New York\"}\n",
    "\n",
    "# Convert Python object to JSON string\n",
    "json_string = json.dumps(data)\n",
    "\n",
    "print(type(json_string))"
   ]
  },
  {
   "cell_type": "code",
   "execution_count": 11,
   "id": "238de4e8",
   "metadata": {},
   "outputs": [
    {
     "name": "stdout",
     "output_type": "stream",
     "text": [
      "[2]\n",
      "[2]\n",
      "[2]\n",
      "[1, 2, 3, 2]\n",
      "[2, 3]\n",
      "[2, 4]\n",
      "[10]\n"
     ]
    }
   ],
   "source": [
    "def fun(a,x=[]):\n",
    "    x.append(a)\n",
    "    return(x)\n",
    "x=[]\n",
    "print(fun(2)) \n",
    "print(fun(2,x)) \n",
    "print(fun(2,x=[])) \n",
    "print(fun(2,x=[1,2,3])) \n",
    "print(fun(3,x)) \n",
    "print(fun(4)) \n",
    "print(fun(10,x=[]))"
   ]
  },
  {
   "cell_type": "code",
   "execution_count": 4,
   "id": "a88f73fe",
   "metadata": {},
   "outputs": [
    {
     "ename": "TypeError",
     "evalue": "'int' object is not iterable",
     "output_type": "error",
     "traceback": [
      "\u001b[0;31m---------------------------------------------------------------------------\u001b[0m",
      "\u001b[0;31mTypeError\u001b[0m                                 Traceback (most recent call last)",
      "\u001b[0;32m/var/folders/j7/0w1w2t857d50h_0kdfx21pmm0000gn/T/ipykernel_1323/4269575906.py\u001b[0m in \u001b[0;36m<module>\u001b[0;34m\u001b[0m\n\u001b[1;32m      1\u001b[0m \u001b[0ml1\u001b[0m \u001b[0;34m=\u001b[0m \u001b[0;34m[\u001b[0m\u001b[0;36m1\u001b[0m\u001b[0;34m,\u001b[0m\u001b[0;36m2\u001b[0m\u001b[0;34m]\u001b[0m\u001b[0;34m\u001b[0m\u001b[0;34m\u001b[0m\u001b[0m\n\u001b[0;32m----> 2\u001b[0;31m \u001b[0ml1\u001b[0m\u001b[0;34m.\u001b[0m\u001b[0mextend\u001b[0m\u001b[0;34m(\u001b[0m\u001b[0;36m10\u001b[0m\u001b[0;34m)\u001b[0m\u001b[0;34m\u001b[0m\u001b[0;34m\u001b[0m\u001b[0m\n\u001b[0m",
      "\u001b[0;31mTypeError\u001b[0m: 'int' object is not iterable"
     ]
    }
   ],
   "source": [
    "l1 = [1,2]\n",
    "l1.extend(10)"
   ]
  },
  {
   "cell_type": "code",
   "execution_count": 1,
   "id": "8e2cc779",
   "metadata": {},
   "outputs": [
    {
     "name": "stdout",
     "output_type": "stream",
     "text": [
      "2\n",
      "4\n",
      "6\n",
      "8\n",
      "10\n",
      "12\n",
      "14\n",
      "16\n",
      "18\n"
     ]
    }
   ],
   "source": [
    "for i in range(1,10):\n",
    "    print(2*i)"
   ]
  },
  {
   "cell_type": "code",
   "execution_count": 3,
   "id": "11940db5",
   "metadata": {},
   "outputs": [
    {
     "name": "stdout",
     "output_type": "stream",
     "text": [
      "*\n",
      "**\n",
      "***\n",
      "****\n",
      "*****\n",
      "******\n",
      "*******\n",
      "********\n",
      "*********\n",
      "**********\n",
      "***********\n",
      "************\n",
      "*************\n",
      "**************\n",
      "***************\n",
      "****************\n",
      "*****************\n",
      "******************\n",
      "*******************\n"
     ]
    }
   ],
   "source": [
    "for i in range(1,20):\n",
    "    print(i*'*')"
   ]
  },
  {
   "cell_type": "code",
   "execution_count": null,
   "id": "8fd0ad9b",
   "metadata": {},
   "outputs": [],
   "source": []
  }
 ],
 "metadata": {
  "kernelspec": {
   "display_name": "Python 3 (ipykernel)",
   "language": "python",
   "name": "python3"
  },
  "language_info": {
   "codemirror_mode": {
    "name": "ipython",
    "version": 3
   },
   "file_extension": ".py",
   "mimetype": "text/x-python",
   "name": "python",
   "nbconvert_exporter": "python",
   "pygments_lexer": "ipython3",
   "version": "3.9.15"
  }
 },
 "nbformat": 4,
 "nbformat_minor": 5
}
